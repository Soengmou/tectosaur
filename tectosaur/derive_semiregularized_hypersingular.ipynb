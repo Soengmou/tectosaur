{
 "cells": [
  {
   "cell_type": "code",
   "execution_count": 1,
   "metadata": {},
   "outputs": [],
   "source": [
    "from sympy import *"
   ]
  },
  {
   "cell_type": "code",
   "execution_count": 2,
   "metadata": {},
   "outputs": [],
   "source": [
    "sm, pr = symbols('sm, pr')\n",
    "Dall = symbols('Dx, Dy, Dz')\n",
    "Dx, Dy, Dz = Dall\n",
    "nsrcx, nsrcy, nsrcz = symbols('nsrcx, nsrcy, nsrcz')\n",
    "nobsAll = symbols('nobsx, nobsy, nobsz')\n",
    "nobsx, nobsy, nobsz = nobsAll\n",
    "CsRT0, CsRT1, CsRT2 = symbols('CsRT0, CsRT1, CsRT2')\n",
    "srcb = [symbols('srcb' + str(i)) for i in range(3)]\n",
    "bsrc_surf_curl = [[symbols('bsrc_surf_curl' + str(i) + str(j)) for j in range(3)] for i in range(3)]"
   ]
  },
  {
   "cell_type": "code",
   "execution_count": 3,
   "metadata": {},
   "outputs": [],
   "source": [
    "r2 = Dx ** 2 + Dy ** 2 + Dz ** 2\n",
    "invr = 1 / sqrt(r2)\n",
    "invr3 = invr * invr * invr\n",
    "Q1 = CsRT1 * invr\n",
    "Q2 = CsRT0 * invr3\n",
    "Q3 = CsRT2 * invr3\n",
    "Q3nD = Q3 * (nsrcx * Dx + nsrcy * Dy + nsrcz * Dz)"
   ]
  },
  {
   "cell_type": "code",
   "execution_count": 4,
   "metadata": {},
   "outputs": [],
   "source": [
    "e = [[[int((i - j) * (j - k) * (k - i) / 2) for k in range(3)]\n",
    "    for j in range(3)] for i in range(3)]\n",
    "kronecker = np.array([[1,0,0],[0,1,0],[0,0,1]])"
   ]
  },
  {
   "cell_type": "code",
   "execution_count": 15,
   "metadata": {},
   "outputs": [],
   "source": [
    "Ks = [[[0 for i in range(3)] for j in range(3)] for k in range(3)]\n",
    "for d_obs in range(3):\n",
    "    for d_src in range(3):\n",
    "        for b_src in range(3):\n",
    "            Kval = 0\n",
    "            for Ij in range(3):\n",
    "                A = Q1 * e[Ij][d_obs][d_src]\n",
    "                B = 0; \n",
    "                for It in range(3):\n",
    "                    B += e[Ij][It][d_src] * Dall[It]\n",
    "                Gimk = A + Q2 * Dall[d_obs] * B\n",
    "                Kval += Gimk * bsrc_surf_curl[b_src][Ij]\n",
    "            if d_obs == d_src:\n",
    "                Kval += Q3nD * srcb[b_src]\n",
    "            Ks[d_obs][b_src][d_src] = Kval"
   ]
  },
  {
   "cell_type": "code",
   "execution_count": 17,
   "metadata": {},
   "outputs": [],
   "source": [
    "import pickle\n",
    "pickle.dump(Ks, open('../tectosaur/data/sympyT.pkl', 'wb'))"
   ]
  },
  {
   "cell_type": "code",
   "execution_count": 23,
   "metadata": {},
   "outputs": [],
   "source": [
    "Hs = [[[0 for i in range(3)] for j in range(3)] for k in range(3)]\n",
    "for b_src in range(3):\n",
    "    for d_src in range(3):\n",
    "        disp_grad = [[diff(Ks[l][b_src][d_src], Dall[m]) for m in range(3)] for l in range(3)]\n",
    "        strain = [[(disp_grad[l][m] + disp_grad[m][l]) / 2 for m in range(3)] for l in range(3)]\n",
    "        strain_trace = sum([strain[d][d] for d in range(3)])\n",
    "        lame_lambda = (2 * sm * pr) / (1 - 2 * pr)\n",
    "        stress = [[lame_lambda * strain_trace * kronecker[l,m] + 2 * sm * strain[l][m] for m in range(3)] for l in range(3)]\n",
    "        trac = [sum([stress[i][d] * nobsAll[d] for d in range(3)]) for i in range(3)]\n",
    "        for d_obs in range(3):\n",
    "            Hs[d_obs][b_src][d_src] = -trac[d_obs]"
   ]
  },
  {
   "cell_type": "code",
   "execution_count": 24,
   "metadata": {},
   "outputs": [],
   "source": [
    "pickle.dump(Hs, open('../tectosaur/data/semiregularizedH.pkl', 'wb'))"
   ]
  }
 ],
 "metadata": {
  "kernelspec": {
   "display_name": "Python 3",
   "language": "python",
   "name": "python3"
  },
  "language_info": {
   "codemirror_mode": {
    "name": "ipython",
    "version": 3
   },
   "file_extension": ".py",
   "mimetype": "text/x-python",
   "name": "python",
   "nbconvert_exporter": "python",
   "pygments_lexer": "ipython3",
   "version": "3.6.3"
  }
 },
 "nbformat": 4,
 "nbformat_minor": 2
}

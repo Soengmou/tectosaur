{
 "cells": [
  {
   "cell_type": "code",
   "execution_count": 1,
   "metadata": {},
   "outputs": [],
   "source": [
    "import numpy as np"
   ]
  },
  {
   "cell_type": "code",
   "execution_count": 176,
   "metadata": {},
   "outputs": [],
   "source": [
    "np.set_printoptions(precision=16)\n",
    "np.set_printoptions(suppress=True)"
   ]
  },
  {
   "cell_type": "code",
   "execution_count": 3,
   "metadata": {},
   "outputs": [],
   "source": [
    "def stress_to_trac(n):\n",
    "    nx, ny, nz = n\n",
    "    mat = np.array([\n",
    "        [nx, 0, 0, ny, nz, 0],\n",
    "        [0, ny, 0, nx, 0, nz],\n",
    "        [0, 0, nz, 0, nx, ny]\n",
    "    ])\n",
    "    return mat\n",
    "\n",
    "def s2t(n1, n2):\n",
    "    return np.vstack((stress_to_trac(n1), stress_to_trac(n2)))\n",
    "\n",
    "def t2s(n1, n2):\n",
    "    return np.linalg.pinv(s2t(n1, n2))\n",
    "\n",
    "def t2t(n1, n2):\n",
    "    s2t = np.vstack((stress_to_trac(n1), stress_to_trac(n2)))\n",
    "    t2s = np.linalg.pinv(s2t)\n",
    "    return s2t.dot(t2s)"
   ]
  },
  {
   "cell_type": "code",
   "execution_count": 132,
   "metadata": {},
   "outputs": [],
   "source": [
    "M = sp.Matrix([\n",
    "    [1, 0, 0, 0, 0],\n",
    "    [0, 0, 1, 0, 0],\n",
    "    [0, 0, 0, 1, 0],\n",
    "    [nxp, 0, nyp, 0, 0],\n",
    "    [0, nyp, nxp, 0, 0],\n",
    "    [0, 0, 0, nxp, nyp]\n",
    "])\n",
    "Minv = M.pinv()"
   ]
  },
  {
   "cell_type": "code",
   "execution_count": 5,
   "metadata": {},
   "outputs": [],
   "source": [
    "import sympy as sp\n",
    "nx, ny, nz, nx2, ny2, nz2 = sp.symbols('nx, ny, nz, nx2, ny2, nz2', real = True)\n",
    "nxp, nyp = sp.symbols('nxp, nyp', real = True)\n",
    "tvar = sp.symbols('t', real = True)\n",
    "M = sp.Matrix([\n",
    "    [1, 0, 0, 0, 0],\n",
    "    [0, 0, 1, 0, 0],\n",
    "    [0, 0, 0, 1, 0],\n",
    "    [nxp, 0, nyp, 0, 0],\n",
    "    [0, nyp, nxp, 0, 0],\n",
    "    [0, 0, 0, nxp, nyp]\n",
    "])\n",
    "Minv = M.pinv()\n",
    "symbolic_t2t = M * Minv\n",
    "symbolic_t2t.simplify()\n",
    "symbolic_t2t = symbolic_t2t.subs(nxp, sp.cos(tvar)).subs(nyp, sp.sin(tvar))"
   ]
  },
  {
   "cell_type": "code",
   "execution_count": 9,
   "metadata": {},
   "outputs": [],
   "source": [
    "for x in np.random.rand(100):\n",
    "    t = 2 * np.pi * x\n",
    "    symbolic = np.array(symbolic_t2t.subs(tvar, t)).astype(np.float64)\n",
    "    n1 = [1,0,0]\n",
    "    n2 = [np.cos(t), np.sin(t),0]\n",
    "    numeric = t2t(n1, n2)\n",
    "    np.testing.assert_almost_equal(symbolic, numeric)"
   ]
  },
  {
   "cell_type": "code",
   "execution_count": 154,
   "metadata": {},
   "outputs": [],
   "source": [
    "def outer(a, b):\n",
    "    return sp.Matrix([[a[i] * b[j] for j in range(3)] for i in range(3)])\n",
    "\n",
    "def rotation_matrix(axis, theta):\n",
    "    cross_mat = sp.Matrix([[0, -axis[2], axis[1]], [axis[2], 0, -axis[0]], [-axis[1], axis[0], 0]])\n",
    "    outer_mat = outer(axis, axis)\n",
    "    idmat = sp.eye(3)\n",
    "    rot_mat = sp.cos(theta) * idmat + sp.sin(theta) * cross_mat + (1 - sp.cos(theta)) * outer_mat\n",
    "    return rot_mat\n",
    "\n",
    "def L(v):\n",
    "    return sp.sqrt(sum([v[d] ** 2 for d in range(len(v))]))\n",
    "    \n",
    "def rotate_to_xaxis(v):\n",
    "    to_target = sp.Array([1, 0, 0])\n",
    "    axis = (v + to_target) / 2\n",
    "    axis_mag = L(axis)\n",
    "    if axis_mag == 0:\n",
    "        axis = sp.Array([0,0,1])\n",
    "    else:\n",
    "        axis /= axis_mag\n",
    "    theta = sp.pi\n",
    "    rot_mat = rotation_matrix(axis, theta)\n",
    "    return rot_mat\n",
    "\n",
    "def rotate2_to_xyplane(v):\n",
    "    xaxis = sp.Array([1, 0, 0])\n",
    "    yaxis = sp.Array([0, 1, 0])\n",
    "    ydot2 = v[1] / L(v[1:])\n",
    "    theta = -sp.acos(ydot2) * sp.sign(v[2])\n",
    "    rot_mat = rotation_matrix(xaxis, theta)\n",
    "    return rot_mat"
   ]
  },
  {
   "cell_type": "code",
   "execution_count": 155,
   "metadata": {},
   "outputs": [],
   "source": [
    "R1 = rotate_to_xaxis(sp.Array([nx, ny, nz]))\n",
    "R2 = rotate2_to_xyplane(R1.dot([nx2, ny2, nz2]))\n",
    "RR = R2 * R1"
   ]
  },
  {
   "cell_type": "code",
   "execution_count": 156,
   "metadata": {},
   "outputs": [],
   "source": [
    "rot_n2 = RR.dot([nx2, ny2, nz2])\n",
    "theta = sp.atan2(rot_n2[1], rot_n2[0])"
   ]
  },
  {
   "cell_type": "code",
   "execution_count": 157,
   "metadata": {},
   "outputs": [],
   "source": [
    "symbolic_R6 = sp.Matrix([[0] * 6] * 6)\n",
    "symbolic_R6[:3,:3] = RR\n",
    "symbolic_R6[3:,3:] = RR"
   ]
  },
  {
   "cell_type": "code",
   "execution_count": 158,
   "metadata": {},
   "outputs": [],
   "source": [
    "final_symbolic = symbolic_R6.T * symbolic_t2t.subs(tvar, theta) * symbolic_R6"
   ]
  },
  {
   "cell_type": "code",
   "execution_count": 180,
   "metadata": {},
   "outputs": [],
   "source": [
    "from sympy.utilities.lambdify import lambdify\n",
    "final_symbolic_fnc = lambdify([nx, ny, nz, nx2, ny2, nz2], final_symbolic[1,3])"
   ]
  },
  {
   "cell_type": "code",
   "execution_count": 160,
   "metadata": {},
   "outputs": [],
   "source": [
    "def sym_t2t(n1, n2):\n",
    "    return final_symbolic.subs([(nx, n1[0]), (ny, n1[1]), (nz, n1[2]), (nx2, n2[0]), (ny2, n2[1]), (nz2, n2[2])])"
   ]
  },
  {
   "cell_type": "code",
   "execution_count": 183,
   "metadata": {},
   "outputs": [],
   "source": [
    "for i in range(5):\n",
    "    n1 = np.random.rand(3)\n",
    "    n1 /= np.linalg.norm(n1)\n",
    "    n2 = np.random.rand(3)\n",
    "    n2 /= np.linalg.norm(n2)\n",
    "    numeric = t2t(n1, n2)\n",
    "    symbolic = sym_t2t(n1, n2)\n",
    "    np.testing.assert_almost_equal(symbolic, numeric)"
   ]
  },
  {
   "cell_type": "code",
   "execution_count": 185,
   "metadata": {},
   "outputs": [],
   "source": [
    "import pickle\n",
    "pickle.dump(final_symbolic, open('traction_admissibility_sympy.pkl', 'wb'))"
   ]
  }
 ],
 "metadata": {
  "kernelspec": {
   "display_name": "Python 3",
   "language": "python",
   "name": "python3"
  },
  "language_info": {
   "codemirror_mode": {
    "name": "ipython",
    "version": 3
   },
   "file_extension": ".py",
   "mimetype": "text/x-python",
   "name": "python",
   "nbconvert_exporter": "python",
   "pygments_lexer": "ipython3",
   "version": "3.6.6"
  }
 },
 "nbformat": 4,
 "nbformat_minor": 2
}

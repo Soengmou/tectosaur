{
 "cells": [
  {
   "cell_type": "code",
   "execution_count": 1,
   "metadata": {},
   "outputs": [],
   "source": [
    "from sage.all import *"
   ]
  },
  {
   "cell_type": "code",
   "execution_count": 3,
   "metadata": {},
   "outputs": [],
   "source": [
    "rho = var('rho')\n",
    "rhomaxvar = var('rhomax')\n",
    "eps = var('eps')\n",
    "avar = var('avar')\n",
    "avecvar = vector(var('avarx, avary, avarz'))\n",
    "n = vector(var('nsrcx, nsrcy, nsrcz'))\n",
    "assume(rhomaxvar > 0)\n",
    "assume(eps > 0)\n",
    "r2 = eps ** 2 + avar ** 2 * rho ** 2\n",
    "r = sqrt(r2)\n",
    "r3 = r2 ** (3 / 2)\n",
    "r4 = r2 ** 2\n",
    "r5 = r2 ** (5 / 2)\n",
    "sep_polar = eps * n + avecvar * rho"
   ]
  },
  {
   "cell_type": "code",
   "execution_count": 34,
   "metadata": {},
   "outputs": [
    {
     "data": {
      "text/plain": [
       "-1/(sqrt(avar^2)*avar^2*rhomax)"
      ]
     },
     "execution_count": 34,
     "metadata": {},
     "output_type": "execute_result"
    }
   ],
   "source": [
    "I1 = limit(\n",
    "    integrate(rho / r3, rho, 0, rhomaxvar)\n",
    "        .factor(eps)\n",
    "        .expand()\n",
    "        .substitute(1/eps == 0),\n",
    "    eps = 0\n",
    ").simplify_full()\n",
    "I1"
   ]
  },
  {
   "cell_type": "code",
   "execution_count": 9,
   "metadata": {},
   "outputs": [
    {
     "data": {
      "text/plain": [
       "-1/(sqrt(avar^2)*avar^2)"
      ]
     },
     "execution_count": 9,
     "metadata": {},
     "output_type": "execute_result"
    }
   ],
   "source": [
    "I2 = limit(\n",
    "    integrate(rho ** 2 / r3, rho, 0, rhomaxvar)\n",
    "        .factor(eps)\n",
    "        .expand()\n",
    "        .substitute(arcsinh(sqrt(avar ** 2)*rhomaxvar/eps) == 0),\n",
    "    eps = 0\n",
    ").simplify_full()\n",
    "I2"
   ]
  },
  {
   "cell_type": "code",
   "execution_count": 10,
   "metadata": {},
   "outputs": [
    {
     "data": {
      "text/plain": [
       "[[-sqrt(avar^2)*avarx^2/(avar^6*rhomax),\n",
       "  -sqrt(avar^2)*avarx*avary/(avar^6*rhomax),\n",
       "  -sqrt(avar^2)*avarx*avarz/(avar^6*rhomax)],\n",
       " [-sqrt(avar^2)*avarx*avary/(avar^6*rhomax),\n",
       "  -sqrt(avar^2)*avary^2/(avar^6*rhomax),\n",
       "  -sqrt(avar^2)*avary*avarz/(avar^6*rhomax)],\n",
       " [-sqrt(avar^2)*avarx*avarz/(avar^6*rhomax),\n",
       "  -sqrt(avar^2)*avary*avarz/(avar^6*rhomax),\n",
       "  -sqrt(avar^2)*avarz^2/(avar^6*rhomax)]]"
      ]
     },
     "execution_count": 10,
     "metadata": {},
     "output_type": "execute_result"
    }
   ],
   "source": [
    "I3 = [[\n",
    "        limit(\n",
    "            integrate(rho * sep_polar[i] * sep_polar[j] / r5, rho, 0, rhomaxvar)\n",
    "                .factor(eps)\n",
    "                .expand()\n",
    "                .substitute(1/eps == 0),\n",
    "            eps = 0\n",
    "        ).simplify_full() for j in range(3)\n",
    "    ] for i in range(3)\n",
    "]\n",
    "I3"
   ]
  },
  {
   "cell_type": "code",
   "execution_count": 11,
   "metadata": {},
   "outputs": [
    {
     "data": {
      "text/plain": [
       "[[1/3*(4*avar^2*avarx*nsrcx + (avar^2*nsrcx^2 - 4*avarx^2)*sqrt(avar^2))/avar^6,\n",
       "  1/3*(2*avar^2*avary*nsrcx + 2*avar^2*avarx*nsrcy + (avar^2*nsrcx*nsrcy - 4*avarx*avary)*sqrt(avar^2))/avar^6,\n",
       "  1/3*(2*avar^2*avarz*nsrcx + 2*avar^2*avarx*nsrcz + (avar^2*nsrcx*nsrcz - 4*avarx*avarz)*sqrt(avar^2))/avar^6],\n",
       " [1/3*(2*avar^2*avary*nsrcx + 2*avar^2*avarx*nsrcy + (avar^2*nsrcx*nsrcy - 4*avarx*avary)*sqrt(avar^2))/avar^6,\n",
       "  1/3*(4*avar^2*avary*nsrcy + (avar^2*nsrcy^2 - 4*avary^2)*sqrt(avar^2))/avar^6,\n",
       "  1/3*(2*avar^2*avarz*nsrcy + 2*avar^2*avary*nsrcz + (avar^2*nsrcy*nsrcz - 4*avary*avarz)*sqrt(avar^2))/avar^6],\n",
       " [1/3*(2*avar^2*avarz*nsrcx + 2*avar^2*avarx*nsrcz + (avar^2*nsrcx*nsrcz - 4*avarx*avarz)*sqrt(avar^2))/avar^6,\n",
       "  1/3*(2*avar^2*avarz*nsrcy + 2*avar^2*avary*nsrcz + (avar^2*nsrcy*nsrcz - 4*avary*avarz)*sqrt(avar^2))/avar^6,\n",
       "  1/3*(4*avar^2*avarz*nsrcz + (avar^2*nsrcz^2 - 4*avarz^2)*sqrt(avar^2))/avar^6]]"
      ]
     },
     "execution_count": 11,
     "metadata": {},
     "output_type": "execute_result"
    }
   ],
   "source": [
    "I4 = [[\n",
    "        limit(\n",
    "            integrate(rho ** 2 * sep_polar[i] * sep_polar[j] / r5, rho, 0, rhomaxvar)\n",
    "                .factor(eps)\n",
    "                .expand()\n",
    "                .substitute(arcsinh(sqrt(avar ** 2)*rhomaxvar/eps) == 0),\n",
    "            eps = 0\n",
    "        ).simplify_full() for j in range(3)\n",
    "    ] for i in range(3)\n",
    "]\n",
    "I4"
   ]
  },
  {
   "cell_type": "code",
   "execution_count": 31,
   "metadata": {},
   "outputs": [],
   "source": [
    "def fixup(expr):\n",
    "    return (str(expr)\n",
    "        .replace('[', '{')\n",
    "        .replace(']', '}')\n",
    "        .replace('avar^2', 'avar2')\n",
    "        .replace('avar^6', 'avar6')\n",
    "        .replace('avarx^2', '(avarx * avarx)')\n",
    "        .replace('avary^2', '(avary * avary)')\n",
    "        .replace('avarz^2', '(avarz * avarz)')\n",
    "        .replace('nsrcx^2', '(nsrcx * nsrcx)')\n",
    "        .replace('nsrcy^2', '(nsrcy * nsrcy)')\n",
    "        .replace('nsrcz^2', '(nsrcz * nsrcz)')\n",
    "        .replace('sqrt(avar2)', 'rootavar2')\n",
    "    )"
   ]
  },
  {
   "cell_type": "code",
   "execution_count": 36,
   "metadata": {},
   "outputs": [
    {
     "data": {
      "text/plain": [
       "'-1/(rootavar2*avar2)'"
      ]
     },
     "execution_count": 36,
     "metadata": {},
     "output_type": "execute_result"
    }
   ],
   "source": [
    "fixup(I2)"
   ]
  },
  {
   "cell_type": "code",
   "execution_count": 32,
   "metadata": {},
   "outputs": [
    {
     "name": "stdout",
     "output_type": "stream",
     "text": [
      "{{-rootavar2*(avarx * avarx)/(avar6*rhomax), -rootavar2*avarx*avary/(avar6*rhomax), -rootavar2*avarx*avarz/(avar6*rhomax)}, {-rootavar2*avarx*avary/(avar6*rhomax), -rootavar2*(avary * avary)/(avar6*rhomax), -rootavar2*avary*avarz/(avar6*rhomax)}, {-rootavar2*avarx*avarz/(avar6*rhomax), -rootavar2*avary*avarz/(avar6*rhomax), -rootavar2*(avarz * avarz)/(avar6*rhomax)}}\n"
     ]
    }
   ],
   "source": [
    "print(fixup(I3))\n",
    "assert(not '^' in fixup(I3))"
   ]
  },
  {
   "cell_type": "code",
   "execution_count": 33,
   "metadata": {},
   "outputs": [
    {
     "name": "stdout",
     "output_type": "stream",
     "text": [
      "{{1/3*(4*avar2*avarx*nsrcx + (avar2*(nsrcx * nsrcx) - 4*(avarx * avarx))*rootavar2)/avar6, 1/3*(2*avar2*avary*nsrcx + 2*avar2*avarx*nsrcy + (avar2*nsrcx*nsrcy - 4*avarx*avary)*rootavar2)/avar6, 1/3*(2*avar2*avarz*nsrcx + 2*avar2*avarx*nsrcz + (avar2*nsrcx*nsrcz - 4*avarx*avarz)*rootavar2)/avar6}, {1/3*(2*avar2*avary*nsrcx + 2*avar2*avarx*nsrcy + (avar2*nsrcx*nsrcy - 4*avarx*avary)*rootavar2)/avar6, 1/3*(4*avar2*avary*nsrcy + (avar2*(nsrcy * nsrcy) - 4*(avary * avary))*rootavar2)/avar6, 1/3*(2*avar2*avarz*nsrcy + 2*avar2*avary*nsrcz + (avar2*nsrcy*nsrcz - 4*avary*avarz)*rootavar2)/avar6}, {1/3*(2*avar2*avarz*nsrcx + 2*avar2*avarx*nsrcz + (avar2*nsrcx*nsrcz - 4*avarx*avarz)*rootavar2)/avar6, 1/3*(2*avar2*avarz*nsrcy + 2*avar2*avary*nsrcz + (avar2*nsrcy*nsrcz - 4*avary*avarz)*rootavar2)/avar6, 1/3*(4*avar2*avarz*nsrcz + (avar2*(nsrcz * nsrcz) - 4*(avarz * avarz))*rootavar2)/avar6}}\n"
     ]
    }
   ],
   "source": [
    "print(fixup(I4))\n",
    "assert(not '^' in fixup(I4))"
   ]
  },
  {
   "cell_type": "code",
   "execution_count": 37,
   "metadata": {},
   "outputs": [
    {
     "ename": "NameError",
     "evalue": "name 't' is not defined",
     "output_type": "error",
     "traceback": [
      "\u001b[0;31m---------------------------------------------------------------------------\u001b[0m",
      "\u001b[0;31mNameError\u001b[0m                                 Traceback (most recent call last)",
      "\u001b[0;32m<ipython-input-37-bdf4fb2de9cc>\u001b[0m in \u001b[0;36m<module>\u001b[0;34m()\u001b[0m\n\u001b[0;32m----> 1\u001b[0;31m \u001b[0;34m[\u001b[0m\u001b[0;34m-\u001b[0m\u001b[0mrho\u001b[0m\u001b[0;34m*\u001b[0m\u001b[0mcos\u001b[0m\u001b[0;34m(\u001b[0m\u001b[0mt\u001b[0m\u001b[0;34m)\u001b[0m \u001b[0;34m-\u001b[0m \u001b[0mrho\u001b[0m\u001b[0;34m*\u001b[0m\u001b[0msin\u001b[0m\u001b[0;34m(\u001b[0m\u001b[0mt\u001b[0m\u001b[0;34m)\u001b[0m \u001b[0;34m+\u001b[0m \u001b[0mInteger\u001b[0m\u001b[0;34m(\u001b[0m\u001b[0;36m1\u001b[0m\u001b[0;34m)\u001b[0m\u001b[0;34m,\u001b[0m \u001b[0mrho\u001b[0m\u001b[0;34m*\u001b[0m\u001b[0mcos\u001b[0m\u001b[0;34m(\u001b[0m\u001b[0mt\u001b[0m\u001b[0;34m)\u001b[0m\u001b[0;34m,\u001b[0m \u001b[0mrho\u001b[0m\u001b[0;34m*\u001b[0m\u001b[0msin\u001b[0m\u001b[0;34m(\u001b[0m\u001b[0mt\u001b[0m\u001b[0;34m)\u001b[0m\u001b[0;34m]\u001b[0m\u001b[0;34m\u001b[0m\u001b[0m\n\u001b[0m",
      "\u001b[0;31mNameError\u001b[0m: name 't' is not defined"
     ]
    }
   ],
   "source": []
  },
  {
   "cell_type": "code",
   "execution_count": 4,
   "metadata": {},
   "outputs": [],
   "source": [
    "xhat, yhat = var('xhat, yhat')\n",
    "rho, t = var('rho, t')\n",
    "eps = var('eps')\n",
    "basis = [1 - xhat - yhat, xhat, yhat]\n",
    "v1 = vector(var('x1, y1, z1'))\n",
    "v2 = vector(var('x2, y2, z2'))\n",
    "assume(eps > 0)\n",
    "assume(rho >= 0)\n",
    "assume(t <= pi / 2)\n",
    "assume(t >= 0)\n",
    "assume(cos(t) + sin(t) > 0)"
   ]
  },
  {
   "cell_type": "code",
   "execution_count": 5,
   "metadata": {},
   "outputs": [],
   "source": [
    "def cross(x, y):\n",
    "    return [\n",
    "        x[1] * y[2] - x[2] * y[1],\n",
    "        x[2] * y[0] - x[0] * y[2],\n",
    "        x[0] * y[1] - x[1] * y[0]\n",
    "    ]\n",
    "# n = cross(v1, v2)\n",
    "# n = [n[j] / sum([n[i] * n[i] for i in range(3)]) for j in range(3)]\n",
    "n = vector(var('n1, n2, n3'))\n",
    "sep = v1 * xhat + v2 * yhat + eps * n"
   ]
  },
  {
   "cell_type": "code",
   "execution_count": 6,
   "metadata": {},
   "outputs": [
    {
     "data": {
      "text/plain": [
       "1/6"
      ]
     },
     "execution_count": 6,
     "metadata": {},
     "output_type": "execute_result"
    }
   ],
   "source": [
    "integrate(integrate(\n",
    "    basis[2].subs(xhat = rho * cos(t), yhat = rho * sin(t)) * rho,\n",
    "    rho, 0, 1 / (cos(t) + sin(t))),\n",
    "    t, 0, pi/2\n",
    ")"
   ]
  },
  {
   "cell_type": "code",
   "execution_count": 7,
   "metadata": {},
   "outputs": [],
   "source": [
    "def to_polar(ex):\n",
    "    return ex.subs(xhat = rho * cos(t), yhat = rho * sin(t))"
   ]
  },
  {
   "cell_type": "code",
   "execution_count": 8,
   "metadata": {},
   "outputs": [],
   "source": [
    "basis_polar = [to_polar(basis[i]) for i in range(3)]\n",
    "sep_polar = to_polar(sep)"
   ]
  },
  {
   "cell_type": "code",
   "execution_count": 9,
   "metadata": {},
   "outputs": [],
   "source": [
    "a = vector([\n",
    "    x1 * cos(t) + x2 * sin(t),\n",
    "    y1 * cos(t) + y2 * sin(t),\n",
    "    z1 * cos(t) + z2 * sin(t)\n",
    "])"
   ]
  },
  {
   "cell_type": "code",
   "execution_count": 10,
   "metadata": {},
   "outputs": [],
   "source": [
    "sep_polar = eps * n + a * rho"
   ]
  },
  {
   "cell_type": "code",
   "execution_count": 11,
   "metadata": {},
   "outputs": [],
   "source": [
    "r2 = eps ** 2 + a * a * rho ** 2"
   ]
  },
  {
   "cell_type": "code",
   "execution_count": 12,
   "metadata": {},
   "outputs": [
    {
     "data": {
      "text/plain": [
       "[-rho*cos(t) - rho*sin(t) + 1, rho*cos(t), rho*sin(t)]"
      ]
     },
     "execution_count": 12,
     "metadata": {},
     "output_type": "execute_result"
    }
   ],
   "source": [
    "basis_polar"
   ]
  },
  {
   "cell_type": "code",
   "execution_count": 13,
   "metadata": {},
   "outputs": [],
   "source": [
    "rhomax = 1/(cos(t) + sin(t))"
   ]
  },
  {
   "cell_type": "code",
   "execution_count": 14,
   "metadata": {},
   "outputs": [
    {
     "data": {
      "text/plain": [
       "(eps*n1 + (x1*cos(t) + x2*sin(t))*rho, eps*n2 + (y1*cos(t) + y2*sin(t))*rho, eps*n3 + (z1*cos(t) + z2*sin(t))*rho)"
      ]
     },
     "execution_count": 14,
     "metadata": {},
     "output_type": "execute_result"
    }
   ],
   "source": [
    "sep_polar"
   ]
  },
  {
   "cell_type": "code",
   "execution_count": 15,
   "metadata": {},
   "outputs": [],
   "source": [
    "rhomaxvar = var('rhomaxvar')\n",
    "avar = var('avar')\n",
    "avecvar = vector(var('avar1, avar2, avar3'))\n",
    "assume(rhomaxvar > 0)\n",
    "r2 = eps ** 2 + avar ** 2 * rho ** 2\n",
    "r = sqrt(r2)\n",
    "r3 = r2 ** (3 / 2)\n",
    "r4 = r2 ** 2\n",
    "r5 = r2 ** (5 / 2)\n",
    "sep_polar = eps * n + avecvar * rho"
   ]
  },
  {
   "cell_type": "code",
   "execution_count": 16,
   "metadata": {},
   "outputs": [
    {
     "data": {
      "text/plain": [
       "rhomaxvar/(sqrt(avar^2*rhomaxvar^2 + eps^2)*eps^2)"
      ]
     },
     "execution_count": 16,
     "metadata": {},
     "output_type": "execute_result"
    }
   ],
   "source": [
    "I1 = integrate(1 / r3, rho, 0, rhomaxvar).factor(eps) #completely singular\n",
    "I1"
   ]
  },
  {
   "cell_type": "code",
   "execution_count": 17,
   "metadata": {},
   "outputs": [
    {
     "data": {
      "text/plain": [
       "arctan(avar*rhomaxvar/eps)/(avar*eps)"
      ]
     },
     "execution_count": 17,
     "metadata": {},
     "output_type": "execute_result"
    }
   ],
   "source": [
    "I2 = integrate(1 / r2, rho, 0, rhomaxvar).factor(eps) #completely singular\n",
    "I2"
   ]
  },
  {
   "cell_type": "code",
   "execution_count": 71,
   "metadata": {},
   "outputs": [
    {
     "data": {
      "text/plain": [
       "[[1/3*(4*avar^2*avar1*n1*rhomaxvar + (avar^2*n1^2 - 4*avar1^2)*sqrt(avar^2)*rhomaxvar)/(avar^6*rhomaxvar),\n",
       "  1/3*((avar^2*n1*n2 - 4*avar1*avar2)*sqrt(avar^2)*rhomaxvar + 2*(avar^2*avar2*n1 + avar^2*avar1*n2)*rhomaxvar)/(avar^6*rhomaxvar),\n",
       "  1/3*((avar^2*n1*n3 - 4*avar1*avar3)*sqrt(avar^2)*rhomaxvar + 2*(avar^2*avar3*n1 + avar^2*avar1*n3)*rhomaxvar)/(avar^6*rhomaxvar)],\n",
       " [1/3*((avar^2*n1*n2 - 4*avar1*avar2)*sqrt(avar^2)*rhomaxvar + 2*(avar^2*avar2*n1 + avar^2*avar1*n2)*rhomaxvar)/(avar^6*rhomaxvar),\n",
       "  1/3*(4*avar^2*avar2*n2*rhomaxvar + (avar^2*n2^2 - 4*avar2^2)*sqrt(avar^2)*rhomaxvar)/(avar^6*rhomaxvar),\n",
       "  1/3*((avar^2*n2*n3 - 4*avar2*avar3)*sqrt(avar^2)*rhomaxvar + 2*(avar^2*avar3*n2 + avar^2*avar2*n3)*rhomaxvar)/(avar^6*rhomaxvar)],\n",
       " [1/3*((avar^2*n1*n3 - 4*avar1*avar3)*sqrt(avar^2)*rhomaxvar + 2*(avar^2*avar3*n1 + avar^2*avar1*n3)*rhomaxvar)/(avar^6*rhomaxvar),\n",
       "  1/3*((avar^2*n2*n3 - 4*avar2*avar3)*sqrt(avar^2)*rhomaxvar + 2*(avar^2*avar3*n2 + avar^2*avar2*n3)*rhomaxvar)/(avar^6*rhomaxvar),\n",
       "  1/3*(4*avar^2*avar3*n3*rhomaxvar + (avar^2*n3^2 - 4*avar3^2)*sqrt(avar^2)*rhomaxvar)/(avar^6*rhomaxvar)]]"
      ]
     },
     "execution_count": 71,
     "metadata": {},
     "output_type": "execute_result"
    }
   ],
   "source": [
    "I3 = [[\n",
    "        limit(\n",
    "            integrate(rho ** 2 * sep_polar[i] * sep_polar[j] / r5, rho, 0, rhomaxvar)\n",
    "                .factor(eps)\n",
    "                .expand()\n",
    "                .substitute(arcsinh(sqrt(avar^2)*rhomaxvar/eps) == 0),\n",
    "            eps = 0\n",
    "        ) for j in range(3)\n",
    "    ] for i in range(3)\n",
    "]\n",
    "I3"
   ]
  },
  {
   "cell_type": "code",
   "execution_count": 76,
   "metadata": {},
   "outputs": [
    {
     "data": {
      "text/plain": [
       "1/3*(2*avar^2*avar2*n1 + 2*avar^2*avar1*n2 + (avar^2*n1*n2 - 4*avar1*avar2)*sqrt(avar^2))/avar^6"
      ]
     },
     "execution_count": 76,
     "metadata": {},
     "output_type": "execute_result"
    }
   ],
   "source": [
    "I3[0][1].full_simplify()"
   ]
  },
  {
   "cell_type": "code",
   "execution_count": null,
   "metadata": {},
   "outputs": [],
   "source": [
    "1/3*(2*avar^2*avecvar[j]*n[i] + 2*avar^2*avecvar[i]*n[j] + (avar^2*n[i]*n[j] - 4*avecvar[i]*avecvar[j])*sqrt(avar^2))/avar^6"
   ]
  },
  {
   "cell_type": "code",
   "execution_count": 83,
   "metadata": {},
   "outputs": [
    {
     "name": "stdout",
     "output_type": "stream",
     "text": [
      "0\n",
      "0\n",
      "0\n",
      "0\n",
      "0\n",
      "0\n",
      "0\n",
      "0\n",
      "0\n"
     ]
    }
   ],
   "source": [
    "for i in range(3):\n",
    "    for j in range(3):\n",
    "        print((1/3*(2*avar^2*avecvar[j]*n[i] + 2*avar^2*avecvar[i]*n[j] + (avar^2*n[i]*n[j] - 4*avecvar[i]*avecvar[j])*sqrt(avar^2))/avar^6 - I3[i][j]).full_simplify())"
   ]
  },
  {
   "cell_type": "code",
   "execution_count": 72,
   "metadata": {},
   "outputs": [
    {
     "data": {
      "text/plain": [
       "[[-sqrt(avar^2)*avar1^2/(avar^6*rhomaxvar),\n",
       "  -sqrt(avar^2)*avar1*avar2/(avar^6*rhomaxvar),\n",
       "  -sqrt(avar^2)*avar1*avar3/(avar^6*rhomaxvar)],\n",
       " [-sqrt(avar^2)*avar1*avar2/(avar^6*rhomaxvar),\n",
       "  -sqrt(avar^2)*avar2^2/(avar^6*rhomaxvar),\n",
       "  -sqrt(avar^2)*avar2*avar3/(avar^6*rhomaxvar)],\n",
       " [-sqrt(avar^2)*avar1*avar3/(avar^6*rhomaxvar),\n",
       "  -sqrt(avar^2)*avar2*avar3/(avar^6*rhomaxvar),\n",
       "  -sqrt(avar^2)*avar3^2/(avar^6*rhomaxvar)]]"
      ]
     },
     "execution_count": 72,
     "metadata": {},
     "output_type": "execute_result"
    }
   ],
   "source": [
    "I4 = [[\n",
    "        limit(\n",
    "            integrate(rho * sep_polar[i] * sep_polar[j] / r5, rho, 0, rhomaxvar)\n",
    "                .factor(eps)\n",
    "                .expand()\n",
    "                .substitute(1/eps == 0),\n",
    "            eps = 0\n",
    "        ) for j in range(3)\n",
    "    ] for i in range(3)\n",
    "]\n",
    "I4"
   ]
  },
  {
   "cell_type": "code",
   "execution_count": 26,
   "metadata": {},
   "outputs": [
    {
     "data": {
      "text/plain": [
       "1/3*(3*sqrt(avar^2)*n1*n3*rhomaxvar + 2*(avar3*n1 + avar1*n3)*rhomaxvar)/(avar^4*rhomaxvar^3)"
      ]
     },
     "execution_count": 26,
     "metadata": {},
     "output_type": "execute_result"
    }
   ],
   "source": [
    "I4l = limit(I4.expand().substitute(1/(eps**2) == 0), eps = 0)\n",
    "I4l"
   ]
  },
  {
   "cell_type": "code",
   "execution_count": 20,
   "metadata": {},
   "outputs": [],
   "source": [
    "Itheta = I3l.subs(avar = a * a, rhomaxvar = rhomax, avar1 = a[0], avar2 = a[1], avar3 = a[2])"
   ]
  },
  {
   "cell_type": "code",
   "execution_count": 21,
   "metadata": {},
   "outputs": [
    {
     "data": {
      "text/plain": [
       "1/2*(((x1*cos(t) + x2*sin(t))^2 + (y1*cos(t) + y2*sin(t))^2 + (z1*cos(t) + z2*sin(t))^2)^2*n1^2 - (x1*cos(t) + x2*sin(t))^2)*(cos(t) + sin(t))/((x1*cos(t) + x2*sin(t))^2 + (y1*cos(t) + y2*sin(t))^2 + (z1*cos(t) + z2*sin(t))^2)^4"
      ]
     },
     "execution_count": 21,
     "metadata": {},
     "output_type": "execute_result"
    }
   ],
   "source": [
    "Itheta"
   ]
  },
  {
   "cell_type": "code",
   "execution_count": null,
   "metadata": {},
   "outputs": [],
   "source": [
    "integrate(Itheta, t, 0, pi/2)"
   ]
  }
 ],
 "metadata": {
  "kernelspec": {
   "display_name": "SageMath 8.1",
   "language": "",
   "name": "sagemath"
  }
 },
 "nbformat": 4,
 "nbformat_minor": 2
}

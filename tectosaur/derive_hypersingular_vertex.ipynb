{
 "cells": [
  {
   "cell_type": "code",
   "execution_count": 1,
   "metadata": {},
   "outputs": [],
   "source": [
    "from sage.all import *"
   ]
  },
  {
   "cell_type": "code",
   "execution_count": 3,
   "metadata": {},
   "outputs": [],
   "source": [
    "rho = var('rho')\n",
    "rhomaxvar = var('rhomax')\n",
    "eps = var('eps')\n",
    "avar = var('avar')\n",
    "avecvar = vector(var('avarx, avary, avarz'))\n",
    "n = vector(var('nsrcx, nsrcy, nsrcz'))\n",
    "assume(rhomaxvar > 0)\n",
    "assume(eps > 0)\n",
    "assume(avar > 0)\n",
    "r2 = eps ** 2 + avar ** 2 * rho ** 2\n",
    "r = sqrt(r2)\n",
    "r3 = r2 ** (3 / 2)\n",
    "r4 = r2 ** 2\n",
    "r5 = r2 ** (5 / 2)\n",
    "sep_polar = -eps * n + avecvar * rho"
   ]
  },
  {
   "cell_type": "code",
   "execution_count": 15,
   "metadata": {},
   "outputs": [
    {
     "data": {
      "text/plain": [
       "eps^2*nsrcx^2 + eps^2*nsrcy^2 + eps^2*nsrcz^2 + (avarx^2 + avary^2 + avarz^2)*rho^2 - 2*(avarx*eps*nsrcx + avary*eps*nsrcy + avarz*eps*nsrcz)*rho"
      ]
     },
     "execution_count": 15,
     "metadata": {},
     "output_type": "execute_result"
    }
   ],
   "source": [
    "sum(sep_polar[i] * sep_polar[i] for i in range(3)).full_simplify()"
   ]
  },
  {
   "cell_type": "code",
   "execution_count": 4,
   "metadata": {},
   "outputs": [
    {
     "data": {
      "text/plain": [
       "-1/(avar^3*rhomax)"
      ]
     },
     "execution_count": 4,
     "metadata": {},
     "output_type": "execute_result"
    }
   ],
   "source": [
    "I1 = limit(\n",
    "    integrate(rho / r3, rho, 0, rhomaxvar)\n",
    "        .factor(eps)\n",
    "        .expand()\n",
    "        .substitute(1/eps == 0),\n",
    "    eps = 0\n",
    ").simplify_full()\n",
    "I1"
   ]
  },
  {
   "cell_type": "code",
   "execution_count": 5,
   "metadata": {},
   "outputs": [
    {
     "data": {
      "text/plain": [
       "log(2) + log(avar) - log(eps) + log(rhomax)"
      ]
     },
     "execution_count": 5,
     "metadata": {},
     "output_type": "execute_result"
    }
   ],
   "source": [
    "(arcsinh(sqrt(avar ** 2)*rhomaxvar/eps)).taylor(eps, 0, 0)"
   ]
  },
  {
   "cell_type": "code",
   "execution_count": 6,
   "metadata": {},
   "outputs": [
    {
     "data": {
      "text/plain": [
       "(log(2) + log(avar) + log(rhomax) - 1)/avar^3"
      ]
     },
     "execution_count": 6,
     "metadata": {},
     "output_type": "execute_result"
    }
   ],
   "source": [
    "I2 = limit(\n",
    "    integrate(rho ** 2 / r3, rho, 0, rhomaxvar)\n",
    "        .factor(eps)\n",
    "        .expand()\n",
    "        .substitute(\n",
    "            arcsinh(sqrt(avar ** 2)*rhomaxvar/eps) ==\n",
    "                log(2) + log(avar) + log(rhomax)),\n",
    "    eps = 0\n",
    ").simplify_full()\n",
    "I2"
   ]
  },
  {
   "cell_type": "code",
   "execution_count": 7,
   "metadata": {},
   "outputs": [
    {
     "data": {
      "text/plain": [
       "[[-avarx^2/(avar^5*rhomax),\n",
       "  -avarx*avary/(avar^5*rhomax),\n",
       "  -avarx*avarz/(avar^5*rhomax)],\n",
       " [-avarx*avary/(avar^5*rhomax),\n",
       "  -avary^2/(avar^5*rhomax),\n",
       "  -avary*avarz/(avar^5*rhomax)],\n",
       " [-avarx*avarz/(avar^5*rhomax),\n",
       "  -avary*avarz/(avar^5*rhomax),\n",
       "  -avarz^2/(avar^5*rhomax)]]"
      ]
     },
     "execution_count": 7,
     "metadata": {},
     "output_type": "execute_result"
    }
   ],
   "source": [
    "I3 = [[\n",
    "        limit(\n",
    "            integrate(rho * sep_polar[i] * sep_polar[j] / r5, rho, 0, rhomaxvar)\n",
    "                .factor(eps)\n",
    "                .expand()\n",
    "                .substitute(1/eps == 0),\n",
    "            eps = 0\n",
    "        ).simplify_full() for j in range(3)\n",
    "    ] for i in range(3)\n",
    "]\n",
    "I3"
   ]
  },
  {
   "cell_type": "code",
   "execution_count": 8,
   "metadata": {},
   "outputs": [
    {
     "data": {
      "text/plain": [
       "[[1/3*(avar^2*nsrcx^2 - 4*avar*avarx*nsrcx + avarx^2*(3*log(2) + 3*log(avar) - 4) + 3*avarx^2*log(rhomax))/avar^5,\n",
       "  -1/3*(2*avar*avary*nsrcx - avarx*avary*(3*log(2) + 3*log(avar) - 4) - 3*avarx*avary*log(rhomax) - (avar^2*nsrcx - 2*avar*avarx)*nsrcy)/avar^5,\n",
       "  -1/3*(2*avar*avarz*nsrcx - avarx*avarz*(3*log(2) + 3*log(avar) - 4) - 3*avarx*avarz*log(rhomax) - (avar^2*nsrcx - 2*avar*avarx)*nsrcz)/avar^5],\n",
       " [-1/3*(2*avar*avary*nsrcx - avarx*avary*(3*log(2) + 3*log(avar) - 4) - 3*avarx*avary*log(rhomax) - (avar^2*nsrcx - 2*avar*avarx)*nsrcy)/avar^5,\n",
       "  1/3*(avar^2*nsrcy^2 - 4*avar*avary*nsrcy + avary^2*(3*log(2) + 3*log(avar) - 4) + 3*avary^2*log(rhomax))/avar^5,\n",
       "  -1/3*(2*avar*avarz*nsrcy - avary*avarz*(3*log(2) + 3*log(avar) - 4) - 3*avary*avarz*log(rhomax) - (avar^2*nsrcy - 2*avar*avary)*nsrcz)/avar^5],\n",
       " [-1/3*(2*avar*avarz*nsrcx - avarx*avarz*(3*log(2) + 3*log(avar) - 4) - 3*avarx*avarz*log(rhomax) - (avar^2*nsrcx - 2*avar*avarx)*nsrcz)/avar^5,\n",
       "  -1/3*(2*avar*avarz*nsrcy - avary*avarz*(3*log(2) + 3*log(avar) - 4) - 3*avary*avarz*log(rhomax) - (avar^2*nsrcy - 2*avar*avary)*nsrcz)/avar^5,\n",
       "  1/3*(avar^2*nsrcz^2 - 4*avar*avarz*nsrcz + avarz^2*(3*log(2) + 3*log(avar) - 4) + 3*avarz^2*log(rhomax))/avar^5]]"
      ]
     },
     "execution_count": 8,
     "metadata": {},
     "output_type": "execute_result"
    }
   ],
   "source": [
    "I4 = [[\n",
    "        limit(\n",
    "            integrate(rho ** 2 * sep_polar[i] * sep_polar[j] / r5, rho, 0, rhomaxvar)\n",
    "                .factor(eps)\n",
    "                .expand()\n",
    "                .substitute(arcsinh(sqrt(avar ** 2)*rhomaxvar/eps) ==\n",
    "                    log(2) + log(avar) + log(rhomax)),\n",
    "            eps = 0\n",
    "        ).simplify_full() for j in range(3)\n",
    "    ] for i in range(3)\n",
    "]\n",
    "I4"
   ]
  },
  {
   "cell_type": "code",
   "execution_count": 9,
   "metadata": {},
   "outputs": [
    {
     "data": {
      "text/plain": [
       "[[[[-avarx^4/(avar^7*rhomax),\n",
       "    -avarx^3*avary/(avar^7*rhomax),\n",
       "    -avarx^3*avarz/(avar^7*rhomax)],\n",
       "   [-avarx^3*avary/(avar^7*rhomax),\n",
       "    -avarx^2*avary^2/(avar^7*rhomax),\n",
       "    -avarx^2*avary*avarz/(avar^7*rhomax)],\n",
       "   [-avarx^3*avarz/(avar^7*rhomax),\n",
       "    -avarx^2*avary*avarz/(avar^7*rhomax),\n",
       "    -avarx^2*avarz^2/(avar^7*rhomax)]],\n",
       "  [[-avarx^3*avary/(avar^7*rhomax),\n",
       "    -avarx^2*avary^2/(avar^7*rhomax),\n",
       "    -avarx^2*avary*avarz/(avar^7*rhomax)],\n",
       "   [-avarx^2*avary^2/(avar^7*rhomax),\n",
       "    -avarx*avary^3/(avar^7*rhomax),\n",
       "    -avarx*avary^2*avarz/(avar^7*rhomax)],\n",
       "   [-avarx^2*avary*avarz/(avar^7*rhomax),\n",
       "    -avarx*avary^2*avarz/(avar^7*rhomax),\n",
       "    -avarx*avary*avarz^2/(avar^7*rhomax)]],\n",
       "  [[-avarx^3*avarz/(avar^7*rhomax),\n",
       "    -avarx^2*avary*avarz/(avar^7*rhomax),\n",
       "    -avarx^2*avarz^2/(avar^7*rhomax)],\n",
       "   [-avarx^2*avary*avarz/(avar^7*rhomax),\n",
       "    -avarx*avary^2*avarz/(avar^7*rhomax),\n",
       "    -avarx*avary*avarz^2/(avar^7*rhomax)],\n",
       "   [-avarx^2*avarz^2/(avar^7*rhomax),\n",
       "    -avarx*avary*avarz^2/(avar^7*rhomax),\n",
       "    -avarx*avarz^3/(avar^7*rhomax)]]],\n",
       " [[[-avarx^3*avary/(avar^7*rhomax),\n",
       "    -avarx^2*avary^2/(avar^7*rhomax),\n",
       "    -avarx^2*avary*avarz/(avar^7*rhomax)],\n",
       "   [-avarx^2*avary^2/(avar^7*rhomax),\n",
       "    -avarx*avary^3/(avar^7*rhomax),\n",
       "    -avarx*avary^2*avarz/(avar^7*rhomax)],\n",
       "   [-avarx^2*avary*avarz/(avar^7*rhomax),\n",
       "    -avarx*avary^2*avarz/(avar^7*rhomax),\n",
       "    -avarx*avary*avarz^2/(avar^7*rhomax)]],\n",
       "  [[-avarx^2*avary^2/(avar^7*rhomax),\n",
       "    -avarx*avary^3/(avar^7*rhomax),\n",
       "    -avarx*avary^2*avarz/(avar^7*rhomax)],\n",
       "   [-avarx*avary^3/(avar^7*rhomax),\n",
       "    -avary^4/(avar^7*rhomax),\n",
       "    -avary^3*avarz/(avar^7*rhomax)],\n",
       "   [-avarx*avary^2*avarz/(avar^7*rhomax),\n",
       "    -avary^3*avarz/(avar^7*rhomax),\n",
       "    -avary^2*avarz^2/(avar^7*rhomax)]],\n",
       "  [[-avarx^2*avary*avarz/(avar^7*rhomax),\n",
       "    -avarx*avary^2*avarz/(avar^7*rhomax),\n",
       "    -avarx*avary*avarz^2/(avar^7*rhomax)],\n",
       "   [-avarx*avary^2*avarz/(avar^7*rhomax),\n",
       "    -avary^3*avarz/(avar^7*rhomax),\n",
       "    -avary^2*avarz^2/(avar^7*rhomax)],\n",
       "   [-avarx*avary*avarz^2/(avar^7*rhomax),\n",
       "    -avary^2*avarz^2/(avar^7*rhomax),\n",
       "    -avary*avarz^3/(avar^7*rhomax)]]],\n",
       " [[[-avarx^3*avarz/(avar^7*rhomax),\n",
       "    -avarx^2*avary*avarz/(avar^7*rhomax),\n",
       "    -avarx^2*avarz^2/(avar^7*rhomax)],\n",
       "   [-avarx^2*avary*avarz/(avar^7*rhomax),\n",
       "    -avarx*avary^2*avarz/(avar^7*rhomax),\n",
       "    -avarx*avary*avarz^2/(avar^7*rhomax)],\n",
       "   [-avarx^2*avarz^2/(avar^7*rhomax),\n",
       "    -avarx*avary*avarz^2/(avar^7*rhomax),\n",
       "    -avarx*avarz^3/(avar^7*rhomax)]],\n",
       "  [[-avarx^2*avary*avarz/(avar^7*rhomax),\n",
       "    -avarx*avary^2*avarz/(avar^7*rhomax),\n",
       "    -avarx*avary*avarz^2/(avar^7*rhomax)],\n",
       "   [-avarx*avary^2*avarz/(avar^7*rhomax),\n",
       "    -avary^3*avarz/(avar^7*rhomax),\n",
       "    -avary^2*avarz^2/(avar^7*rhomax)],\n",
       "   [-avarx*avary*avarz^2/(avar^7*rhomax),\n",
       "    -avary^2*avarz^2/(avar^7*rhomax),\n",
       "    -avary*avarz^3/(avar^7*rhomax)]],\n",
       "  [[-avarx^2*avarz^2/(avar^7*rhomax),\n",
       "    -avarx*avary*avarz^2/(avar^7*rhomax),\n",
       "    -avarx*avarz^3/(avar^7*rhomax)],\n",
       "   [-avarx*avary*avarz^2/(avar^7*rhomax),\n",
       "    -avary^2*avarz^2/(avar^7*rhomax),\n",
       "    -avary*avarz^3/(avar^7*rhomax)],\n",
       "   [-avarx*avarz^3/(avar^7*rhomax),\n",
       "    -avary*avarz^3/(avar^7*rhomax),\n",
       "    -avarz^4/(avar^7*rhomax)]]]]"
      ]
     },
     "execution_count": 9,
     "metadata": {},
     "output_type": "execute_result"
    }
   ],
   "source": [
    "I5 = [[[[limit(\n",
    "    integrate(\n",
    "        rho * sep_polar[i] * sep_polar[j] * sep_polar[k] * sep_polar[l] / (r2 ** (7 / 2)), \n",
    "        rho, 0, rhomaxvar)\n",
    "        .factor(eps)\n",
    "        .expand()\n",
    "        .substitute(1/eps == 0),\n",
    "    eps = 0\n",
    ") for l in range(3)]\n",
    "for k in range(3)]\n",
    "for j in range(3)]\n",
    "for i in range(3)]\n",
    "I5"
   ]
  },
  {
   "cell_type": "code",
   "execution_count": 10,
   "metadata": {},
   "outputs": [
    {
     "data": {
      "text/plain": [
       "[[[[1/15*(15*avar*avarx^4*rhomax*log(rhomax) + (2*avar^4*nsrcx^4 + 18*avar^2*avarx^2*nsrcx^2 - 23*avarx^4)*avar*rhomax - (8*avar^4*avarx*nsrcx^3 + 32*avar^2*avarx^3*nsrcx - 15*(avar*log(2) + avar*log(avar))*avarx^4)*rhomax)/(avar^8*rhomax),\n",
       "    1/15*(15*avar*avarx^3*avary*rhomax*log(rhomax) + (9*avar^2*avarx*avary*nsrcx^2 - 23*avarx^3*avary + (2*avar^4*nsrcx^3 + 9*avar^2*avarx^2*nsrcx)*nsrcy)*avar*rhomax - (2*avar^4*avary*nsrcx^3 + 24*avar^2*avarx^2*avary*nsrcx - 15*(avar*log(2) + avar*log(avar))*avarx^3*avary + 2*(3*avar^4*avarx*nsrcx^2 + 4*avar^2*avarx^3)*nsrcy)*rhomax)/(avar^8*rhomax),\n",
       "    1/15*(15*avar*avarx^3*avarz*rhomax*log(rhomax) + (9*avar^2*avarx*avarz*nsrcx^2 - 23*avarx^3*avarz + (2*avar^4*nsrcx^3 + 9*avar^2*avarx^2*nsrcx)*nsrcz)*avar*rhomax - (2*avar^4*avarz*nsrcx^3 + 24*avar^2*avarx^2*avarz*nsrcx - 15*(avar*log(2) + avar*log(avar))*avarx^3*avarz + 2*(3*avar^4*avarx*nsrcx^2 + 4*avar^2*avarx^3)*nsrcz)*rhomax)/(avar^8*rhomax)],\n",
       "   [1/15*(15*avar*avarx^3*avary*rhomax*log(rhomax) + (9*avar^2*avarx*avary*nsrcx^2 - 23*avarx^3*avary + (2*avar^4*nsrcx^3 + 9*avar^2*avarx^2*nsrcx)*nsrcy)*avar*rhomax - (2*avar^4*avary*nsrcx^3 + 24*avar^2*avarx^2*avary*nsrcx - 15*(avar*log(2) + avar*log(avar))*avarx^3*avary + 2*(3*avar^4*avarx*nsrcx^2 + 4*avar^2*avarx^3)*nsrcy)*rhomax)/(avar^8*rhomax),\n",
       "    -1/15*((4*avar^3*avarx*nsrcx*nsrcy^2 + 16*avar*avarx*avary^2*nsrcx - 15*avarx^2*avary^2*(log(2) + log(avar)) - 15*avarx^2*avary^2*log(rhomax) + 4*(avar^3*avary*nsrcx^2 + 4*avar*avarx^2*avary)*nsrcy)*avar*rhomax - (3*avar^3*avary^2*nsrcx^2 + 12*avar^3*avarx*avary*nsrcx*nsrcy - 23*avar*avarx^2*avary^2 + (2*avar^5*nsrcx^2 + 3*avar^3*avarx^2)*nsrcy^2)*rhomax)/(avar^8*rhomax),\n",
       "    1/15*(15*avar*avarx^2*avary*avarz*rhomax*log(rhomax) + (3*avar^2*avary*avarz*nsrcx^2 + 6*avar^2*avarx*avarz*nsrcx*nsrcy - 23*avarx^2*avary*avarz + (6*avar^2*avarx*avary*nsrcx + (2*avar^4*nsrcx^2 + 3*avar^2*avarx^2)*nsrcy)*nsrcz)*avar*rhomax - (16*avar^2*avarx*avary*avarz*nsrcx - 15*(avar*log(2) + avar*log(avar))*avarx^2*avary*avarz + 2*(avar^4*avarz*nsrcx^2 + 4*avar^2*avarx^2*avarz)*nsrcy + 2*(avar^4*avary*nsrcx^2 + 2*avar^4*avarx*nsrcx*nsrcy + 4*avar^2*avarx^2*avary)*nsrcz)*rhomax)/(avar^8*rhomax)],\n",
       "   [1/15*(15*avar*avarx^3*avarz*rhomax*log(rhomax) + (9*avar^2*avarx*avarz*nsrcx^2 - 23*avarx^3*avarz + (2*avar^4*nsrcx^3 + 9*avar^2*avarx^2*nsrcx)*nsrcz)*avar*rhomax - (2*avar^4*avarz*nsrcx^3 + 24*avar^2*avarx^2*avarz*nsrcx - 15*(avar*log(2) + avar*log(avar))*avarx^3*avarz + 2*(3*avar^4*avarx*nsrcx^2 + 4*avar^2*avarx^3)*nsrcz)*rhomax)/(avar^8*rhomax),\n",
       "    1/15*(15*avar*avarx^2*avary*avarz*rhomax*log(rhomax) + (3*avar^2*avary*avarz*nsrcx^2 + 6*avar^2*avarx*avarz*nsrcx*nsrcy - 23*avarx^2*avary*avarz + (6*avar^2*avarx*avary*nsrcx + (2*avar^4*nsrcx^2 + 3*avar^2*avarx^2)*nsrcy)*nsrcz)*avar*rhomax - (16*avar^2*avarx*avary*avarz*nsrcx - 15*(avar*log(2) + avar*log(avar))*avarx^2*avary*avarz + 2*(avar^4*avarz*nsrcx^2 + 4*avar^2*avarx^2*avarz)*nsrcy + 2*(avar^4*avary*nsrcx^2 + 2*avar^4*avarx*nsrcx*nsrcy + 4*avar^2*avarx^2*avary)*nsrcz)*rhomax)/(avar^8*rhomax),\n",
       "    -1/15*((4*avar^3*avarx*nsrcx*nsrcz^2 + 16*avar*avarx*avarz^2*nsrcx - 15*avarx^2*avarz^2*(log(2) + log(avar)) - 15*avarx^2*avarz^2*log(rhomax) + 4*(avar^3*avarz*nsrcx^2 + 4*avar*avarx^2*avarz)*nsrcz)*avar*rhomax - (3*avar^3*avarz^2*nsrcx^2 + 12*avar^3*avarx*avarz*nsrcx*nsrcz - 23*avar*avarx^2*avarz^2 + (2*avar^5*nsrcx^2 + 3*avar^3*avarx^2)*nsrcz^2)*rhomax)/(avar^8*rhomax)]],\n",
       "  [[1/15*(15*avar*avarx^3*avary*rhomax*log(rhomax) + (9*avar^2*avarx*avary*nsrcx^2 - 23*avarx^3*avary + (2*avar^4*nsrcx^3 + 9*avar^2*avarx^2*nsrcx)*nsrcy)*avar*rhomax - (2*avar^4*avary*nsrcx^3 + 24*avar^2*avarx^2*avary*nsrcx - 15*(avar*log(2) + avar*log(avar))*avarx^3*avary + 2*(3*avar^4*avarx*nsrcx^2 + 4*avar^2*avarx^3)*nsrcy)*rhomax)/(avar^8*rhomax),\n",
       "    -1/15*((4*avar^3*avarx*nsrcx*nsrcy^2 + 16*avar*avarx*avary^2*nsrcx - 15*avarx^2*avary^2*(log(2) + log(avar)) - 15*avarx^2*avary^2*log(rhomax) + 4*(avar^3*avary*nsrcx^2 + 4*avar*avarx^2*avary)*nsrcy)*avar*rhomax - (3*avar^3*avary^2*nsrcx^2 + 12*avar^3*avarx*avary*nsrcx*nsrcy - 23*avar*avarx^2*avary^2 + (2*avar^5*nsrcx^2 + 3*avar^3*avarx^2)*nsrcy^2)*rhomax)/(avar^8*rhomax),\n",
       "    1/15*(15*avar*avarx^2*avary*avarz*rhomax*log(rhomax) + (3*avar^2*avary*avarz*nsrcx^2 + 6*avar^2*avarx*avarz*nsrcx*nsrcy - 23*avarx^2*avary*avarz + (6*avar^2*avarx*avary*nsrcx + (2*avar^4*nsrcx^2 + 3*avar^2*avarx^2)*nsrcy)*nsrcz)*avar*rhomax - (16*avar^2*avarx*avary*avarz*nsrcx - 15*(avar*log(2) + avar*log(avar))*avarx^2*avary*avarz + 2*(avar^4*avarz*nsrcx^2 + 4*avar^2*avarx^2*avarz)*nsrcy + 2*(avar^4*avary*nsrcx^2 + 2*avar^4*avarx*nsrcx*nsrcy + 4*avar^2*avarx^2*avary)*nsrcz)*rhomax)/(avar^8*rhomax)],\n",
       "   [-1/15*((4*avar^3*avarx*nsrcx*nsrcy^2 + 16*avar*avarx*avary^2*nsrcx - 15*avarx^2*avary^2*(log(2) + log(avar)) - 15*avarx^2*avary^2*log(rhomax) + 4*(avar^3*avary*nsrcx^2 + 4*avar*avarx^2*avary)*nsrcy)*avar*rhomax - (3*avar^3*avary^2*nsrcx^2 + 12*avar^3*avarx*avary*nsrcx*nsrcy - 23*avar*avarx^2*avary^2 + (2*avar^5*nsrcx^2 + 3*avar^3*avarx^2)*nsrcy^2)*rhomax)/(avar^8*rhomax),\n",
       "    1/15*(15*avar*avarx*avary^3*rhomax*log(rhomax) + (2*avar^4*nsrcx*nsrcy^3 + 9*avar^2*avary^2*nsrcx*nsrcy + 9*avar^2*avarx*avary*nsrcy^2 - 23*avarx*avary^3)*avar*rhomax - (6*avar^4*avary*nsrcx*nsrcy^2 + 2*avar^4*avarx*nsrcy^3 + 8*avar^2*avary^3*nsrcx + 24*avar^2*avarx*avary^2*nsrcy - 15*(avar*log(2) + avar*log(avar))*avarx*avary^3)*rhomax)/(avar^8*rhomax),\n",
       "    1/15*(15*avar*avarx*avary^2*avarz*rhomax*log(rhomax) + (6*avar^2*avary*avarz*nsrcx*nsrcy + 3*avar^2*avarx*avarz*nsrcy^2 - 23*avarx*avary^2*avarz + (2*avar^4*nsrcx*nsrcy^2 + 3*avar^2*avary^2*nsrcx + 6*avar^2*avarx*avary*nsrcy)*nsrcz)*avar*rhomax - (2*avar^4*avarz*nsrcx*nsrcy^2 + 8*avar^2*avary^2*avarz*nsrcx + 16*avar^2*avarx*avary*avarz*nsrcy - 15*(avar*log(2) + avar*log(avar))*avarx*avary^2*avarz + 2*(2*avar^4*avary*nsrcx*nsrcy + avar^4*avarx*nsrcy^2 + 4*avar^2*avarx*avary^2)*nsrcz)*rhomax)/(avar^8*rhomax)],\n",
       "   [1/15*(15*avar*avarx^2*avary*avarz*rhomax*log(rhomax) + (3*avar^2*avary*avarz*nsrcx^2 + 6*avar^2*avarx*avarz*nsrcx*nsrcy - 23*avarx^2*avary*avarz + (6*avar^2*avarx*avary*nsrcx + (2*avar^4*nsrcx^2 + 3*avar^2*avarx^2)*nsrcy)*nsrcz)*avar*rhomax - (16*avar^2*avarx*avary*avarz*nsrcx - 15*(avar*log(2) + avar*log(avar))*avarx^2*avary*avarz + 2*(avar^4*avarz*nsrcx^2 + 4*avar^2*avarx^2*avarz)*nsrcy + 2*(avar^4*avary*nsrcx^2 + 2*avar^4*avarx*nsrcx*nsrcy + 4*avar^2*avarx^2*avary)*nsrcz)*rhomax)/(avar^8*rhomax),\n",
       "    1/15*(15*avar*avarx*avary^2*avarz*rhomax*log(rhomax) + (6*avar^2*avary*avarz*nsrcx*nsrcy + 3*avar^2*avarx*avarz*nsrcy^2 - 23*avarx*avary^2*avarz + (2*avar^4*nsrcx*nsrcy^2 + 3*avar^2*avary^2*nsrcx + 6*avar^2*avarx*avary*nsrcy)*nsrcz)*avar*rhomax - (2*avar^4*avarz*nsrcx*nsrcy^2 + 8*avar^2*avary^2*avarz*nsrcx + 16*avar^2*avarx*avary*avarz*nsrcy - 15*(avar*log(2) + avar*log(avar))*avarx*avary^2*avarz + 2*(2*avar^4*avary*nsrcx*nsrcy + avar^4*avarx*nsrcy^2 + 4*avar^2*avarx*avary^2)*nsrcz)*rhomax)/(avar^8*rhomax),\n",
       "    1/15*(15*avar*avarx*avary*avarz^2*rhomax*log(rhomax) + (3*avar^2*avarz^2*nsrcx*nsrcy - 23*avarx*avary*avarz^2 + (2*avar^4*nsrcx*nsrcy + 3*avar^2*avarx*avary)*nsrcz^2 + 6*(avar^2*avary*avarz*nsrcx + avar^2*avarx*avarz*nsrcy)*nsrcz)*avar*rhomax - (8*avar^2*avary*avarz^2*nsrcx + 8*avar^2*avarx*avarz^2*nsrcy - 15*(avar*log(2) + avar*log(avar))*avarx*avary*avarz^2 + 2*(avar^4*avary*nsrcx + avar^4*avarx*nsrcy)*nsrcz^2 + 4*(avar^4*avarz*nsrcx*nsrcy + 4*avar^2*avarx*avary*avarz)*nsrcz)*rhomax)/(avar^8*rhomax)]],\n",
       "  [[1/15*(15*avar*avarx^3*avarz*rhomax*log(rhomax) + (9*avar^2*avarx*avarz*nsrcx^2 - 23*avarx^3*avarz + (2*avar^4*nsrcx^3 + 9*avar^2*avarx^2*nsrcx)*nsrcz)*avar*rhomax - (2*avar^4*avarz*nsrcx^3 + 24*avar^2*avarx^2*avarz*nsrcx - 15*(avar*log(2) + avar*log(avar))*avarx^3*avarz + 2*(3*avar^4*avarx*nsrcx^2 + 4*avar^2*avarx^3)*nsrcz)*rhomax)/(avar^8*rhomax),\n",
       "    1/15*(15*avar*avarx^2*avary*avarz*rhomax*log(rhomax) + (3*avar^2*avary*avarz*nsrcx^2 + 6*avar^2*avarx*avarz*nsrcx*nsrcy - 23*avarx^2*avary*avarz + (6*avar^2*avarx*avary*nsrcx + (2*avar^4*nsrcx^2 + 3*avar^2*avarx^2)*nsrcy)*nsrcz)*avar*rhomax - (16*avar^2*avarx*avary*avarz*nsrcx - 15*(avar*log(2) + avar*log(avar))*avarx^2*avary*avarz + 2*(avar^4*avarz*nsrcx^2 + 4*avar^2*avarx^2*avarz)*nsrcy + 2*(avar^4*avary*nsrcx^2 + 2*avar^4*avarx*nsrcx*nsrcy + 4*avar^2*avarx^2*avary)*nsrcz)*rhomax)/(avar^8*rhomax),\n",
       "    -1/15*((4*avar^3*avarx*nsrcx*nsrcz^2 + 16*avar*avarx*avarz^2*nsrcx - 15*avarx^2*avarz^2*(log(2) + log(avar)) - 15*avarx^2*avarz^2*log(rhomax) + 4*(avar^3*avarz*nsrcx^2 + 4*avar*avarx^2*avarz)*nsrcz)*avar*rhomax - (3*avar^3*avarz^2*nsrcx^2 + 12*avar^3*avarx*avarz*nsrcx*nsrcz - 23*avar*avarx^2*avarz^2 + (2*avar^5*nsrcx^2 + 3*avar^3*avarx^2)*nsrcz^2)*rhomax)/(avar^8*rhomax)],\n",
       "   [1/15*(15*avar*avarx^2*avary*avarz*rhomax*log(rhomax) + (3*avar^2*avary*avarz*nsrcx^2 + 6*avar^2*avarx*avarz*nsrcx*nsrcy - 23*avarx^2*avary*avarz + (6*avar^2*avarx*avary*nsrcx + (2*avar^4*nsrcx^2 + 3*avar^2*avarx^2)*nsrcy)*nsrcz)*avar*rhomax - (16*avar^2*avarx*avary*avarz*nsrcx - 15*(avar*log(2) + avar*log(avar))*avarx^2*avary*avarz + 2*(avar^4*avarz*nsrcx^2 + 4*avar^2*avarx^2*avarz)*nsrcy + 2*(avar^4*avary*nsrcx^2 + 2*avar^4*avarx*nsrcx*nsrcy + 4*avar^2*avarx^2*avary)*nsrcz)*rhomax)/(avar^8*rhomax),\n",
       "    1/15*(15*avar*avarx*avary^2*avarz*rhomax*log(rhomax) + (6*avar^2*avary*avarz*nsrcx*nsrcy + 3*avar^2*avarx*avarz*nsrcy^2 - 23*avarx*avary^2*avarz + (2*avar^4*nsrcx*nsrcy^2 + 3*avar^2*avary^2*nsrcx + 6*avar^2*avarx*avary*nsrcy)*nsrcz)*avar*rhomax - (2*avar^4*avarz*nsrcx*nsrcy^2 + 8*avar^2*avary^2*avarz*nsrcx + 16*avar^2*avarx*avary*avarz*nsrcy - 15*(avar*log(2) + avar*log(avar))*avarx*avary^2*avarz + 2*(2*avar^4*avary*nsrcx*nsrcy + avar^4*avarx*nsrcy^2 + 4*avar^2*avarx*avary^2)*nsrcz)*rhomax)/(avar^8*rhomax),\n",
       "    1/15*(15*avar*avarx*avary*avarz^2*rhomax*log(rhomax) + (3*avar^2*avarz^2*nsrcx*nsrcy - 23*avarx*avary*avarz^2 + (2*avar^4*nsrcx*nsrcy + 3*avar^2*avarx*avary)*nsrcz^2 + 6*(avar^2*avary*avarz*nsrcx + avar^2*avarx*avarz*nsrcy)*nsrcz)*avar*rhomax - (8*avar^2*avary*avarz^2*nsrcx + 8*avar^2*avarx*avarz^2*nsrcy - 15*(avar*log(2) + avar*log(avar))*avarx*avary*avarz^2 + 2*(avar^4*avary*nsrcx + avar^4*avarx*nsrcy)*nsrcz^2 + 4*(avar^4*avarz*nsrcx*nsrcy + 4*avar^2*avarx*avary*avarz)*nsrcz)*rhomax)/(avar^8*rhomax)],\n",
       "   [-1/15*((4*avar^3*avarx*nsrcx*nsrcz^2 + 16*avar*avarx*avarz^2*nsrcx - 15*avarx^2*avarz^2*(log(2) + log(avar)) - 15*avarx^2*avarz^2*log(rhomax) + 4*(avar^3*avarz*nsrcx^2 + 4*avar*avarx^2*avarz)*nsrcz)*avar*rhomax - (3*avar^3*avarz^2*nsrcx^2 + 12*avar^3*avarx*avarz*nsrcx*nsrcz - 23*avar*avarx^2*avarz^2 + (2*avar^5*nsrcx^2 + 3*avar^3*avarx^2)*nsrcz^2)*rhomax)/(avar^8*rhomax),\n",
       "    1/15*(15*avar*avarx*avary*avarz^2*rhomax*log(rhomax) + (3*avar^2*avarz^2*nsrcx*nsrcy - 23*avarx*avary*avarz^2 + (2*avar^4*nsrcx*nsrcy + 3*avar^2*avarx*avary)*nsrcz^2 + 6*(avar^2*avary*avarz*nsrcx + avar^2*avarx*avarz*nsrcy)*nsrcz)*avar*rhomax - (8*avar^2*avary*avarz^2*nsrcx + 8*avar^2*avarx*avarz^2*nsrcy - 15*(avar*log(2) + avar*log(avar))*avarx*avary*avarz^2 + 2*(avar^4*avary*nsrcx + avar^4*avarx*nsrcy)*nsrcz^2 + 4*(avar^4*avarz*nsrcx*nsrcy + 4*avar^2*avarx*avary*avarz)*nsrcz)*rhomax)/(avar^8*rhomax),\n",
       "    1/15*(15*avar*avarx*avarz^3*rhomax*log(rhomax) + (2*avar^4*nsrcx*nsrcz^3 + 9*avar^2*avarz^2*nsrcx*nsrcz + 9*avar^2*avarx*avarz*nsrcz^2 - 23*avarx*avarz^3)*avar*rhomax - (6*avar^4*avarz*nsrcx*nsrcz^2 + 2*avar^4*avarx*nsrcz^3 + 8*avar^2*avarz^3*nsrcx + 24*avar^2*avarx*avarz^2*nsrcz - 15*(avar*log(2) + avar*log(avar))*avarx*avarz^3)*rhomax)/(avar^8*rhomax)]]],\n",
       " [[[1/15*(15*avar*avarx^3*avary*rhomax*log(rhomax) + (9*avar^2*avarx*avary*nsrcx^2 - 23*avarx^3*avary + (2*avar^4*nsrcx^3 + 9*avar^2*avarx^2*nsrcx)*nsrcy)*avar*rhomax - (2*avar^4*avary*nsrcx^3 + 24*avar^2*avarx^2*avary*nsrcx - 15*(avar*log(2) + avar*log(avar))*avarx^3*avary + 2*(3*avar^4*avarx*nsrcx^2 + 4*avar^2*avarx^3)*nsrcy)*rhomax)/(avar^8*rhomax),\n",
       "    -1/15*((4*avar^3*avarx*nsrcx*nsrcy^2 + 16*avar*avarx*avary^2*nsrcx - 15*avarx^2*avary^2*(log(2) + log(avar)) - 15*avarx^2*avary^2*log(rhomax) + 4*(avar^3*avary*nsrcx^2 + 4*avar*avarx^2*avary)*nsrcy)*avar*rhomax - (3*avar^3*avary^2*nsrcx^2 + 12*avar^3*avarx*avary*nsrcx*nsrcy - 23*avar*avarx^2*avary^2 + (2*avar^5*nsrcx^2 + 3*avar^3*avarx^2)*nsrcy^2)*rhomax)/(avar^8*rhomax),\n",
       "    1/15*(15*avar*avarx^2*avary*avarz*rhomax*log(rhomax) + (3*avar^2*avary*avarz*nsrcx^2 + 6*avar^2*avarx*avarz*nsrcx*nsrcy - 23*avarx^2*avary*avarz + (6*avar^2*avarx*avary*nsrcx + (2*avar^4*nsrcx^2 + 3*avar^2*avarx^2)*nsrcy)*nsrcz)*avar*rhomax - (16*avar^2*avarx*avary*avarz*nsrcx - 15*(avar*log(2) + avar*log(avar))*avarx^2*avary*avarz + 2*(avar^4*avarz*nsrcx^2 + 4*avar^2*avarx^2*avarz)*nsrcy + 2*(avar^4*avary*nsrcx^2 + 2*avar^4*avarx*nsrcx*nsrcy + 4*avar^2*avarx^2*avary)*nsrcz)*rhomax)/(avar^8*rhomax)],\n",
       "   [-1/15*((4*avar^3*avarx*nsrcx*nsrcy^2 + 16*avar*avarx*avary^2*nsrcx - 15*avarx^2*avary^2*(log(2) + log(avar)) - 15*avarx^2*avary^2*log(rhomax) + 4*(avar^3*avary*nsrcx^2 + 4*avar*avarx^2*avary)*nsrcy)*avar*rhomax - (3*avar^3*avary^2*nsrcx^2 + 12*avar^3*avarx*avary*nsrcx*nsrcy - 23*avar*avarx^2*avary^2 + (2*avar^5*nsrcx^2 + 3*avar^3*avarx^2)*nsrcy^2)*rhomax)/(avar^8*rhomax),\n",
       "    1/15*(15*avar*avarx*avary^3*rhomax*log(rhomax) + (2*avar^4*nsrcx*nsrcy^3 + 9*avar^2*avary^2*nsrcx*nsrcy + 9*avar^2*avarx*avary*nsrcy^2 - 23*avarx*avary^3)*avar*rhomax - (6*avar^4*avary*nsrcx*nsrcy^2 + 2*avar^4*avarx*nsrcy^3 + 8*avar^2*avary^3*nsrcx + 24*avar^2*avarx*avary^2*nsrcy - 15*(avar*log(2) + avar*log(avar))*avarx*avary^3)*rhomax)/(avar^8*rhomax),\n",
       "    1/15*(15*avar*avarx*avary^2*avarz*rhomax*log(rhomax) + (6*avar^2*avary*avarz*nsrcx*nsrcy + 3*avar^2*avarx*avarz*nsrcy^2 - 23*avarx*avary^2*avarz + (2*avar^4*nsrcx*nsrcy^2 + 3*avar^2*avary^2*nsrcx + 6*avar^2*avarx*avary*nsrcy)*nsrcz)*avar*rhomax - (2*avar^4*avarz*nsrcx*nsrcy^2 + 8*avar^2*avary^2*avarz*nsrcx + 16*avar^2*avarx*avary*avarz*nsrcy - 15*(avar*log(2) + avar*log(avar))*avarx*avary^2*avarz + 2*(2*avar^4*avary*nsrcx*nsrcy + avar^4*avarx*nsrcy^2 + 4*avar^2*avarx*avary^2)*nsrcz)*rhomax)/(avar^8*rhomax)],\n",
       "   [1/15*(15*avar*avarx^2*avary*avarz*rhomax*log(rhomax) + (3*avar^2*avary*avarz*nsrcx^2 + 6*avar^2*avarx*avarz*nsrcx*nsrcy - 23*avarx^2*avary*avarz + (6*avar^2*avarx*avary*nsrcx + (2*avar^4*nsrcx^2 + 3*avar^2*avarx^2)*nsrcy)*nsrcz)*avar*rhomax - (16*avar^2*avarx*avary*avarz*nsrcx - 15*(avar*log(2) + avar*log(avar))*avarx^2*avary*avarz + 2*(avar^4*avarz*nsrcx^2 + 4*avar^2*avarx^2*avarz)*nsrcy + 2*(avar^4*avary*nsrcx^2 + 2*avar^4*avarx*nsrcx*nsrcy + 4*avar^2*avarx^2*avary)*nsrcz)*rhomax)/(avar^8*rhomax),\n",
       "    1/15*(15*avar*avarx*avary^2*avarz*rhomax*log(rhomax) + (6*avar^2*avary*avarz*nsrcx*nsrcy + 3*avar^2*avarx*avarz*nsrcy^2 - 23*avarx*avary^2*avarz + (2*avar^4*nsrcx*nsrcy^2 + 3*avar^2*avary^2*nsrcx + 6*avar^2*avarx*avary*nsrcy)*nsrcz)*avar*rhomax - (2*avar^4*avarz*nsrcx*nsrcy^2 + 8*avar^2*avary^2*avarz*nsrcx + 16*avar^2*avarx*avary*avarz*nsrcy - 15*(avar*log(2) + avar*log(avar))*avarx*avary^2*avarz + 2*(2*avar^4*avary*nsrcx*nsrcy + avar^4*avarx*nsrcy^2 + 4*avar^2*avarx*avary^2)*nsrcz)*rhomax)/(avar^8*rhomax),\n",
       "    1/15*(15*avar*avarx*avary*avarz^2*rhomax*log(rhomax) + (3*avar^2*avarz^2*nsrcx*nsrcy - 23*avarx*avary*avarz^2 + (2*avar^4*nsrcx*nsrcy + 3*avar^2*avarx*avary)*nsrcz^2 + 6*(avar^2*avary*avarz*nsrcx + avar^2*avarx*avarz*nsrcy)*nsrcz)*avar*rhomax - (8*avar^2*avary*avarz^2*nsrcx + 8*avar^2*avarx*avarz^2*nsrcy - 15*(avar*log(2) + avar*log(avar))*avarx*avary*avarz^2 + 2*(avar^4*avary*nsrcx + avar^4*avarx*nsrcy)*nsrcz^2 + 4*(avar^4*avarz*nsrcx*nsrcy + 4*avar^2*avarx*avary*avarz)*nsrcz)*rhomax)/(avar^8*rhomax)]],\n",
       "  [[-1/15*((4*avar^3*avarx*nsrcx*nsrcy^2 + 16*avar*avarx*avary^2*nsrcx - 15*avarx^2*avary^2*(log(2) + log(avar)) - 15*avarx^2*avary^2*log(rhomax) + 4*(avar^3*avary*nsrcx^2 + 4*avar*avarx^2*avary)*nsrcy)*avar*rhomax - (3*avar^3*avary^2*nsrcx^2 + 12*avar^3*avarx*avary*nsrcx*nsrcy - 23*avar*avarx^2*avary^2 + (2*avar^5*nsrcx^2 + 3*avar^3*avarx^2)*nsrcy^2)*rhomax)/(avar^8*rhomax),\n",
       "    1/15*(15*avar*avarx*avary^3*rhomax*log(rhomax) + (2*avar^4*nsrcx*nsrcy^3 + 9*avar^2*avary^2*nsrcx*nsrcy + 9*avar^2*avarx*avary*nsrcy^2 - 23*avarx*avary^3)*avar*rhomax - (6*avar^4*avary*nsrcx*nsrcy^2 + 2*avar^4*avarx*nsrcy^3 + 8*avar^2*avary^3*nsrcx + 24*avar^2*avarx*avary^2*nsrcy - 15*(avar*log(2) + avar*log(avar))*avarx*avary^3)*rhomax)/(avar^8*rhomax),\n",
       "    1/15*(15*avar*avarx*avary^2*avarz*rhomax*log(rhomax) + (6*avar^2*avary*avarz*nsrcx*nsrcy + 3*avar^2*avarx*avarz*nsrcy^2 - 23*avarx*avary^2*avarz + (2*avar^4*nsrcx*nsrcy^2 + 3*avar^2*avary^2*nsrcx + 6*avar^2*avarx*avary*nsrcy)*nsrcz)*avar*rhomax - (2*avar^4*avarz*nsrcx*nsrcy^2 + 8*avar^2*avary^2*avarz*nsrcx + 16*avar^2*avarx*avary*avarz*nsrcy - 15*(avar*log(2) + avar*log(avar))*avarx*avary^2*avarz + 2*(2*avar^4*avary*nsrcx*nsrcy + avar^4*avarx*nsrcy^2 + 4*avar^2*avarx*avary^2)*nsrcz)*rhomax)/(avar^8*rhomax)],\n",
       "   [1/15*(15*avar*avarx*avary^3*rhomax*log(rhomax) + (2*avar^4*nsrcx*nsrcy^3 + 9*avar^2*avary^2*nsrcx*nsrcy + 9*avar^2*avarx*avary*nsrcy^2 - 23*avarx*avary^3)*avar*rhomax - (6*avar^4*avary*nsrcx*nsrcy^2 + 2*avar^4*avarx*nsrcy^3 + 8*avar^2*avary^3*nsrcx + 24*avar^2*avarx*avary^2*nsrcy - 15*(avar*log(2) + avar*log(avar))*avarx*avary^3)*rhomax)/(avar^8*rhomax),\n",
       "    1/15*(15*avar*avary^4*rhomax*log(rhomax) + (2*avar^4*nsrcy^4 + 18*avar^2*avary^2*nsrcy^2 - 23*avary^4)*avar*rhomax - (8*avar^4*avary*nsrcy^3 + 32*avar^2*avary^3*nsrcy - 15*(avar*log(2) + avar*log(avar))*avary^4)*rhomax)/(avar^8*rhomax),\n",
       "    1/15*(15*avar*avary^3*avarz*rhomax*log(rhomax) + (9*avar^2*avary*avarz*nsrcy^2 - 23*avary^3*avarz + (2*avar^4*nsrcy^3 + 9*avar^2*avary^2*nsrcy)*nsrcz)*avar*rhomax - (2*avar^4*avarz*nsrcy^3 + 24*avar^2*avary^2*avarz*nsrcy - 15*(avar*log(2) + avar*log(avar))*avary^3*avarz + 2*(3*avar^4*avary*nsrcy^2 + 4*avar^2*avary^3)*nsrcz)*rhomax)/(avar^8*rhomax)],\n",
       "   [1/15*(15*avar*avarx*avary^2*avarz*rhomax*log(rhomax) + (6*avar^2*avary*avarz*nsrcx*nsrcy + 3*avar^2*avarx*avarz*nsrcy^2 - 23*avarx*avary^2*avarz + (2*avar^4*nsrcx*nsrcy^2 + 3*avar^2*avary^2*nsrcx + 6*avar^2*avarx*avary*nsrcy)*nsrcz)*avar*rhomax - (2*avar^4*avarz*nsrcx*nsrcy^2 + 8*avar^2*avary^2*avarz*nsrcx + 16*avar^2*avarx*avary*avarz*nsrcy - 15*(avar*log(2) + avar*log(avar))*avarx*avary^2*avarz + 2*(2*avar^4*avary*nsrcx*nsrcy + avar^4*avarx*nsrcy^2 + 4*avar^2*avarx*avary^2)*nsrcz)*rhomax)/(avar^8*rhomax),\n",
       "    1/15*(15*avar*avary^3*avarz*rhomax*log(rhomax) + (9*avar^2*avary*avarz*nsrcy^2 - 23*avary^3*avarz + (2*avar^4*nsrcy^3 + 9*avar^2*avary^2*nsrcy)*nsrcz)*avar*rhomax - (2*avar^4*avarz*nsrcy^3 + 24*avar^2*avary^2*avarz*nsrcy - 15*(avar*log(2) + avar*log(avar))*avary^3*avarz + 2*(3*avar^4*avary*nsrcy^2 + 4*avar^2*avary^3)*nsrcz)*rhomax)/(avar^8*rhomax),\n",
       "    -1/15*((4*avar^3*avary*nsrcy*nsrcz^2 + 16*avar*avary*avarz^2*nsrcy - 15*avary^2*avarz^2*(log(2) + log(avar)) - 15*avary^2*avarz^2*log(rhomax) + 4*(avar^3*avarz*nsrcy^2 + 4*avar*avary^2*avarz)*nsrcz)*avar*rhomax - (3*avar^3*avarz^2*nsrcy^2 + 12*avar^3*avary*avarz*nsrcy*nsrcz - 23*avar*avary^2*avarz^2 + (2*avar^5*nsrcy^2 + 3*avar^3*avary^2)*nsrcz^2)*rhomax)/(avar^8*rhomax)]],\n",
       "  [[1/15*(15*avar*avarx^2*avary*avarz*rhomax*log(rhomax) + (3*avar^2*avary*avarz*nsrcx^2 + 6*avar^2*avarx*avarz*nsrcx*nsrcy - 23*avarx^2*avary*avarz + (6*avar^2*avarx*avary*nsrcx + (2*avar^4*nsrcx^2 + 3*avar^2*avarx^2)*nsrcy)*nsrcz)*avar*rhomax - (16*avar^2*avarx*avary*avarz*nsrcx - 15*(avar*log(2) + avar*log(avar))*avarx^2*avary*avarz + 2*(avar^4*avarz*nsrcx^2 + 4*avar^2*avarx^2*avarz)*nsrcy + 2*(avar^4*avary*nsrcx^2 + 2*avar^4*avarx*nsrcx*nsrcy + 4*avar^2*avarx^2*avary)*nsrcz)*rhomax)/(avar^8*rhomax),\n",
       "    1/15*(15*avar*avarx*avary^2*avarz*rhomax*log(rhomax) + (6*avar^2*avary*avarz*nsrcx*nsrcy + 3*avar^2*avarx*avarz*nsrcy^2 - 23*avarx*avary^2*avarz + (2*avar^4*nsrcx*nsrcy^2 + 3*avar^2*avary^2*nsrcx + 6*avar^2*avarx*avary*nsrcy)*nsrcz)*avar*rhomax - (2*avar^4*avarz*nsrcx*nsrcy^2 + 8*avar^2*avary^2*avarz*nsrcx + 16*avar^2*avarx*avary*avarz*nsrcy - 15*(avar*log(2) + avar*log(avar))*avarx*avary^2*avarz + 2*(2*avar^4*avary*nsrcx*nsrcy + avar^4*avarx*nsrcy^2 + 4*avar^2*avarx*avary^2)*nsrcz)*rhomax)/(avar^8*rhomax),\n",
       "    1/15*(15*avar*avarx*avary*avarz^2*rhomax*log(rhomax) + (3*avar^2*avarz^2*nsrcx*nsrcy - 23*avarx*avary*avarz^2 + (2*avar^4*nsrcx*nsrcy + 3*avar^2*avarx*avary)*nsrcz^2 + 6*(avar^2*avary*avarz*nsrcx + avar^2*avarx*avarz*nsrcy)*nsrcz)*avar*rhomax - (8*avar^2*avary*avarz^2*nsrcx + 8*avar^2*avarx*avarz^2*nsrcy - 15*(avar*log(2) + avar*log(avar))*avarx*avary*avarz^2 + 2*(avar^4*avary*nsrcx + avar^4*avarx*nsrcy)*nsrcz^2 + 4*(avar^4*avarz*nsrcx*nsrcy + 4*avar^2*avarx*avary*avarz)*nsrcz)*rhomax)/(avar^8*rhomax)],\n",
       "   [1/15*(15*avar*avarx*avary^2*avarz*rhomax*log(rhomax) + (6*avar^2*avary*avarz*nsrcx*nsrcy + 3*avar^2*avarx*avarz*nsrcy^2 - 23*avarx*avary^2*avarz + (2*avar^4*nsrcx*nsrcy^2 + 3*avar^2*avary^2*nsrcx + 6*avar^2*avarx*avary*nsrcy)*nsrcz)*avar*rhomax - (2*avar^4*avarz*nsrcx*nsrcy^2 + 8*avar^2*avary^2*avarz*nsrcx + 16*avar^2*avarx*avary*avarz*nsrcy - 15*(avar*log(2) + avar*log(avar))*avarx*avary^2*avarz + 2*(2*avar^4*avary*nsrcx*nsrcy + avar^4*avarx*nsrcy^2 + 4*avar^2*avarx*avary^2)*nsrcz)*rhomax)/(avar^8*rhomax),\n",
       "    1/15*(15*avar*avary^3*avarz*rhomax*log(rhomax) + (9*avar^2*avary*avarz*nsrcy^2 - 23*avary^3*avarz + (2*avar^4*nsrcy^3 + 9*avar^2*avary^2*nsrcy)*nsrcz)*avar*rhomax - (2*avar^4*avarz*nsrcy^3 + 24*avar^2*avary^2*avarz*nsrcy - 15*(avar*log(2) + avar*log(avar))*avary^3*avarz + 2*(3*avar^4*avary*nsrcy^2 + 4*avar^2*avary^3)*nsrcz)*rhomax)/(avar^8*rhomax),\n",
       "    -1/15*((4*avar^3*avary*nsrcy*nsrcz^2 + 16*avar*avary*avarz^2*nsrcy - 15*avary^2*avarz^2*(log(2) + log(avar)) - 15*avary^2*avarz^2*log(rhomax) + 4*(avar^3*avarz*nsrcy^2 + 4*avar*avary^2*avarz)*nsrcz)*avar*rhomax - (3*avar^3*avarz^2*nsrcy^2 + 12*avar^3*avary*avarz*nsrcy*nsrcz - 23*avar*avary^2*avarz^2 + (2*avar^5*nsrcy^2 + 3*avar^3*avary^2)*nsrcz^2)*rhomax)/(avar^8*rhomax)],\n",
       "   [1/15*(15*avar*avarx*avary*avarz^2*rhomax*log(rhomax) + (3*avar^2*avarz^2*nsrcx*nsrcy - 23*avarx*avary*avarz^2 + (2*avar^4*nsrcx*nsrcy + 3*avar^2*avarx*avary)*nsrcz^2 + 6*(avar^2*avary*avarz*nsrcx + avar^2*avarx*avarz*nsrcy)*nsrcz)*avar*rhomax - (8*avar^2*avary*avarz^2*nsrcx + 8*avar^2*avarx*avarz^2*nsrcy - 15*(avar*log(2) + avar*log(avar))*avarx*avary*avarz^2 + 2*(avar^4*avary*nsrcx + avar^4*avarx*nsrcy)*nsrcz^2 + 4*(avar^4*avarz*nsrcx*nsrcy + 4*avar^2*avarx*avary*avarz)*nsrcz)*rhomax)/(avar^8*rhomax),\n",
       "    -1/15*((4*avar^3*avary*nsrcy*nsrcz^2 + 16*avar*avary*avarz^2*nsrcy - 15*avary^2*avarz^2*(log(2) + log(avar)) - 15*avary^2*avarz^2*log(rhomax) + 4*(avar^3*avarz*nsrcy^2 + 4*avar*avary^2*avarz)*nsrcz)*avar*rhomax - (3*avar^3*avarz^2*nsrcy^2 + 12*avar^3*avary*avarz*nsrcy*nsrcz - 23*avar*avary^2*avarz^2 + (2*avar^5*nsrcy^2 + 3*avar^3*avary^2)*nsrcz^2)*rhomax)/(avar^8*rhomax),\n",
       "    1/15*(15*avar*avary*avarz^3*rhomax*log(rhomax) + (2*avar^4*nsrcy*nsrcz^3 + 9*avar^2*avarz^2*nsrcy*nsrcz + 9*avar^2*avary*avarz*nsrcz^2 - 23*avary*avarz^3)*avar*rhomax - (6*avar^4*avarz*nsrcy*nsrcz^2 + 2*avar^4*avary*nsrcz^3 + 8*avar^2*avarz^3*nsrcy + 24*avar^2*avary*avarz^2*nsrcz - 15*(avar*log(2) + avar*log(avar))*avary*avarz^3)*rhomax)/(avar^8*rhomax)]]],\n",
       " [[[1/15*(15*avar*avarx^3*avarz*rhomax*log(rhomax) + (9*avar^2*avarx*avarz*nsrcx^2 - 23*avarx^3*avarz + (2*avar^4*nsrcx^3 + 9*avar^2*avarx^2*nsrcx)*nsrcz)*avar*rhomax - (2*avar^4*avarz*nsrcx^3 + 24*avar^2*avarx^2*avarz*nsrcx - 15*(avar*log(2) + avar*log(avar))*avarx^3*avarz + 2*(3*avar^4*avarx*nsrcx^2 + 4*avar^2*avarx^3)*nsrcz)*rhomax)/(avar^8*rhomax),\n",
       "    1/15*(15*avar*avarx^2*avary*avarz*rhomax*log(rhomax) + (3*avar^2*avary*avarz*nsrcx^2 + 6*avar^2*avarx*avarz*nsrcx*nsrcy - 23*avarx^2*avary*avarz + (6*avar^2*avarx*avary*nsrcx + (2*avar^4*nsrcx^2 + 3*avar^2*avarx^2)*nsrcy)*nsrcz)*avar*rhomax - (16*avar^2*avarx*avary*avarz*nsrcx - 15*(avar*log(2) + avar*log(avar))*avarx^2*avary*avarz + 2*(avar^4*avarz*nsrcx^2 + 4*avar^2*avarx^2*avarz)*nsrcy + 2*(avar^4*avary*nsrcx^2 + 2*avar^4*avarx*nsrcx*nsrcy + 4*avar^2*avarx^2*avary)*nsrcz)*rhomax)/(avar^8*rhomax),\n",
       "    -1/15*((4*avar^3*avarx*nsrcx*nsrcz^2 + 16*avar*avarx*avarz^2*nsrcx - 15*avarx^2*avarz^2*(log(2) + log(avar)) - 15*avarx^2*avarz^2*log(rhomax) + 4*(avar^3*avarz*nsrcx^2 + 4*avar*avarx^2*avarz)*nsrcz)*avar*rhomax - (3*avar^3*avarz^2*nsrcx^2 + 12*avar^3*avarx*avarz*nsrcx*nsrcz - 23*avar*avarx^2*avarz^2 + (2*avar^5*nsrcx^2 + 3*avar^3*avarx^2)*nsrcz^2)*rhomax)/(avar^8*rhomax)],\n",
       "   [1/15*(15*avar*avarx^2*avary*avarz*rhomax*log(rhomax) + (3*avar^2*avary*avarz*nsrcx^2 + 6*avar^2*avarx*avarz*nsrcx*nsrcy - 23*avarx^2*avary*avarz + (6*avar^2*avarx*avary*nsrcx + (2*avar^4*nsrcx^2 + 3*avar^2*avarx^2)*nsrcy)*nsrcz)*avar*rhomax - (16*avar^2*avarx*avary*avarz*nsrcx - 15*(avar*log(2) + avar*log(avar))*avarx^2*avary*avarz + 2*(avar^4*avarz*nsrcx^2 + 4*avar^2*avarx^2*avarz)*nsrcy + 2*(avar^4*avary*nsrcx^2 + 2*avar^4*avarx*nsrcx*nsrcy + 4*avar^2*avarx^2*avary)*nsrcz)*rhomax)/(avar^8*rhomax),\n",
       "    1/15*(15*avar*avarx*avary^2*avarz*rhomax*log(rhomax) + (6*avar^2*avary*avarz*nsrcx*nsrcy + 3*avar^2*avarx*avarz*nsrcy^2 - 23*avarx*avary^2*avarz + (2*avar^4*nsrcx*nsrcy^2 + 3*avar^2*avary^2*nsrcx + 6*avar^2*avarx*avary*nsrcy)*nsrcz)*avar*rhomax - (2*avar^4*avarz*nsrcx*nsrcy^2 + 8*avar^2*avary^2*avarz*nsrcx + 16*avar^2*avarx*avary*avarz*nsrcy - 15*(avar*log(2) + avar*log(avar))*avarx*avary^2*avarz + 2*(2*avar^4*avary*nsrcx*nsrcy + avar^4*avarx*nsrcy^2 + 4*avar^2*avarx*avary^2)*nsrcz)*rhomax)/(avar^8*rhomax),\n",
       "    1/15*(15*avar*avarx*avary*avarz^2*rhomax*log(rhomax) + (3*avar^2*avarz^2*nsrcx*nsrcy - 23*avarx*avary*avarz^2 + (2*avar^4*nsrcx*nsrcy + 3*avar^2*avarx*avary)*nsrcz^2 + 6*(avar^2*avary*avarz*nsrcx + avar^2*avarx*avarz*nsrcy)*nsrcz)*avar*rhomax - (8*avar^2*avary*avarz^2*nsrcx + 8*avar^2*avarx*avarz^2*nsrcy - 15*(avar*log(2) + avar*log(avar))*avarx*avary*avarz^2 + 2*(avar^4*avary*nsrcx + avar^4*avarx*nsrcy)*nsrcz^2 + 4*(avar^4*avarz*nsrcx*nsrcy + 4*avar^2*avarx*avary*avarz)*nsrcz)*rhomax)/(avar^8*rhomax)],\n",
       "   [-1/15*((4*avar^3*avarx*nsrcx*nsrcz^2 + 16*avar*avarx*avarz^2*nsrcx - 15*avarx^2*avarz^2*(log(2) + log(avar)) - 15*avarx^2*avarz^2*log(rhomax) + 4*(avar^3*avarz*nsrcx^2 + 4*avar*avarx^2*avarz)*nsrcz)*avar*rhomax - (3*avar^3*avarz^2*nsrcx^2 + 12*avar^3*avarx*avarz*nsrcx*nsrcz - 23*avar*avarx^2*avarz^2 + (2*avar^5*nsrcx^2 + 3*avar^3*avarx^2)*nsrcz^2)*rhomax)/(avar^8*rhomax),\n",
       "    1/15*(15*avar*avarx*avary*avarz^2*rhomax*log(rhomax) + (3*avar^2*avarz^2*nsrcx*nsrcy - 23*avarx*avary*avarz^2 + (2*avar^4*nsrcx*nsrcy + 3*avar^2*avarx*avary)*nsrcz^2 + 6*(avar^2*avary*avarz*nsrcx + avar^2*avarx*avarz*nsrcy)*nsrcz)*avar*rhomax - (8*avar^2*avary*avarz^2*nsrcx + 8*avar^2*avarx*avarz^2*nsrcy - 15*(avar*log(2) + avar*log(avar))*avarx*avary*avarz^2 + 2*(avar^4*avary*nsrcx + avar^4*avarx*nsrcy)*nsrcz^2 + 4*(avar^4*avarz*nsrcx*nsrcy + 4*avar^2*avarx*avary*avarz)*nsrcz)*rhomax)/(avar^8*rhomax),\n",
       "    1/15*(15*avar*avarx*avarz^3*rhomax*log(rhomax) + (2*avar^4*nsrcx*nsrcz^3 + 9*avar^2*avarz^2*nsrcx*nsrcz + 9*avar^2*avarx*avarz*nsrcz^2 - 23*avarx*avarz^3)*avar*rhomax - (6*avar^4*avarz*nsrcx*nsrcz^2 + 2*avar^4*avarx*nsrcz^3 + 8*avar^2*avarz^3*nsrcx + 24*avar^2*avarx*avarz^2*nsrcz - 15*(avar*log(2) + avar*log(avar))*avarx*avarz^3)*rhomax)/(avar^8*rhomax)]],\n",
       "  [[1/15*(15*avar*avarx^2*avary*avarz*rhomax*log(rhomax) + (3*avar^2*avary*avarz*nsrcx^2 + 6*avar^2*avarx*avarz*nsrcx*nsrcy - 23*avarx^2*avary*avarz + (6*avar^2*avarx*avary*nsrcx + (2*avar^4*nsrcx^2 + 3*avar^2*avarx^2)*nsrcy)*nsrcz)*avar*rhomax - (16*avar^2*avarx*avary*avarz*nsrcx - 15*(avar*log(2) + avar*log(avar))*avarx^2*avary*avarz + 2*(avar^4*avarz*nsrcx^2 + 4*avar^2*avarx^2*avarz)*nsrcy + 2*(avar^4*avary*nsrcx^2 + 2*avar^4*avarx*nsrcx*nsrcy + 4*avar^2*avarx^2*avary)*nsrcz)*rhomax)/(avar^8*rhomax),\n",
       "    1/15*(15*avar*avarx*avary^2*avarz*rhomax*log(rhomax) + (6*avar^2*avary*avarz*nsrcx*nsrcy + 3*avar^2*avarx*avarz*nsrcy^2 - 23*avarx*avary^2*avarz + (2*avar^4*nsrcx*nsrcy^2 + 3*avar^2*avary^2*nsrcx + 6*avar^2*avarx*avary*nsrcy)*nsrcz)*avar*rhomax - (2*avar^4*avarz*nsrcx*nsrcy^2 + 8*avar^2*avary^2*avarz*nsrcx + 16*avar^2*avarx*avary*avarz*nsrcy - 15*(avar*log(2) + avar*log(avar))*avarx*avary^2*avarz + 2*(2*avar^4*avary*nsrcx*nsrcy + avar^4*avarx*nsrcy^2 + 4*avar^2*avarx*avary^2)*nsrcz)*rhomax)/(avar^8*rhomax),\n",
       "    1/15*(15*avar*avarx*avary*avarz^2*rhomax*log(rhomax) + (3*avar^2*avarz^2*nsrcx*nsrcy - 23*avarx*avary*avarz^2 + (2*avar^4*nsrcx*nsrcy + 3*avar^2*avarx*avary)*nsrcz^2 + 6*(avar^2*avary*avarz*nsrcx + avar^2*avarx*avarz*nsrcy)*nsrcz)*avar*rhomax - (8*avar^2*avary*avarz^2*nsrcx + 8*avar^2*avarx*avarz^2*nsrcy - 15*(avar*log(2) + avar*log(avar))*avarx*avary*avarz^2 + 2*(avar^4*avary*nsrcx + avar^4*avarx*nsrcy)*nsrcz^2 + 4*(avar^4*avarz*nsrcx*nsrcy + 4*avar^2*avarx*avary*avarz)*nsrcz)*rhomax)/(avar^8*rhomax)],\n",
       "   [1/15*(15*avar*avarx*avary^2*avarz*rhomax*log(rhomax) + (6*avar^2*avary*avarz*nsrcx*nsrcy + 3*avar^2*avarx*avarz*nsrcy^2 - 23*avarx*avary^2*avarz + (2*avar^4*nsrcx*nsrcy^2 + 3*avar^2*avary^2*nsrcx + 6*avar^2*avarx*avary*nsrcy)*nsrcz)*avar*rhomax - (2*avar^4*avarz*nsrcx*nsrcy^2 + 8*avar^2*avary^2*avarz*nsrcx + 16*avar^2*avarx*avary*avarz*nsrcy - 15*(avar*log(2) + avar*log(avar))*avarx*avary^2*avarz + 2*(2*avar^4*avary*nsrcx*nsrcy + avar^4*avarx*nsrcy^2 + 4*avar^2*avarx*avary^2)*nsrcz)*rhomax)/(avar^8*rhomax),\n",
       "    1/15*(15*avar*avary^3*avarz*rhomax*log(rhomax) + (9*avar^2*avary*avarz*nsrcy^2 - 23*avary^3*avarz + (2*avar^4*nsrcy^3 + 9*avar^2*avary^2*nsrcy)*nsrcz)*avar*rhomax - (2*avar^4*avarz*nsrcy^3 + 24*avar^2*avary^2*avarz*nsrcy - 15*(avar*log(2) + avar*log(avar))*avary^3*avarz + 2*(3*avar^4*avary*nsrcy^2 + 4*avar^2*avary^3)*nsrcz)*rhomax)/(avar^8*rhomax),\n",
       "    -1/15*((4*avar^3*avary*nsrcy*nsrcz^2 + 16*avar*avary*avarz^2*nsrcy - 15*avary^2*avarz^2*(log(2) + log(avar)) - 15*avary^2*avarz^2*log(rhomax) + 4*(avar^3*avarz*nsrcy^2 + 4*avar*avary^2*avarz)*nsrcz)*avar*rhomax - (3*avar^3*avarz^2*nsrcy^2 + 12*avar^3*avary*avarz*nsrcy*nsrcz - 23*avar*avary^2*avarz^2 + (2*avar^5*nsrcy^2 + 3*avar^3*avary^2)*nsrcz^2)*rhomax)/(avar^8*rhomax)],\n",
       "   [1/15*(15*avar*avarx*avary*avarz^2*rhomax*log(rhomax) + (3*avar^2*avarz^2*nsrcx*nsrcy - 23*avarx*avary*avarz^2 + (2*avar^4*nsrcx*nsrcy + 3*avar^2*avarx*avary)*nsrcz^2 + 6*(avar^2*avary*avarz*nsrcx + avar^2*avarx*avarz*nsrcy)*nsrcz)*avar*rhomax - (8*avar^2*avary*avarz^2*nsrcx + 8*avar^2*avarx*avarz^2*nsrcy - 15*(avar*log(2) + avar*log(avar))*avarx*avary*avarz^2 + 2*(avar^4*avary*nsrcx + avar^4*avarx*nsrcy)*nsrcz^2 + 4*(avar^4*avarz*nsrcx*nsrcy + 4*avar^2*avarx*avary*avarz)*nsrcz)*rhomax)/(avar^8*rhomax),\n",
       "    -1/15*((4*avar^3*avary*nsrcy*nsrcz^2 + 16*avar*avary*avarz^2*nsrcy - 15*avary^2*avarz^2*(log(2) + log(avar)) - 15*avary^2*avarz^2*log(rhomax) + 4*(avar^3*avarz*nsrcy^2 + 4*avar*avary^2*avarz)*nsrcz)*avar*rhomax - (3*avar^3*avarz^2*nsrcy^2 + 12*avar^3*avary*avarz*nsrcy*nsrcz - 23*avar*avary^2*avarz^2 + (2*avar^5*nsrcy^2 + 3*avar^3*avary^2)*nsrcz^2)*rhomax)/(avar^8*rhomax),\n",
       "    1/15*(15*avar*avary*avarz^3*rhomax*log(rhomax) + (2*avar^4*nsrcy*nsrcz^3 + 9*avar^2*avarz^2*nsrcy*nsrcz + 9*avar^2*avary*avarz*nsrcz^2 - 23*avary*avarz^3)*avar*rhomax - (6*avar^4*avarz*nsrcy*nsrcz^2 + 2*avar^4*avary*nsrcz^3 + 8*avar^2*avarz^3*nsrcy + 24*avar^2*avary*avarz^2*nsrcz - 15*(avar*log(2) + avar*log(avar))*avary*avarz^3)*rhomax)/(avar^8*rhomax)]],\n",
       "  [[-1/15*((4*avar^3*avarx*nsrcx*nsrcz^2 + 16*avar*avarx*avarz^2*nsrcx - 15*avarx^2*avarz^2*(log(2) + log(avar)) - 15*avarx^2*avarz^2*log(rhomax) + 4*(avar^3*avarz*nsrcx^2 + 4*avar*avarx^2*avarz)*nsrcz)*avar*rhomax - (3*avar^3*avarz^2*nsrcx^2 + 12*avar^3*avarx*avarz*nsrcx*nsrcz - 23*avar*avarx^2*avarz^2 + (2*avar^5*nsrcx^2 + 3*avar^3*avarx^2)*nsrcz^2)*rhomax)/(avar^8*rhomax),\n",
       "    1/15*(15*avar*avarx*avary*avarz^2*rhomax*log(rhomax) + (3*avar^2*avarz^2*nsrcx*nsrcy - 23*avarx*avary*avarz^2 + (2*avar^4*nsrcx*nsrcy + 3*avar^2*avarx*avary)*nsrcz^2 + 6*(avar^2*avary*avarz*nsrcx + avar^2*avarx*avarz*nsrcy)*nsrcz)*avar*rhomax - (8*avar^2*avary*avarz^2*nsrcx + 8*avar^2*avarx*avarz^2*nsrcy - 15*(avar*log(2) + avar*log(avar))*avarx*avary*avarz^2 + 2*(avar^4*avary*nsrcx + avar^4*avarx*nsrcy)*nsrcz^2 + 4*(avar^4*avarz*nsrcx*nsrcy + 4*avar^2*avarx*avary*avarz)*nsrcz)*rhomax)/(avar^8*rhomax),\n",
       "    1/15*(15*avar*avarx*avarz^3*rhomax*log(rhomax) + (2*avar^4*nsrcx*nsrcz^3 + 9*avar^2*avarz^2*nsrcx*nsrcz + 9*avar^2*avarx*avarz*nsrcz^2 - 23*avarx*avarz^3)*avar*rhomax - (6*avar^4*avarz*nsrcx*nsrcz^2 + 2*avar^4*avarx*nsrcz^3 + 8*avar^2*avarz^3*nsrcx + 24*avar^2*avarx*avarz^2*nsrcz - 15*(avar*log(2) + avar*log(avar))*avarx*avarz^3)*rhomax)/(avar^8*rhomax)],\n",
       "   [1/15*(15*avar*avarx*avary*avarz^2*rhomax*log(rhomax) + (3*avar^2*avarz^2*nsrcx*nsrcy - 23*avarx*avary*avarz^2 + (2*avar^4*nsrcx*nsrcy + 3*avar^2*avarx*avary)*nsrcz^2 + 6*(avar^2*avary*avarz*nsrcx + avar^2*avarx*avarz*nsrcy)*nsrcz)*avar*rhomax - (8*avar^2*avary*avarz^2*nsrcx + 8*avar^2*avarx*avarz^2*nsrcy - 15*(avar*log(2) + avar*log(avar))*avarx*avary*avarz^2 + 2*(avar^4*avary*nsrcx + avar^4*avarx*nsrcy)*nsrcz^2 + 4*(avar^4*avarz*nsrcx*nsrcy + 4*avar^2*avarx*avary*avarz)*nsrcz)*rhomax)/(avar^8*rhomax),\n",
       "    -1/15*((4*avar^3*avary*nsrcy*nsrcz^2 + 16*avar*avary*avarz^2*nsrcy - 15*avary^2*avarz^2*(log(2) + log(avar)) - 15*avary^2*avarz^2*log(rhomax) + 4*(avar^3*avarz*nsrcy^2 + 4*avar*avary^2*avarz)*nsrcz)*avar*rhomax - (3*avar^3*avarz^2*nsrcy^2 + 12*avar^3*avary*avarz*nsrcy*nsrcz - 23*avar*avary^2*avarz^2 + (2*avar^5*nsrcy^2 + 3*avar^3*avary^2)*nsrcz^2)*rhomax)/(avar^8*rhomax),\n",
       "    1/15*(15*avar*avary*avarz^3*rhomax*log(rhomax) + (2*avar^4*nsrcy*nsrcz^3 + 9*avar^2*avarz^2*nsrcy*nsrcz + 9*avar^2*avary*avarz*nsrcz^2 - 23*avary*avarz^3)*avar*rhomax - (6*avar^4*avarz*nsrcy*nsrcz^2 + 2*avar^4*avary*nsrcz^3 + 8*avar^2*avarz^3*nsrcy + 24*avar^2*avary*avarz^2*nsrcz - 15*(avar*log(2) + avar*log(avar))*avary*avarz^3)*rhomax)/(avar^8*rhomax)],\n",
       "   [1/15*(15*avar*avarx*avarz^3*rhomax*log(rhomax) + (2*avar^4*nsrcx*nsrcz^3 + 9*avar^2*avarz^2*nsrcx*nsrcz + 9*avar^2*avarx*avarz*nsrcz^2 - 23*avarx*avarz^3)*avar*rhomax - (6*avar^4*avarz*nsrcx*nsrcz^2 + 2*avar^4*avarx*nsrcz^3 + 8*avar^2*avarz^3*nsrcx + 24*avar^2*avarx*avarz^2*nsrcz - 15*(avar*log(2) + avar*log(avar))*avarx*avarz^3)*rhomax)/(avar^8*rhomax),\n",
       "    1/15*(15*avar*avary*avarz^3*rhomax*log(rhomax) + (2*avar^4*nsrcy*nsrcz^3 + 9*avar^2*avarz^2*nsrcy*nsrcz + 9*avar^2*avary*avarz*nsrcz^2 - 23*avary*avarz^3)*avar*rhomax - (6*avar^4*avarz*nsrcy*nsrcz^2 + 2*avar^4*avary*nsrcz^3 + 8*avar^2*avarz^3*nsrcy + 24*avar^2*avary*avarz^2*nsrcz - 15*(avar*log(2) + avar*log(avar))*avary*avarz^3)*rhomax)/(avar^8*rhomax),\n",
       "    1/15*(15*avar*avarz^4*rhomax*log(rhomax) + (2*avar^4*nsrcz^4 + 18*avar^2*avarz^2*nsrcz^2 - 23*avarz^4)*avar*rhomax - (8*avar^4*avarz*nsrcz^3 + 32*avar^2*avarz^3*nsrcz - 15*(avar*log(2) + avar*log(avar))*avarz^4)*rhomax)/(avar^8*rhomax)]]]]"
      ]
     },
     "execution_count": 10,
     "metadata": {},
     "output_type": "execute_result"
    }
   ],
   "source": [
    "I6 = [[[[limit(\n",
    "    integrate(\n",
    "        (rho ** 2) * sep_polar[i] * sep_polar[j] * sep_polar[k] * sep_polar[l] / (r2 ** (7 / 2)), \n",
    "        rho, 0, rhomaxvar)\n",
    "        .factor(eps)\n",
    "        .expand()\n",
    "        .substitute(arcsinh(sqrt(avar ** 2)*rhomaxvar/eps) ==\n",
    "            log(2) + log(avar) + log(rhomax)),\n",
    "    eps = 0\n",
    ") for l in range(3)]\n",
    "for k in range(3)]\n",
    "for j in range(3)]\n",
    "for i in range(3)]\n",
    "I6"
   ]
  },
  {
   "cell_type": "code",
   "execution_count": 11,
   "metadata": {},
   "outputs": [],
   "source": [
    "def fixup(expr):\n",
    "    out_expr = str(expr).replace('[', '{').replace(']', '}')\n",
    "    \n",
    "    for i in range(2, 9):\n",
    "        out_expr = out_expr.replace('avar^' + str(i), 'avar' + str(i))\n",
    "        \n",
    "    for d in range(3):\n",
    "        dimname = ['x', 'y', 'z'][d]\n",
    "        for i in range(2, 5):\n",
    "            for prefix in ['avar', 'nsrc']:\n",
    "                out_expr = out_expr.replace(\n",
    "                    prefix + dimname + '^' + str(i), \n",
    "                    '(' + '*'.join([prefix + dimname] * i) + ')'\n",
    "                )\n",
    "    \n",
    "    out_expr = out_expr.replace('log(2)', 'log((Real)2.0)')\n",
    "            \n",
    "    return out_expr"
   ]
  },
  {
   "cell_type": "code",
   "execution_count": 15,
   "metadata": {
    "scrolled": true
   },
   "outputs": [
    {
     "name": "stdout",
     "output_type": "stream",
     "text": [
      "{{{{1/15*(15*avar*(avarx*avarx*avarx*avarx)*rhomax*log(rhomax) + (2*avar4*(nsrcx*nsrcx*nsrcx*nsrcx) + 18*avar2*(avarx*avarx)*(nsrcx*nsrcx) - 23*(avarx*avarx*avarx*avarx))*avar*rhomax - (8*avar4*avarx*(nsrcx*nsrcx*nsrcx) + 32*avar2*(avarx*avarx*avarx)*nsrcx - 15*(avar*log((Real)2.0) + avar*log(avar))*(avarx*avarx*avarx*avarx))*rhomax)/(avar8*rhomax), 1/15*(15*avar*(avarx*avarx*avarx)*avary*rhomax*log(rhomax) + (9*avar2*avarx*avary*(nsrcx*nsrcx) - 23*(avarx*avarx*avarx)*avary + (2*avar4*(nsrcx*nsrcx*nsrcx) + 9*avar2*(avarx*avarx)*nsrcx)*nsrcy)*avar*rhomax - (2*avar4*avary*(nsrcx*nsrcx*nsrcx) + 24*avar2*(avarx*avarx)*avary*nsrcx - 15*(avar*log((Real)2.0) + avar*log(avar))*(avarx*avarx*avarx)*avary + 2*(3*avar4*avarx*(nsrcx*nsrcx) + 4*avar2*(avarx*avarx*avarx))*nsrcy)*rhomax)/(avar8*rhomax), 1/15*(15*avar*(avarx*avarx*avarx)*avarz*rhomax*log(rhomax) + (9*avar2*avarx*avarz*(nsrcx*nsrcx) - 23*(avarx*avarx*avarx)*avarz + (2*avar4*(nsrcx*nsrcx*nsrcx) + 9*avar2*(avarx*avarx)*nsrcx)*nsrcz)*avar*rhomax - (2*avar4*avarz*(nsrcx*nsrcx*nsrcx) + 24*avar2*(avarx*avarx)*avarz*nsrcx - 15*(avar*log((Real)2.0) + avar*log(avar))*(avarx*avarx*avarx)*avarz + 2*(3*avar4*avarx*(nsrcx*nsrcx) + 4*avar2*(avarx*avarx*avarx))*nsrcz)*rhomax)/(avar8*rhomax)}, {1/15*(15*avar*(avarx*avarx*avarx)*avary*rhomax*log(rhomax) + (9*avar2*avarx*avary*(nsrcx*nsrcx) - 23*(avarx*avarx*avarx)*avary + (2*avar4*(nsrcx*nsrcx*nsrcx) + 9*avar2*(avarx*avarx)*nsrcx)*nsrcy)*avar*rhomax - (2*avar4*avary*(nsrcx*nsrcx*nsrcx) + 24*avar2*(avarx*avarx)*avary*nsrcx - 15*(avar*log((Real)2.0) + avar*log(avar))*(avarx*avarx*avarx)*avary + 2*(3*avar4*avarx*(nsrcx*nsrcx) + 4*avar2*(avarx*avarx*avarx))*nsrcy)*rhomax)/(avar8*rhomax), -1/15*((4*avar3*avarx*nsrcx*(nsrcy*nsrcy) + 16*avar*avarx*(avary*avary)*nsrcx - 15*(avarx*avarx)*(avary*avary)*(log((Real)2.0) + log(avar)) - 15*(avarx*avarx)*(avary*avary)*log(rhomax) + 4*(avar3*avary*(nsrcx*nsrcx) + 4*avar*(avarx*avarx)*avary)*nsrcy)*avar*rhomax - (3*avar3*(avary*avary)*(nsrcx*nsrcx) + 12*avar3*avarx*avary*nsrcx*nsrcy - 23*avar*(avarx*avarx)*(avary*avary) + (2*avar5*(nsrcx*nsrcx) + 3*avar3*(avarx*avarx))*(nsrcy*nsrcy))*rhomax)/(avar8*rhomax), 1/15*(15*avar*(avarx*avarx)*avary*avarz*rhomax*log(rhomax) + (3*avar2*avary*avarz*(nsrcx*nsrcx) + 6*avar2*avarx*avarz*nsrcx*nsrcy - 23*(avarx*avarx)*avary*avarz + (6*avar2*avarx*avary*nsrcx + (2*avar4*(nsrcx*nsrcx) + 3*avar2*(avarx*avarx))*nsrcy)*nsrcz)*avar*rhomax - (16*avar2*avarx*avary*avarz*nsrcx - 15*(avar*log((Real)2.0) + avar*log(avar))*(avarx*avarx)*avary*avarz + 2*(avar4*avarz*(nsrcx*nsrcx) + 4*avar2*(avarx*avarx)*avarz)*nsrcy + 2*(avar4*avary*(nsrcx*nsrcx) + 2*avar4*avarx*nsrcx*nsrcy + 4*avar2*(avarx*avarx)*avary)*nsrcz)*rhomax)/(avar8*rhomax)}, {1/15*(15*avar*(avarx*avarx*avarx)*avarz*rhomax*log(rhomax) + (9*avar2*avarx*avarz*(nsrcx*nsrcx) - 23*(avarx*avarx*avarx)*avarz + (2*avar4*(nsrcx*nsrcx*nsrcx) + 9*avar2*(avarx*avarx)*nsrcx)*nsrcz)*avar*rhomax - (2*avar4*avarz*(nsrcx*nsrcx*nsrcx) + 24*avar2*(avarx*avarx)*avarz*nsrcx - 15*(avar*log((Real)2.0) + avar*log(avar))*(avarx*avarx*avarx)*avarz + 2*(3*avar4*avarx*(nsrcx*nsrcx) + 4*avar2*(avarx*avarx*avarx))*nsrcz)*rhomax)/(avar8*rhomax), 1/15*(15*avar*(avarx*avarx)*avary*avarz*rhomax*log(rhomax) + (3*avar2*avary*avarz*(nsrcx*nsrcx) + 6*avar2*avarx*avarz*nsrcx*nsrcy - 23*(avarx*avarx)*avary*avarz + (6*avar2*avarx*avary*nsrcx + (2*avar4*(nsrcx*nsrcx) + 3*avar2*(avarx*avarx))*nsrcy)*nsrcz)*avar*rhomax - (16*avar2*avarx*avary*avarz*nsrcx - 15*(avar*log((Real)2.0) + avar*log(avar))*(avarx*avarx)*avary*avarz + 2*(avar4*avarz*(nsrcx*nsrcx) + 4*avar2*(avarx*avarx)*avarz)*nsrcy + 2*(avar4*avary*(nsrcx*nsrcx) + 2*avar4*avarx*nsrcx*nsrcy + 4*avar2*(avarx*avarx)*avary)*nsrcz)*rhomax)/(avar8*rhomax), -1/15*((4*avar3*avarx*nsrcx*(nsrcz*nsrcz) + 16*avar*avarx*(avarz*avarz)*nsrcx - 15*(avarx*avarx)*(avarz*avarz)*(log((Real)2.0) + log(avar)) - 15*(avarx*avarx)*(avarz*avarz)*log(rhomax) + 4*(avar3*avarz*(nsrcx*nsrcx) + 4*avar*(avarx*avarx)*avarz)*nsrcz)*avar*rhomax - (3*avar3*(avarz*avarz)*(nsrcx*nsrcx) + 12*avar3*avarx*avarz*nsrcx*nsrcz - 23*avar*(avarx*avarx)*(avarz*avarz) + (2*avar5*(nsrcx*nsrcx) + 3*avar3*(avarx*avarx))*(nsrcz*nsrcz))*rhomax)/(avar8*rhomax)}}, {{1/15*(15*avar*(avarx*avarx*avarx)*avary*rhomax*log(rhomax) + (9*avar2*avarx*avary*(nsrcx*nsrcx) - 23*(avarx*avarx*avarx)*avary + (2*avar4*(nsrcx*nsrcx*nsrcx) + 9*avar2*(avarx*avarx)*nsrcx)*nsrcy)*avar*rhomax - (2*avar4*avary*(nsrcx*nsrcx*nsrcx) + 24*avar2*(avarx*avarx)*avary*nsrcx - 15*(avar*log((Real)2.0) + avar*log(avar))*(avarx*avarx*avarx)*avary + 2*(3*avar4*avarx*(nsrcx*nsrcx) + 4*avar2*(avarx*avarx*avarx))*nsrcy)*rhomax)/(avar8*rhomax), -1/15*((4*avar3*avarx*nsrcx*(nsrcy*nsrcy) + 16*avar*avarx*(avary*avary)*nsrcx - 15*(avarx*avarx)*(avary*avary)*(log((Real)2.0) + log(avar)) - 15*(avarx*avarx)*(avary*avary)*log(rhomax) + 4*(avar3*avary*(nsrcx*nsrcx) + 4*avar*(avarx*avarx)*avary)*nsrcy)*avar*rhomax - (3*avar3*(avary*avary)*(nsrcx*nsrcx) + 12*avar3*avarx*avary*nsrcx*nsrcy - 23*avar*(avarx*avarx)*(avary*avary) + (2*avar5*(nsrcx*nsrcx) + 3*avar3*(avarx*avarx))*(nsrcy*nsrcy))*rhomax)/(avar8*rhomax), 1/15*(15*avar*(avarx*avarx)*avary*avarz*rhomax*log(rhomax) + (3*avar2*avary*avarz*(nsrcx*nsrcx) + 6*avar2*avarx*avarz*nsrcx*nsrcy - 23*(avarx*avarx)*avary*avarz + (6*avar2*avarx*avary*nsrcx + (2*avar4*(nsrcx*nsrcx) + 3*avar2*(avarx*avarx))*nsrcy)*nsrcz)*avar*rhomax - (16*avar2*avarx*avary*avarz*nsrcx - 15*(avar*log((Real)2.0) + avar*log(avar))*(avarx*avarx)*avary*avarz + 2*(avar4*avarz*(nsrcx*nsrcx) + 4*avar2*(avarx*avarx)*avarz)*nsrcy + 2*(avar4*avary*(nsrcx*nsrcx) + 2*avar4*avarx*nsrcx*nsrcy + 4*avar2*(avarx*avarx)*avary)*nsrcz)*rhomax)/(avar8*rhomax)}, {-1/15*((4*avar3*avarx*nsrcx*(nsrcy*nsrcy) + 16*avar*avarx*(avary*avary)*nsrcx - 15*(avarx*avarx)*(avary*avary)*(log((Real)2.0) + log(avar)) - 15*(avarx*avarx)*(avary*avary)*log(rhomax) + 4*(avar3*avary*(nsrcx*nsrcx) + 4*avar*(avarx*avarx)*avary)*nsrcy)*avar*rhomax - (3*avar3*(avary*avary)*(nsrcx*nsrcx) + 12*avar3*avarx*avary*nsrcx*nsrcy - 23*avar*(avarx*avarx)*(avary*avary) + (2*avar5*(nsrcx*nsrcx) + 3*avar3*(avarx*avarx))*(nsrcy*nsrcy))*rhomax)/(avar8*rhomax), 1/15*(15*avar*avarx*(avary*avary*avary)*rhomax*log(rhomax) + (2*avar4*nsrcx*(nsrcy*nsrcy*nsrcy) + 9*avar2*(avary*avary)*nsrcx*nsrcy + 9*avar2*avarx*avary*(nsrcy*nsrcy) - 23*avarx*(avary*avary*avary))*avar*rhomax - (6*avar4*avary*nsrcx*(nsrcy*nsrcy) + 2*avar4*avarx*(nsrcy*nsrcy*nsrcy) + 8*avar2*(avary*avary*avary)*nsrcx + 24*avar2*avarx*(avary*avary)*nsrcy - 15*(avar*log((Real)2.0) + avar*log(avar))*avarx*(avary*avary*avary))*rhomax)/(avar8*rhomax), 1/15*(15*avar*avarx*(avary*avary)*avarz*rhomax*log(rhomax) + (6*avar2*avary*avarz*nsrcx*nsrcy + 3*avar2*avarx*avarz*(nsrcy*nsrcy) - 23*avarx*(avary*avary)*avarz + (2*avar4*nsrcx*(nsrcy*nsrcy) + 3*avar2*(avary*avary)*nsrcx + 6*avar2*avarx*avary*nsrcy)*nsrcz)*avar*rhomax - (2*avar4*avarz*nsrcx*(nsrcy*nsrcy) + 8*avar2*(avary*avary)*avarz*nsrcx + 16*avar2*avarx*avary*avarz*nsrcy - 15*(avar*log((Real)2.0) + avar*log(avar))*avarx*(avary*avary)*avarz + 2*(2*avar4*avary*nsrcx*nsrcy + avar4*avarx*(nsrcy*nsrcy) + 4*avar2*avarx*(avary*avary))*nsrcz)*rhomax)/(avar8*rhomax)}, {1/15*(15*avar*(avarx*avarx)*avary*avarz*rhomax*log(rhomax) + (3*avar2*avary*avarz*(nsrcx*nsrcx) + 6*avar2*avarx*avarz*nsrcx*nsrcy - 23*(avarx*avarx)*avary*avarz + (6*avar2*avarx*avary*nsrcx + (2*avar4*(nsrcx*nsrcx) + 3*avar2*(avarx*avarx))*nsrcy)*nsrcz)*avar*rhomax - (16*avar2*avarx*avary*avarz*nsrcx - 15*(avar*log((Real)2.0) + avar*log(avar))*(avarx*avarx)*avary*avarz + 2*(avar4*avarz*(nsrcx*nsrcx) + 4*avar2*(avarx*avarx)*avarz)*nsrcy + 2*(avar4*avary*(nsrcx*nsrcx) + 2*avar4*avarx*nsrcx*nsrcy + 4*avar2*(avarx*avarx)*avary)*nsrcz)*rhomax)/(avar8*rhomax), 1/15*(15*avar*avarx*(avary*avary)*avarz*rhomax*log(rhomax) + (6*avar2*avary*avarz*nsrcx*nsrcy + 3*avar2*avarx*avarz*(nsrcy*nsrcy) - 23*avarx*(avary*avary)*avarz + (2*avar4*nsrcx*(nsrcy*nsrcy) + 3*avar2*(avary*avary)*nsrcx + 6*avar2*avarx*avary*nsrcy)*nsrcz)*avar*rhomax - (2*avar4*avarz*nsrcx*(nsrcy*nsrcy) + 8*avar2*(avary*avary)*avarz*nsrcx + 16*avar2*avarx*avary*avarz*nsrcy - 15*(avar*log((Real)2.0) + avar*log(avar))*avarx*(avary*avary)*avarz + 2*(2*avar4*avary*nsrcx*nsrcy + avar4*avarx*(nsrcy*nsrcy) + 4*avar2*avarx*(avary*avary))*nsrcz)*rhomax)/(avar8*rhomax), 1/15*(15*avar*avarx*avary*(avarz*avarz)*rhomax*log(rhomax) + (3*avar2*(avarz*avarz)*nsrcx*nsrcy - 23*avarx*avary*(avarz*avarz) + (2*avar4*nsrcx*nsrcy + 3*avar2*avarx*avary)*(nsrcz*nsrcz) + 6*(avar2*avary*avarz*nsrcx + avar2*avarx*avarz*nsrcy)*nsrcz)*avar*rhomax - (8*avar2*avary*(avarz*avarz)*nsrcx + 8*avar2*avarx*(avarz*avarz)*nsrcy - 15*(avar*log((Real)2.0) + avar*log(avar))*avarx*avary*(avarz*avarz) + 2*(avar4*avary*nsrcx + avar4*avarx*nsrcy)*(nsrcz*nsrcz) + 4*(avar4*avarz*nsrcx*nsrcy + 4*avar2*avarx*avary*avarz)*nsrcz)*rhomax)/(avar8*rhomax)}}, {{1/15*(15*avar*(avarx*avarx*avarx)*avarz*rhomax*log(rhomax) + (9*avar2*avarx*avarz*(nsrcx*nsrcx) - 23*(avarx*avarx*avarx)*avarz + (2*avar4*(nsrcx*nsrcx*nsrcx) + 9*avar2*(avarx*avarx)*nsrcx)*nsrcz)*avar*rhomax - (2*avar4*avarz*(nsrcx*nsrcx*nsrcx) + 24*avar2*(avarx*avarx)*avarz*nsrcx - 15*(avar*log((Real)2.0) + avar*log(avar))*(avarx*avarx*avarx)*avarz + 2*(3*avar4*avarx*(nsrcx*nsrcx) + 4*avar2*(avarx*avarx*avarx))*nsrcz)*rhomax)/(avar8*rhomax), 1/15*(15*avar*(avarx*avarx)*avary*avarz*rhomax*log(rhomax) + (3*avar2*avary*avarz*(nsrcx*nsrcx) + 6*avar2*avarx*avarz*nsrcx*nsrcy - 23*(avarx*avarx)*avary*avarz + (6*avar2*avarx*avary*nsrcx + (2*avar4*(nsrcx*nsrcx) + 3*avar2*(avarx*avarx))*nsrcy)*nsrcz)*avar*rhomax - (16*avar2*avarx*avary*avarz*nsrcx - 15*(avar*log((Real)2.0) + avar*log(avar))*(avarx*avarx)*avary*avarz + 2*(avar4*avarz*(nsrcx*nsrcx) + 4*avar2*(avarx*avarx)*avarz)*nsrcy + 2*(avar4*avary*(nsrcx*nsrcx) + 2*avar4*avarx*nsrcx*nsrcy + 4*avar2*(avarx*avarx)*avary)*nsrcz)*rhomax)/(avar8*rhomax), -1/15*((4*avar3*avarx*nsrcx*(nsrcz*nsrcz) + 16*avar*avarx*(avarz*avarz)*nsrcx - 15*(avarx*avarx)*(avarz*avarz)*(log((Real)2.0) + log(avar)) - 15*(avarx*avarx)*(avarz*avarz)*log(rhomax) + 4*(avar3*avarz*(nsrcx*nsrcx) + 4*avar*(avarx*avarx)*avarz)*nsrcz)*avar*rhomax - (3*avar3*(avarz*avarz)*(nsrcx*nsrcx) + 12*avar3*avarx*avarz*nsrcx*nsrcz - 23*avar*(avarx*avarx)*(avarz*avarz) + (2*avar5*(nsrcx*nsrcx) + 3*avar3*(avarx*avarx))*(nsrcz*nsrcz))*rhomax)/(avar8*rhomax)}, {1/15*(15*avar*(avarx*avarx)*avary*avarz*rhomax*log(rhomax) + (3*avar2*avary*avarz*(nsrcx*nsrcx) + 6*avar2*avarx*avarz*nsrcx*nsrcy - 23*(avarx*avarx)*avary*avarz + (6*avar2*avarx*avary*nsrcx + (2*avar4*(nsrcx*nsrcx) + 3*avar2*(avarx*avarx))*nsrcy)*nsrcz)*avar*rhomax - (16*avar2*avarx*avary*avarz*nsrcx - 15*(avar*log((Real)2.0) + avar*log(avar))*(avarx*avarx)*avary*avarz + 2*(avar4*avarz*(nsrcx*nsrcx) + 4*avar2*(avarx*avarx)*avarz)*nsrcy + 2*(avar4*avary*(nsrcx*nsrcx) + 2*avar4*avarx*nsrcx*nsrcy + 4*avar2*(avarx*avarx)*avary)*nsrcz)*rhomax)/(avar8*rhomax), 1/15*(15*avar*avarx*(avary*avary)*avarz*rhomax*log(rhomax) + (6*avar2*avary*avarz*nsrcx*nsrcy + 3*avar2*avarx*avarz*(nsrcy*nsrcy) - 23*avarx*(avary*avary)*avarz + (2*avar4*nsrcx*(nsrcy*nsrcy) + 3*avar2*(avary*avary)*nsrcx + 6*avar2*avarx*avary*nsrcy)*nsrcz)*avar*rhomax - (2*avar4*avarz*nsrcx*(nsrcy*nsrcy) + 8*avar2*(avary*avary)*avarz*nsrcx + 16*avar2*avarx*avary*avarz*nsrcy - 15*(avar*log((Real)2.0) + avar*log(avar))*avarx*(avary*avary)*avarz + 2*(2*avar4*avary*nsrcx*nsrcy + avar4*avarx*(nsrcy*nsrcy) + 4*avar2*avarx*(avary*avary))*nsrcz)*rhomax)/(avar8*rhomax), 1/15*(15*avar*avarx*avary*(avarz*avarz)*rhomax*log(rhomax) + (3*avar2*(avarz*avarz)*nsrcx*nsrcy - 23*avarx*avary*(avarz*avarz) + (2*avar4*nsrcx*nsrcy + 3*avar2*avarx*avary)*(nsrcz*nsrcz) + 6*(avar2*avary*avarz*nsrcx + avar2*avarx*avarz*nsrcy)*nsrcz)*avar*rhomax - (8*avar2*avary*(avarz*avarz)*nsrcx + 8*avar2*avarx*(avarz*avarz)*nsrcy - 15*(avar*log((Real)2.0) + avar*log(avar))*avarx*avary*(avarz*avarz) + 2*(avar4*avary*nsrcx + avar4*avarx*nsrcy)*(nsrcz*nsrcz) + 4*(avar4*avarz*nsrcx*nsrcy + 4*avar2*avarx*avary*avarz)*nsrcz)*rhomax)/(avar8*rhomax)}, {-1/15*((4*avar3*avarx*nsrcx*(nsrcz*nsrcz) + 16*avar*avarx*(avarz*avarz)*nsrcx - 15*(avarx*avarx)*(avarz*avarz)*(log((Real)2.0) + log(avar)) - 15*(avarx*avarx)*(avarz*avarz)*log(rhomax) + 4*(avar3*avarz*(nsrcx*nsrcx) + 4*avar*(avarx*avarx)*avarz)*nsrcz)*avar*rhomax - (3*avar3*(avarz*avarz)*(nsrcx*nsrcx) + 12*avar3*avarx*avarz*nsrcx*nsrcz - 23*avar*(avarx*avarx)*(avarz*avarz) + (2*avar5*(nsrcx*nsrcx) + 3*avar3*(avarx*avarx))*(nsrcz*nsrcz))*rhomax)/(avar8*rhomax), 1/15*(15*avar*avarx*avary*(avarz*avarz)*rhomax*log(rhomax) + (3*avar2*(avarz*avarz)*nsrcx*nsrcy - 23*avarx*avary*(avarz*avarz) + (2*avar4*nsrcx*nsrcy + 3*avar2*avarx*avary)*(nsrcz*nsrcz) + 6*(avar2*avary*avarz*nsrcx + avar2*avarx*avarz*nsrcy)*nsrcz)*avar*rhomax - (8*avar2*avary*(avarz*avarz)*nsrcx + 8*avar2*avarx*(avarz*avarz)*nsrcy - 15*(avar*log((Real)2.0) + avar*log(avar))*avarx*avary*(avarz*avarz) + 2*(avar4*avary*nsrcx + avar4*avarx*nsrcy)*(nsrcz*nsrcz) + 4*(avar4*avarz*nsrcx*nsrcy + 4*avar2*avarx*avary*avarz)*nsrcz)*rhomax)/(avar8*rhomax), 1/15*(15*avar*avarx*(avarz*avarz*avarz)*rhomax*log(rhomax) + (2*avar4*nsrcx*(nsrcz*nsrcz*nsrcz) + 9*avar2*(avarz*avarz)*nsrcx*nsrcz + 9*avar2*avarx*avarz*(nsrcz*nsrcz) - 23*avarx*(avarz*avarz*avarz))*avar*rhomax - (6*avar4*avarz*nsrcx*(nsrcz*nsrcz) + 2*avar4*avarx*(nsrcz*nsrcz*nsrcz) + 8*avar2*(avarz*avarz*avarz)*nsrcx + 24*avar2*avarx*(avarz*avarz)*nsrcz - 15*(avar*log((Real)2.0) + avar*log(avar))*avarx*(avarz*avarz*avarz))*rhomax)/(avar8*rhomax)}}}, {{{1/15*(15*avar*(avarx*avarx*avarx)*avary*rhomax*log(rhomax) + (9*avar2*avarx*avary*(nsrcx*nsrcx) - 23*(avarx*avarx*avarx)*avary + (2*avar4*(nsrcx*nsrcx*nsrcx) + 9*avar2*(avarx*avarx)*nsrcx)*nsrcy)*avar*rhomax - (2*avar4*avary*(nsrcx*nsrcx*nsrcx) + 24*avar2*(avarx*avarx)*avary*nsrcx - 15*(avar*log((Real)2.0) + avar*log(avar))*(avarx*avarx*avarx)*avary + 2*(3*avar4*avarx*(nsrcx*nsrcx) + 4*avar2*(avarx*avarx*avarx))*nsrcy)*rhomax)/(avar8*rhomax), -1/15*((4*avar3*avarx*nsrcx*(nsrcy*nsrcy) + 16*avar*avarx*(avary*avary)*nsrcx - 15*(avarx*avarx)*(avary*avary)*(log((Real)2.0) + log(avar)) - 15*(avarx*avarx)*(avary*avary)*log(rhomax) + 4*(avar3*avary*(nsrcx*nsrcx) + 4*avar*(avarx*avarx)*avary)*nsrcy)*avar*rhomax - (3*avar3*(avary*avary)*(nsrcx*nsrcx) + 12*avar3*avarx*avary*nsrcx*nsrcy - 23*avar*(avarx*avarx)*(avary*avary) + (2*avar5*(nsrcx*nsrcx) + 3*avar3*(avarx*avarx))*(nsrcy*nsrcy))*rhomax)/(avar8*rhomax), 1/15*(15*avar*(avarx*avarx)*avary*avarz*rhomax*log(rhomax) + (3*avar2*avary*avarz*(nsrcx*nsrcx) + 6*avar2*avarx*avarz*nsrcx*nsrcy - 23*(avarx*avarx)*avary*avarz + (6*avar2*avarx*avary*nsrcx + (2*avar4*(nsrcx*nsrcx) + 3*avar2*(avarx*avarx))*nsrcy)*nsrcz)*avar*rhomax - (16*avar2*avarx*avary*avarz*nsrcx - 15*(avar*log((Real)2.0) + avar*log(avar))*(avarx*avarx)*avary*avarz + 2*(avar4*avarz*(nsrcx*nsrcx) + 4*avar2*(avarx*avarx)*avarz)*nsrcy + 2*(avar4*avary*(nsrcx*nsrcx) + 2*avar4*avarx*nsrcx*nsrcy + 4*avar2*(avarx*avarx)*avary)*nsrcz)*rhomax)/(avar8*rhomax)}, {-1/15*((4*avar3*avarx*nsrcx*(nsrcy*nsrcy) + 16*avar*avarx*(avary*avary)*nsrcx - 15*(avarx*avarx)*(avary*avary)*(log((Real)2.0) + log(avar)) - 15*(avarx*avarx)*(avary*avary)*log(rhomax) + 4*(avar3*avary*(nsrcx*nsrcx) + 4*avar*(avarx*avarx)*avary)*nsrcy)*avar*rhomax - (3*avar3*(avary*avary)*(nsrcx*nsrcx) + 12*avar3*avarx*avary*nsrcx*nsrcy - 23*avar*(avarx*avarx)*(avary*avary) + (2*avar5*(nsrcx*nsrcx) + 3*avar3*(avarx*avarx))*(nsrcy*nsrcy))*rhomax)/(avar8*rhomax), 1/15*(15*avar*avarx*(avary*avary*avary)*rhomax*log(rhomax) + (2*avar4*nsrcx*(nsrcy*nsrcy*nsrcy) + 9*avar2*(avary*avary)*nsrcx*nsrcy + 9*avar2*avarx*avary*(nsrcy*nsrcy) - 23*avarx*(avary*avary*avary))*avar*rhomax - (6*avar4*avary*nsrcx*(nsrcy*nsrcy) + 2*avar4*avarx*(nsrcy*nsrcy*nsrcy) + 8*avar2*(avary*avary*avary)*nsrcx + 24*avar2*avarx*(avary*avary)*nsrcy - 15*(avar*log((Real)2.0) + avar*log(avar))*avarx*(avary*avary*avary))*rhomax)/(avar8*rhomax), 1/15*(15*avar*avarx*(avary*avary)*avarz*rhomax*log(rhomax) + (6*avar2*avary*avarz*nsrcx*nsrcy + 3*avar2*avarx*avarz*(nsrcy*nsrcy) - 23*avarx*(avary*avary)*avarz + (2*avar4*nsrcx*(nsrcy*nsrcy) + 3*avar2*(avary*avary)*nsrcx + 6*avar2*avarx*avary*nsrcy)*nsrcz)*avar*rhomax - (2*avar4*avarz*nsrcx*(nsrcy*nsrcy) + 8*avar2*(avary*avary)*avarz*nsrcx + 16*avar2*avarx*avary*avarz*nsrcy - 15*(avar*log((Real)2.0) + avar*log(avar))*avarx*(avary*avary)*avarz + 2*(2*avar4*avary*nsrcx*nsrcy + avar4*avarx*(nsrcy*nsrcy) + 4*avar2*avarx*(avary*avary))*nsrcz)*rhomax)/(avar8*rhomax)}, {1/15*(15*avar*(avarx*avarx)*avary*avarz*rhomax*log(rhomax) + (3*avar2*avary*avarz*(nsrcx*nsrcx) + 6*avar2*avarx*avarz*nsrcx*nsrcy - 23*(avarx*avarx)*avary*avarz + (6*avar2*avarx*avary*nsrcx + (2*avar4*(nsrcx*nsrcx) + 3*avar2*(avarx*avarx))*nsrcy)*nsrcz)*avar*rhomax - (16*avar2*avarx*avary*avarz*nsrcx - 15*(avar*log((Real)2.0) + avar*log(avar))*(avarx*avarx)*avary*avarz + 2*(avar4*avarz*(nsrcx*nsrcx) + 4*avar2*(avarx*avarx)*avarz)*nsrcy + 2*(avar4*avary*(nsrcx*nsrcx) + 2*avar4*avarx*nsrcx*nsrcy + 4*avar2*(avarx*avarx)*avary)*nsrcz)*rhomax)/(avar8*rhomax), 1/15*(15*avar*avarx*(avary*avary)*avarz*rhomax*log(rhomax) + (6*avar2*avary*avarz*nsrcx*nsrcy + 3*avar2*avarx*avarz*(nsrcy*nsrcy) - 23*avarx*(avary*avary)*avarz + (2*avar4*nsrcx*(nsrcy*nsrcy) + 3*avar2*(avary*avary)*nsrcx + 6*avar2*avarx*avary*nsrcy)*nsrcz)*avar*rhomax - (2*avar4*avarz*nsrcx*(nsrcy*nsrcy) + 8*avar2*(avary*avary)*avarz*nsrcx + 16*avar2*avarx*avary*avarz*nsrcy - 15*(avar*log((Real)2.0) + avar*log(avar))*avarx*(avary*avary)*avarz + 2*(2*avar4*avary*nsrcx*nsrcy + avar4*avarx*(nsrcy*nsrcy) + 4*avar2*avarx*(avary*avary))*nsrcz)*rhomax)/(avar8*rhomax), 1/15*(15*avar*avarx*avary*(avarz*avarz)*rhomax*log(rhomax) + (3*avar2*(avarz*avarz)*nsrcx*nsrcy - 23*avarx*avary*(avarz*avarz) + (2*avar4*nsrcx*nsrcy + 3*avar2*avarx*avary)*(nsrcz*nsrcz) + 6*(avar2*avary*avarz*nsrcx + avar2*avarx*avarz*nsrcy)*nsrcz)*avar*rhomax - (8*avar2*avary*(avarz*avarz)*nsrcx + 8*avar2*avarx*(avarz*avarz)*nsrcy - 15*(avar*log((Real)2.0) + avar*log(avar))*avarx*avary*(avarz*avarz) + 2*(avar4*avary*nsrcx + avar4*avarx*nsrcy)*(nsrcz*nsrcz) + 4*(avar4*avarz*nsrcx*nsrcy + 4*avar2*avarx*avary*avarz)*nsrcz)*rhomax)/(avar8*rhomax)}}, {{-1/15*((4*avar3*avarx*nsrcx*(nsrcy*nsrcy) + 16*avar*avarx*(avary*avary)*nsrcx - 15*(avarx*avarx)*(avary*avary)*(log((Real)2.0) + log(avar)) - 15*(avarx*avarx)*(avary*avary)*log(rhomax) + 4*(avar3*avary*(nsrcx*nsrcx) + 4*avar*(avarx*avarx)*avary)*nsrcy)*avar*rhomax - (3*avar3*(avary*avary)*(nsrcx*nsrcx) + 12*avar3*avarx*avary*nsrcx*nsrcy - 23*avar*(avarx*avarx)*(avary*avary) + (2*avar5*(nsrcx*nsrcx) + 3*avar3*(avarx*avarx))*(nsrcy*nsrcy))*rhomax)/(avar8*rhomax), 1/15*(15*avar*avarx*(avary*avary*avary)*rhomax*log(rhomax) + (2*avar4*nsrcx*(nsrcy*nsrcy*nsrcy) + 9*avar2*(avary*avary)*nsrcx*nsrcy + 9*avar2*avarx*avary*(nsrcy*nsrcy) - 23*avarx*(avary*avary*avary))*avar*rhomax - (6*avar4*avary*nsrcx*(nsrcy*nsrcy) + 2*avar4*avarx*(nsrcy*nsrcy*nsrcy) + 8*avar2*(avary*avary*avary)*nsrcx + 24*avar2*avarx*(avary*avary)*nsrcy - 15*(avar*log((Real)2.0) + avar*log(avar))*avarx*(avary*avary*avary))*rhomax)/(avar8*rhomax), 1/15*(15*avar*avarx*(avary*avary)*avarz*rhomax*log(rhomax) + (6*avar2*avary*avarz*nsrcx*nsrcy + 3*avar2*avarx*avarz*(nsrcy*nsrcy) - 23*avarx*(avary*avary)*avarz + (2*avar4*nsrcx*(nsrcy*nsrcy) + 3*avar2*(avary*avary)*nsrcx + 6*avar2*avarx*avary*nsrcy)*nsrcz)*avar*rhomax - (2*avar4*avarz*nsrcx*(nsrcy*nsrcy) + 8*avar2*(avary*avary)*avarz*nsrcx + 16*avar2*avarx*avary*avarz*nsrcy - 15*(avar*log((Real)2.0) + avar*log(avar))*avarx*(avary*avary)*avarz + 2*(2*avar4*avary*nsrcx*nsrcy + avar4*avarx*(nsrcy*nsrcy) + 4*avar2*avarx*(avary*avary))*nsrcz)*rhomax)/(avar8*rhomax)}, {1/15*(15*avar*avarx*(avary*avary*avary)*rhomax*log(rhomax) + (2*avar4*nsrcx*(nsrcy*nsrcy*nsrcy) + 9*avar2*(avary*avary)*nsrcx*nsrcy + 9*avar2*avarx*avary*(nsrcy*nsrcy) - 23*avarx*(avary*avary*avary))*avar*rhomax - (6*avar4*avary*nsrcx*(nsrcy*nsrcy) + 2*avar4*avarx*(nsrcy*nsrcy*nsrcy) + 8*avar2*(avary*avary*avary)*nsrcx + 24*avar2*avarx*(avary*avary)*nsrcy - 15*(avar*log((Real)2.0) + avar*log(avar))*avarx*(avary*avary*avary))*rhomax)/(avar8*rhomax), 1/15*(15*avar*(avary*avary*avary*avary)*rhomax*log(rhomax) + (2*avar4*(nsrcy*nsrcy*nsrcy*nsrcy) + 18*avar2*(avary*avary)*(nsrcy*nsrcy) - 23*(avary*avary*avary*avary))*avar*rhomax - (8*avar4*avary*(nsrcy*nsrcy*nsrcy) + 32*avar2*(avary*avary*avary)*nsrcy - 15*(avar*log((Real)2.0) + avar*log(avar))*(avary*avary*avary*avary))*rhomax)/(avar8*rhomax), 1/15*(15*avar*(avary*avary*avary)*avarz*rhomax*log(rhomax) + (9*avar2*avary*avarz*(nsrcy*nsrcy) - 23*(avary*avary*avary)*avarz + (2*avar4*(nsrcy*nsrcy*nsrcy) + 9*avar2*(avary*avary)*nsrcy)*nsrcz)*avar*rhomax - (2*avar4*avarz*(nsrcy*nsrcy*nsrcy) + 24*avar2*(avary*avary)*avarz*nsrcy - 15*(avar*log((Real)2.0) + avar*log(avar))*(avary*avary*avary)*avarz + 2*(3*avar4*avary*(nsrcy*nsrcy) + 4*avar2*(avary*avary*avary))*nsrcz)*rhomax)/(avar8*rhomax)}, {1/15*(15*avar*avarx*(avary*avary)*avarz*rhomax*log(rhomax) + (6*avar2*avary*avarz*nsrcx*nsrcy + 3*avar2*avarx*avarz*(nsrcy*nsrcy) - 23*avarx*(avary*avary)*avarz + (2*avar4*nsrcx*(nsrcy*nsrcy) + 3*avar2*(avary*avary)*nsrcx + 6*avar2*avarx*avary*nsrcy)*nsrcz)*avar*rhomax - (2*avar4*avarz*nsrcx*(nsrcy*nsrcy) + 8*avar2*(avary*avary)*avarz*nsrcx + 16*avar2*avarx*avary*avarz*nsrcy - 15*(avar*log((Real)2.0) + avar*log(avar))*avarx*(avary*avary)*avarz + 2*(2*avar4*avary*nsrcx*nsrcy + avar4*avarx*(nsrcy*nsrcy) + 4*avar2*avarx*(avary*avary))*nsrcz)*rhomax)/(avar8*rhomax), 1/15*(15*avar*(avary*avary*avary)*avarz*rhomax*log(rhomax) + (9*avar2*avary*avarz*(nsrcy*nsrcy) - 23*(avary*avary*avary)*avarz + (2*avar4*(nsrcy*nsrcy*nsrcy) + 9*avar2*(avary*avary)*nsrcy)*nsrcz)*avar*rhomax - (2*avar4*avarz*(nsrcy*nsrcy*nsrcy) + 24*avar2*(avary*avary)*avarz*nsrcy - 15*(avar*log((Real)2.0) + avar*log(avar))*(avary*avary*avary)*avarz + 2*(3*avar4*avary*(nsrcy*nsrcy) + 4*avar2*(avary*avary*avary))*nsrcz)*rhomax)/(avar8*rhomax), -1/15*((4*avar3*avary*nsrcy*(nsrcz*nsrcz) + 16*avar*avary*(avarz*avarz)*nsrcy - 15*(avary*avary)*(avarz*avarz)*(log((Real)2.0) + log(avar)) - 15*(avary*avary)*(avarz*avarz)*log(rhomax) + 4*(avar3*avarz*(nsrcy*nsrcy) + 4*avar*(avary*avary)*avarz)*nsrcz)*avar*rhomax - (3*avar3*(avarz*avarz)*(nsrcy*nsrcy) + 12*avar3*avary*avarz*nsrcy*nsrcz - 23*avar*(avary*avary)*(avarz*avarz) + (2*avar5*(nsrcy*nsrcy) + 3*avar3*(avary*avary))*(nsrcz*nsrcz))*rhomax)/(avar8*rhomax)}}, {{1/15*(15*avar*(avarx*avarx)*avary*avarz*rhomax*log(rhomax) + (3*avar2*avary*avarz*(nsrcx*nsrcx) + 6*avar2*avarx*avarz*nsrcx*nsrcy - 23*(avarx*avarx)*avary*avarz + (6*avar2*avarx*avary*nsrcx + (2*avar4*(nsrcx*nsrcx) + 3*avar2*(avarx*avarx))*nsrcy)*nsrcz)*avar*rhomax - (16*avar2*avarx*avary*avarz*nsrcx - 15*(avar*log((Real)2.0) + avar*log(avar))*(avarx*avarx)*avary*avarz + 2*(avar4*avarz*(nsrcx*nsrcx) + 4*avar2*(avarx*avarx)*avarz)*nsrcy + 2*(avar4*avary*(nsrcx*nsrcx) + 2*avar4*avarx*nsrcx*nsrcy + 4*avar2*(avarx*avarx)*avary)*nsrcz)*rhomax)/(avar8*rhomax), 1/15*(15*avar*avarx*(avary*avary)*avarz*rhomax*log(rhomax) + (6*avar2*avary*avarz*nsrcx*nsrcy + 3*avar2*avarx*avarz*(nsrcy*nsrcy) - 23*avarx*(avary*avary)*avarz + (2*avar4*nsrcx*(nsrcy*nsrcy) + 3*avar2*(avary*avary)*nsrcx + 6*avar2*avarx*avary*nsrcy)*nsrcz)*avar*rhomax - (2*avar4*avarz*nsrcx*(nsrcy*nsrcy) + 8*avar2*(avary*avary)*avarz*nsrcx + 16*avar2*avarx*avary*avarz*nsrcy - 15*(avar*log((Real)2.0) + avar*log(avar))*avarx*(avary*avary)*avarz + 2*(2*avar4*avary*nsrcx*nsrcy + avar4*avarx*(nsrcy*nsrcy) + 4*avar2*avarx*(avary*avary))*nsrcz)*rhomax)/(avar8*rhomax), 1/15*(15*avar*avarx*avary*(avarz*avarz)*rhomax*log(rhomax) + (3*avar2*(avarz*avarz)*nsrcx*nsrcy - 23*avarx*avary*(avarz*avarz) + (2*avar4*nsrcx*nsrcy + 3*avar2*avarx*avary)*(nsrcz*nsrcz) + 6*(avar2*avary*avarz*nsrcx + avar2*avarx*avarz*nsrcy)*nsrcz)*avar*rhomax - (8*avar2*avary*(avarz*avarz)*nsrcx + 8*avar2*avarx*(avarz*avarz)*nsrcy - 15*(avar*log((Real)2.0) + avar*log(avar))*avarx*avary*(avarz*avarz) + 2*(avar4*avary*nsrcx + avar4*avarx*nsrcy)*(nsrcz*nsrcz) + 4*(avar4*avarz*nsrcx*nsrcy + 4*avar2*avarx*avary*avarz)*nsrcz)*rhomax)/(avar8*rhomax)}, {1/15*(15*avar*avarx*(avary*avary)*avarz*rhomax*log(rhomax) + (6*avar2*avary*avarz*nsrcx*nsrcy + 3*avar2*avarx*avarz*(nsrcy*nsrcy) - 23*avarx*(avary*avary)*avarz + (2*avar4*nsrcx*(nsrcy*nsrcy) + 3*avar2*(avary*avary)*nsrcx + 6*avar2*avarx*avary*nsrcy)*nsrcz)*avar*rhomax - (2*avar4*avarz*nsrcx*(nsrcy*nsrcy) + 8*avar2*(avary*avary)*avarz*nsrcx + 16*avar2*avarx*avary*avarz*nsrcy - 15*(avar*log((Real)2.0) + avar*log(avar))*avarx*(avary*avary)*avarz + 2*(2*avar4*avary*nsrcx*nsrcy + avar4*avarx*(nsrcy*nsrcy) + 4*avar2*avarx*(avary*avary))*nsrcz)*rhomax)/(avar8*rhomax), 1/15*(15*avar*(avary*avary*avary)*avarz*rhomax*log(rhomax) + (9*avar2*avary*avarz*(nsrcy*nsrcy) - 23*(avary*avary*avary)*avarz + (2*avar4*(nsrcy*nsrcy*nsrcy) + 9*avar2*(avary*avary)*nsrcy)*nsrcz)*avar*rhomax - (2*avar4*avarz*(nsrcy*nsrcy*nsrcy) + 24*avar2*(avary*avary)*avarz*nsrcy - 15*(avar*log((Real)2.0) + avar*log(avar))*(avary*avary*avary)*avarz + 2*(3*avar4*avary*(nsrcy*nsrcy) + 4*avar2*(avary*avary*avary))*nsrcz)*rhomax)/(avar8*rhomax), -1/15*((4*avar3*avary*nsrcy*(nsrcz*nsrcz) + 16*avar*avary*(avarz*avarz)*nsrcy - 15*(avary*avary)*(avarz*avarz)*(log((Real)2.0) + log(avar)) - 15*(avary*avary)*(avarz*avarz)*log(rhomax) + 4*(avar3*avarz*(nsrcy*nsrcy) + 4*avar*(avary*avary)*avarz)*nsrcz)*avar*rhomax - (3*avar3*(avarz*avarz)*(nsrcy*nsrcy) + 12*avar3*avary*avarz*nsrcy*nsrcz - 23*avar*(avary*avary)*(avarz*avarz) + (2*avar5*(nsrcy*nsrcy) + 3*avar3*(avary*avary))*(nsrcz*nsrcz))*rhomax)/(avar8*rhomax)}, {1/15*(15*avar*avarx*avary*(avarz*avarz)*rhomax*log(rhomax) + (3*avar2*(avarz*avarz)*nsrcx*nsrcy - 23*avarx*avary*(avarz*avarz) + (2*avar4*nsrcx*nsrcy + 3*avar2*avarx*avary)*(nsrcz*nsrcz) + 6*(avar2*avary*avarz*nsrcx + avar2*avarx*avarz*nsrcy)*nsrcz)*avar*rhomax - (8*avar2*avary*(avarz*avarz)*nsrcx + 8*avar2*avarx*(avarz*avarz)*nsrcy - 15*(avar*log((Real)2.0) + avar*log(avar))*avarx*avary*(avarz*avarz) + 2*(avar4*avary*nsrcx + avar4*avarx*nsrcy)*(nsrcz*nsrcz) + 4*(avar4*avarz*nsrcx*nsrcy + 4*avar2*avarx*avary*avarz)*nsrcz)*rhomax)/(avar8*rhomax), -1/15*((4*avar3*avary*nsrcy*(nsrcz*nsrcz) + 16*avar*avary*(avarz*avarz)*nsrcy - 15*(avary*avary)*(avarz*avarz)*(log((Real)2.0) + log(avar)) - 15*(avary*avary)*(avarz*avarz)*log(rhomax) + 4*(avar3*avarz*(nsrcy*nsrcy) + 4*avar*(avary*avary)*avarz)*nsrcz)*avar*rhomax - (3*avar3*(avarz*avarz)*(nsrcy*nsrcy) + 12*avar3*avary*avarz*nsrcy*nsrcz - 23*avar*(avary*avary)*(avarz*avarz) + (2*avar5*(nsrcy*nsrcy) + 3*avar3*(avary*avary))*(nsrcz*nsrcz))*rhomax)/(avar8*rhomax), 1/15*(15*avar*avary*(avarz*avarz*avarz)*rhomax*log(rhomax) + (2*avar4*nsrcy*(nsrcz*nsrcz*nsrcz) + 9*avar2*(avarz*avarz)*nsrcy*nsrcz + 9*avar2*avary*avarz*(nsrcz*nsrcz) - 23*avary*(avarz*avarz*avarz))*avar*rhomax - (6*avar4*avarz*nsrcy*(nsrcz*nsrcz) + 2*avar4*avary*(nsrcz*nsrcz*nsrcz) + 8*avar2*(avarz*avarz*avarz)*nsrcy + 24*avar2*avary*(avarz*avarz)*nsrcz - 15*(avar*log((Real)2.0) + avar*log(avar))*avary*(avarz*avarz*avarz))*rhomax)/(avar8*rhomax)}}}, {{{1/15*(15*avar*(avarx*avarx*avarx)*avarz*rhomax*log(rhomax) + (9*avar2*avarx*avarz*(nsrcx*nsrcx) - 23*(avarx*avarx*avarx)*avarz + (2*avar4*(nsrcx*nsrcx*nsrcx) + 9*avar2*(avarx*avarx)*nsrcx)*nsrcz)*avar*rhomax - (2*avar4*avarz*(nsrcx*nsrcx*nsrcx) + 24*avar2*(avarx*avarx)*avarz*nsrcx - 15*(avar*log((Real)2.0) + avar*log(avar))*(avarx*avarx*avarx)*avarz + 2*(3*avar4*avarx*(nsrcx*nsrcx) + 4*avar2*(avarx*avarx*avarx))*nsrcz)*rhomax)/(avar8*rhomax), 1/15*(15*avar*(avarx*avarx)*avary*avarz*rhomax*log(rhomax) + (3*avar2*avary*avarz*(nsrcx*nsrcx) + 6*avar2*avarx*avarz*nsrcx*nsrcy - 23*(avarx*avarx)*avary*avarz + (6*avar2*avarx*avary*nsrcx + (2*avar4*(nsrcx*nsrcx) + 3*avar2*(avarx*avarx))*nsrcy)*nsrcz)*avar*rhomax - (16*avar2*avarx*avary*avarz*nsrcx - 15*(avar*log((Real)2.0) + avar*log(avar))*(avarx*avarx)*avary*avarz + 2*(avar4*avarz*(nsrcx*nsrcx) + 4*avar2*(avarx*avarx)*avarz)*nsrcy + 2*(avar4*avary*(nsrcx*nsrcx) + 2*avar4*avarx*nsrcx*nsrcy + 4*avar2*(avarx*avarx)*avary)*nsrcz)*rhomax)/(avar8*rhomax), -1/15*((4*avar3*avarx*nsrcx*(nsrcz*nsrcz) + 16*avar*avarx*(avarz*avarz)*nsrcx - 15*(avarx*avarx)*(avarz*avarz)*(log((Real)2.0) + log(avar)) - 15*(avarx*avarx)*(avarz*avarz)*log(rhomax) + 4*(avar3*avarz*(nsrcx*nsrcx) + 4*avar*(avarx*avarx)*avarz)*nsrcz)*avar*rhomax - (3*avar3*(avarz*avarz)*(nsrcx*nsrcx) + 12*avar3*avarx*avarz*nsrcx*nsrcz - 23*avar*(avarx*avarx)*(avarz*avarz) + (2*avar5*(nsrcx*nsrcx) + 3*avar3*(avarx*avarx))*(nsrcz*nsrcz))*rhomax)/(avar8*rhomax)}, {1/15*(15*avar*(avarx*avarx)*avary*avarz*rhomax*log(rhomax) + (3*avar2*avary*avarz*(nsrcx*nsrcx) + 6*avar2*avarx*avarz*nsrcx*nsrcy - 23*(avarx*avarx)*avary*avarz + (6*avar2*avarx*avary*nsrcx + (2*avar4*(nsrcx*nsrcx) + 3*avar2*(avarx*avarx))*nsrcy)*nsrcz)*avar*rhomax - (16*avar2*avarx*avary*avarz*nsrcx - 15*(avar*log((Real)2.0) + avar*log(avar))*(avarx*avarx)*avary*avarz + 2*(avar4*avarz*(nsrcx*nsrcx) + 4*avar2*(avarx*avarx)*avarz)*nsrcy + 2*(avar4*avary*(nsrcx*nsrcx) + 2*avar4*avarx*nsrcx*nsrcy + 4*avar2*(avarx*avarx)*avary)*nsrcz)*rhomax)/(avar8*rhomax), 1/15*(15*avar*avarx*(avary*avary)*avarz*rhomax*log(rhomax) + (6*avar2*avary*avarz*nsrcx*nsrcy + 3*avar2*avarx*avarz*(nsrcy*nsrcy) - 23*avarx*(avary*avary)*avarz + (2*avar4*nsrcx*(nsrcy*nsrcy) + 3*avar2*(avary*avary)*nsrcx + 6*avar2*avarx*avary*nsrcy)*nsrcz)*avar*rhomax - (2*avar4*avarz*nsrcx*(nsrcy*nsrcy) + 8*avar2*(avary*avary)*avarz*nsrcx + 16*avar2*avarx*avary*avarz*nsrcy - 15*(avar*log((Real)2.0) + avar*log(avar))*avarx*(avary*avary)*avarz + 2*(2*avar4*avary*nsrcx*nsrcy + avar4*avarx*(nsrcy*nsrcy) + 4*avar2*avarx*(avary*avary))*nsrcz)*rhomax)/(avar8*rhomax), 1/15*(15*avar*avarx*avary*(avarz*avarz)*rhomax*log(rhomax) + (3*avar2*(avarz*avarz)*nsrcx*nsrcy - 23*avarx*avary*(avarz*avarz) + (2*avar4*nsrcx*nsrcy + 3*avar2*avarx*avary)*(nsrcz*nsrcz) + 6*(avar2*avary*avarz*nsrcx + avar2*avarx*avarz*nsrcy)*nsrcz)*avar*rhomax - (8*avar2*avary*(avarz*avarz)*nsrcx + 8*avar2*avarx*(avarz*avarz)*nsrcy - 15*(avar*log((Real)2.0) + avar*log(avar))*avarx*avary*(avarz*avarz) + 2*(avar4*avary*nsrcx + avar4*avarx*nsrcy)*(nsrcz*nsrcz) + 4*(avar4*avarz*nsrcx*nsrcy + 4*avar2*avarx*avary*avarz)*nsrcz)*rhomax)/(avar8*rhomax)}, {-1/15*((4*avar3*avarx*nsrcx*(nsrcz*nsrcz) + 16*avar*avarx*(avarz*avarz)*nsrcx - 15*(avarx*avarx)*(avarz*avarz)*(log((Real)2.0) + log(avar)) - 15*(avarx*avarx)*(avarz*avarz)*log(rhomax) + 4*(avar3*avarz*(nsrcx*nsrcx) + 4*avar*(avarx*avarx)*avarz)*nsrcz)*avar*rhomax - (3*avar3*(avarz*avarz)*(nsrcx*nsrcx) + 12*avar3*avarx*avarz*nsrcx*nsrcz - 23*avar*(avarx*avarx)*(avarz*avarz) + (2*avar5*(nsrcx*nsrcx) + 3*avar3*(avarx*avarx))*(nsrcz*nsrcz))*rhomax)/(avar8*rhomax), 1/15*(15*avar*avarx*avary*(avarz*avarz)*rhomax*log(rhomax) + (3*avar2*(avarz*avarz)*nsrcx*nsrcy - 23*avarx*avary*(avarz*avarz) + (2*avar4*nsrcx*nsrcy + 3*avar2*avarx*avary)*(nsrcz*nsrcz) + 6*(avar2*avary*avarz*nsrcx + avar2*avarx*avarz*nsrcy)*nsrcz)*avar*rhomax - (8*avar2*avary*(avarz*avarz)*nsrcx + 8*avar2*avarx*(avarz*avarz)*nsrcy - 15*(avar*log((Real)2.0) + avar*log(avar))*avarx*avary*(avarz*avarz) + 2*(avar4*avary*nsrcx + avar4*avarx*nsrcy)*(nsrcz*nsrcz) + 4*(avar4*avarz*nsrcx*nsrcy + 4*avar2*avarx*avary*avarz)*nsrcz)*rhomax)/(avar8*rhomax), 1/15*(15*avar*avarx*(avarz*avarz*avarz)*rhomax*log(rhomax) + (2*avar4*nsrcx*(nsrcz*nsrcz*nsrcz) + 9*avar2*(avarz*avarz)*nsrcx*nsrcz + 9*avar2*avarx*avarz*(nsrcz*nsrcz) - 23*avarx*(avarz*avarz*avarz))*avar*rhomax - (6*avar4*avarz*nsrcx*(nsrcz*nsrcz) + 2*avar4*avarx*(nsrcz*nsrcz*nsrcz) + 8*avar2*(avarz*avarz*avarz)*nsrcx + 24*avar2*avarx*(avarz*avarz)*nsrcz - 15*(avar*log((Real)2.0) + avar*log(avar))*avarx*(avarz*avarz*avarz))*rhomax)/(avar8*rhomax)}}, {{1/15*(15*avar*(avarx*avarx)*avary*avarz*rhomax*log(rhomax) + (3*avar2*avary*avarz*(nsrcx*nsrcx) + 6*avar2*avarx*avarz*nsrcx*nsrcy - 23*(avarx*avarx)*avary*avarz + (6*avar2*avarx*avary*nsrcx + (2*avar4*(nsrcx*nsrcx) + 3*avar2*(avarx*avarx))*nsrcy)*nsrcz)*avar*rhomax - (16*avar2*avarx*avary*avarz*nsrcx - 15*(avar*log((Real)2.0) + avar*log(avar))*(avarx*avarx)*avary*avarz + 2*(avar4*avarz*(nsrcx*nsrcx) + 4*avar2*(avarx*avarx)*avarz)*nsrcy + 2*(avar4*avary*(nsrcx*nsrcx) + 2*avar4*avarx*nsrcx*nsrcy + 4*avar2*(avarx*avarx)*avary)*nsrcz)*rhomax)/(avar8*rhomax), 1/15*(15*avar*avarx*(avary*avary)*avarz*rhomax*log(rhomax) + (6*avar2*avary*avarz*nsrcx*nsrcy + 3*avar2*avarx*avarz*(nsrcy*nsrcy) - 23*avarx*(avary*avary)*avarz + (2*avar4*nsrcx*(nsrcy*nsrcy) + 3*avar2*(avary*avary)*nsrcx + 6*avar2*avarx*avary*nsrcy)*nsrcz)*avar*rhomax - (2*avar4*avarz*nsrcx*(nsrcy*nsrcy) + 8*avar2*(avary*avary)*avarz*nsrcx + 16*avar2*avarx*avary*avarz*nsrcy - 15*(avar*log((Real)2.0) + avar*log(avar))*avarx*(avary*avary)*avarz + 2*(2*avar4*avary*nsrcx*nsrcy + avar4*avarx*(nsrcy*nsrcy) + 4*avar2*avarx*(avary*avary))*nsrcz)*rhomax)/(avar8*rhomax), 1/15*(15*avar*avarx*avary*(avarz*avarz)*rhomax*log(rhomax) + (3*avar2*(avarz*avarz)*nsrcx*nsrcy - 23*avarx*avary*(avarz*avarz) + (2*avar4*nsrcx*nsrcy + 3*avar2*avarx*avary)*(nsrcz*nsrcz) + 6*(avar2*avary*avarz*nsrcx + avar2*avarx*avarz*nsrcy)*nsrcz)*avar*rhomax - (8*avar2*avary*(avarz*avarz)*nsrcx + 8*avar2*avarx*(avarz*avarz)*nsrcy - 15*(avar*log((Real)2.0) + avar*log(avar))*avarx*avary*(avarz*avarz) + 2*(avar4*avary*nsrcx + avar4*avarx*nsrcy)*(nsrcz*nsrcz) + 4*(avar4*avarz*nsrcx*nsrcy + 4*avar2*avarx*avary*avarz)*nsrcz)*rhomax)/(avar8*rhomax)}, {1/15*(15*avar*avarx*(avary*avary)*avarz*rhomax*log(rhomax) + (6*avar2*avary*avarz*nsrcx*nsrcy + 3*avar2*avarx*avarz*(nsrcy*nsrcy) - 23*avarx*(avary*avary)*avarz + (2*avar4*nsrcx*(nsrcy*nsrcy) + 3*avar2*(avary*avary)*nsrcx + 6*avar2*avarx*avary*nsrcy)*nsrcz)*avar*rhomax - (2*avar4*avarz*nsrcx*(nsrcy*nsrcy) + 8*avar2*(avary*avary)*avarz*nsrcx + 16*avar2*avarx*avary*avarz*nsrcy - 15*(avar*log((Real)2.0) + avar*log(avar))*avarx*(avary*avary)*avarz + 2*(2*avar4*avary*nsrcx*nsrcy + avar4*avarx*(nsrcy*nsrcy) + 4*avar2*avarx*(avary*avary))*nsrcz)*rhomax)/(avar8*rhomax), 1/15*(15*avar*(avary*avary*avary)*avarz*rhomax*log(rhomax) + (9*avar2*avary*avarz*(nsrcy*nsrcy) - 23*(avary*avary*avary)*avarz + (2*avar4*(nsrcy*nsrcy*nsrcy) + 9*avar2*(avary*avary)*nsrcy)*nsrcz)*avar*rhomax - (2*avar4*avarz*(nsrcy*nsrcy*nsrcy) + 24*avar2*(avary*avary)*avarz*nsrcy - 15*(avar*log((Real)2.0) + avar*log(avar))*(avary*avary*avary)*avarz + 2*(3*avar4*avary*(nsrcy*nsrcy) + 4*avar2*(avary*avary*avary))*nsrcz)*rhomax)/(avar8*rhomax), -1/15*((4*avar3*avary*nsrcy*(nsrcz*nsrcz) + 16*avar*avary*(avarz*avarz)*nsrcy - 15*(avary*avary)*(avarz*avarz)*(log((Real)2.0) + log(avar)) - 15*(avary*avary)*(avarz*avarz)*log(rhomax) + 4*(avar3*avarz*(nsrcy*nsrcy) + 4*avar*(avary*avary)*avarz)*nsrcz)*avar*rhomax - (3*avar3*(avarz*avarz)*(nsrcy*nsrcy) + 12*avar3*avary*avarz*nsrcy*nsrcz - 23*avar*(avary*avary)*(avarz*avarz) + (2*avar5*(nsrcy*nsrcy) + 3*avar3*(avary*avary))*(nsrcz*nsrcz))*rhomax)/(avar8*rhomax)}, {1/15*(15*avar*avarx*avary*(avarz*avarz)*rhomax*log(rhomax) + (3*avar2*(avarz*avarz)*nsrcx*nsrcy - 23*avarx*avary*(avarz*avarz) + (2*avar4*nsrcx*nsrcy + 3*avar2*avarx*avary)*(nsrcz*nsrcz) + 6*(avar2*avary*avarz*nsrcx + avar2*avarx*avarz*nsrcy)*nsrcz)*avar*rhomax - (8*avar2*avary*(avarz*avarz)*nsrcx + 8*avar2*avarx*(avarz*avarz)*nsrcy - 15*(avar*log((Real)2.0) + avar*log(avar))*avarx*avary*(avarz*avarz) + 2*(avar4*avary*nsrcx + avar4*avarx*nsrcy)*(nsrcz*nsrcz) + 4*(avar4*avarz*nsrcx*nsrcy + 4*avar2*avarx*avary*avarz)*nsrcz)*rhomax)/(avar8*rhomax), -1/15*((4*avar3*avary*nsrcy*(nsrcz*nsrcz) + 16*avar*avary*(avarz*avarz)*nsrcy - 15*(avary*avary)*(avarz*avarz)*(log((Real)2.0) + log(avar)) - 15*(avary*avary)*(avarz*avarz)*log(rhomax) + 4*(avar3*avarz*(nsrcy*nsrcy) + 4*avar*(avary*avary)*avarz)*nsrcz)*avar*rhomax - (3*avar3*(avarz*avarz)*(nsrcy*nsrcy) + 12*avar3*avary*avarz*nsrcy*nsrcz - 23*avar*(avary*avary)*(avarz*avarz) + (2*avar5*(nsrcy*nsrcy) + 3*avar3*(avary*avary))*(nsrcz*nsrcz))*rhomax)/(avar8*rhomax), 1/15*(15*avar*avary*(avarz*avarz*avarz)*rhomax*log(rhomax) + (2*avar4*nsrcy*(nsrcz*nsrcz*nsrcz) + 9*avar2*(avarz*avarz)*nsrcy*nsrcz + 9*avar2*avary*avarz*(nsrcz*nsrcz) - 23*avary*(avarz*avarz*avarz))*avar*rhomax - (6*avar4*avarz*nsrcy*(nsrcz*nsrcz) + 2*avar4*avary*(nsrcz*nsrcz*nsrcz) + 8*avar2*(avarz*avarz*avarz)*nsrcy + 24*avar2*avary*(avarz*avarz)*nsrcz - 15*(avar*log((Real)2.0) + avar*log(avar))*avary*(avarz*avarz*avarz))*rhomax)/(avar8*rhomax)}}, {{-1/15*((4*avar3*avarx*nsrcx*(nsrcz*nsrcz) + 16*avar*avarx*(avarz*avarz)*nsrcx - 15*(avarx*avarx)*(avarz*avarz)*(log((Real)2.0) + log(avar)) - 15*(avarx*avarx)*(avarz*avarz)*log(rhomax) + 4*(avar3*avarz*(nsrcx*nsrcx) + 4*avar*(avarx*avarx)*avarz)*nsrcz)*avar*rhomax - (3*avar3*(avarz*avarz)*(nsrcx*nsrcx) + 12*avar3*avarx*avarz*nsrcx*nsrcz - 23*avar*(avarx*avarx)*(avarz*avarz) + (2*avar5*(nsrcx*nsrcx) + 3*avar3*(avarx*avarx))*(nsrcz*nsrcz))*rhomax)/(avar8*rhomax), 1/15*(15*avar*avarx*avary*(avarz*avarz)*rhomax*log(rhomax) + (3*avar2*(avarz*avarz)*nsrcx*nsrcy - 23*avarx*avary*(avarz*avarz) + (2*avar4*nsrcx*nsrcy + 3*avar2*avarx*avary)*(nsrcz*nsrcz) + 6*(avar2*avary*avarz*nsrcx + avar2*avarx*avarz*nsrcy)*nsrcz)*avar*rhomax - (8*avar2*avary*(avarz*avarz)*nsrcx + 8*avar2*avarx*(avarz*avarz)*nsrcy - 15*(avar*log((Real)2.0) + avar*log(avar))*avarx*avary*(avarz*avarz) + 2*(avar4*avary*nsrcx + avar4*avarx*nsrcy)*(nsrcz*nsrcz) + 4*(avar4*avarz*nsrcx*nsrcy + 4*avar2*avarx*avary*avarz)*nsrcz)*rhomax)/(avar8*rhomax), 1/15*(15*avar*avarx*(avarz*avarz*avarz)*rhomax*log(rhomax) + (2*avar4*nsrcx*(nsrcz*nsrcz*nsrcz) + 9*avar2*(avarz*avarz)*nsrcx*nsrcz + 9*avar2*avarx*avarz*(nsrcz*nsrcz) - 23*avarx*(avarz*avarz*avarz))*avar*rhomax - (6*avar4*avarz*nsrcx*(nsrcz*nsrcz) + 2*avar4*avarx*(nsrcz*nsrcz*nsrcz) + 8*avar2*(avarz*avarz*avarz)*nsrcx + 24*avar2*avarx*(avarz*avarz)*nsrcz - 15*(avar*log((Real)2.0) + avar*log(avar))*avarx*(avarz*avarz*avarz))*rhomax)/(avar8*rhomax)}, {1/15*(15*avar*avarx*avary*(avarz*avarz)*rhomax*log(rhomax) + (3*avar2*(avarz*avarz)*nsrcx*nsrcy - 23*avarx*avary*(avarz*avarz) + (2*avar4*nsrcx*nsrcy + 3*avar2*avarx*avary)*(nsrcz*nsrcz) + 6*(avar2*avary*avarz*nsrcx + avar2*avarx*avarz*nsrcy)*nsrcz)*avar*rhomax - (8*avar2*avary*(avarz*avarz)*nsrcx + 8*avar2*avarx*(avarz*avarz)*nsrcy - 15*(avar*log((Real)2.0) + avar*log(avar))*avarx*avary*(avarz*avarz) + 2*(avar4*avary*nsrcx + avar4*avarx*nsrcy)*(nsrcz*nsrcz) + 4*(avar4*avarz*nsrcx*nsrcy + 4*avar2*avarx*avary*avarz)*nsrcz)*rhomax)/(avar8*rhomax), -1/15*((4*avar3*avary*nsrcy*(nsrcz*nsrcz) + 16*avar*avary*(avarz*avarz)*nsrcy - 15*(avary*avary)*(avarz*avarz)*(log((Real)2.0) + log(avar)) - 15*(avary*avary)*(avarz*avarz)*log(rhomax) + 4*(avar3*avarz*(nsrcy*nsrcy) + 4*avar*(avary*avary)*avarz)*nsrcz)*avar*rhomax - (3*avar3*(avarz*avarz)*(nsrcy*nsrcy) + 12*avar3*avary*avarz*nsrcy*nsrcz - 23*avar*(avary*avary)*(avarz*avarz) + (2*avar5*(nsrcy*nsrcy) + 3*avar3*(avary*avary))*(nsrcz*nsrcz))*rhomax)/(avar8*rhomax), 1/15*(15*avar*avary*(avarz*avarz*avarz)*rhomax*log(rhomax) + (2*avar4*nsrcy*(nsrcz*nsrcz*nsrcz) + 9*avar2*(avarz*avarz)*nsrcy*nsrcz + 9*avar2*avary*avarz*(nsrcz*nsrcz) - 23*avary*(avarz*avarz*avarz))*avar*rhomax - (6*avar4*avarz*nsrcy*(nsrcz*nsrcz) + 2*avar4*avary*(nsrcz*nsrcz*nsrcz) + 8*avar2*(avarz*avarz*avarz)*nsrcy + 24*avar2*avary*(avarz*avarz)*nsrcz - 15*(avar*log((Real)2.0) + avar*log(avar))*avary*(avarz*avarz*avarz))*rhomax)/(avar8*rhomax)}, {1/15*(15*avar*avarx*(avarz*avarz*avarz)*rhomax*log(rhomax) + (2*avar4*nsrcx*(nsrcz*nsrcz*nsrcz) + 9*avar2*(avarz*avarz)*nsrcx*nsrcz + 9*avar2*avarx*avarz*(nsrcz*nsrcz) - 23*avarx*(avarz*avarz*avarz))*avar*rhomax - (6*avar4*avarz*nsrcx*(nsrcz*nsrcz) + 2*avar4*avarx*(nsrcz*nsrcz*nsrcz) + 8*avar2*(avarz*avarz*avarz)*nsrcx + 24*avar2*avarx*(avarz*avarz)*nsrcz - 15*(avar*log((Real)2.0) + avar*log(avar))*avarx*(avarz*avarz*avarz))*rhomax)/(avar8*rhomax), 1/15*(15*avar*avary*(avarz*avarz*avarz)*rhomax*log(rhomax) + (2*avar4*nsrcy*(nsrcz*nsrcz*nsrcz) + 9*avar2*(avarz*avarz)*nsrcy*nsrcz + 9*avar2*avary*avarz*(nsrcz*nsrcz) - 23*avary*(avarz*avarz*avarz))*avar*rhomax - (6*avar4*avarz*nsrcy*(nsrcz*nsrcz) + 2*avar4*avary*(nsrcz*nsrcz*nsrcz) + 8*avar2*(avarz*avarz*avarz)*nsrcy + 24*avar2*avary*(avarz*avarz)*nsrcz - 15*(avar*log((Real)2.0) + avar*log(avar))*avary*(avarz*avarz*avarz))*rhomax)/(avar8*rhomax), 1/15*(15*avar*(avarz*avarz*avarz*avarz)*rhomax*log(rhomax) + (2*avar4*(nsrcz*nsrcz*nsrcz*nsrcz) + 18*avar2*(avarz*avarz)*(nsrcz*nsrcz) - 23*(avarz*avarz*avarz*avarz))*avar*rhomax - (8*avar4*avarz*(nsrcz*nsrcz*nsrcz) + 32*avar2*(avarz*avarz*avarz)*nsrcz - 15*(avar*log((Real)2.0) + avar*log(avar))*(avarz*avarz*avarz*avarz))*rhomax)/(avar8*rhomax)}}}}\n"
     ]
    }
   ],
   "source": [
    "x = I6\n",
    "print(fixup(x))\n",
    "assert(not '^' in fixup(x))"
   ]
  },
  {
   "cell_type": "code",
   "execution_count": null,
   "metadata": {},
   "outputs": [],
   "source": [
    "\n",
    "\n",
    "\n",
    "\n",
    "\n",
    "\n",
    "\n",
    "\n",
    "\n",
    "\n",
    "\n",
    "\n",
    "\n",
    "\n",
    "\n",
    "\n",
    "\n",
    "\n",
    "\n",
    "\n",
    "\n",
    "\n",
    "\n",
    "\n",
    "\n",
    "\n",
    "\n",
    "\n",
    "\n",
    "\n",
    "\n",
    "\n",
    "\n",
    "\n",
    "\n"
   ]
  },
  {
   "cell_type": "code",
   "execution_count": 4,
   "metadata": {},
   "outputs": [],
   "source": [
    "# xhat, yhat = var('xhat, yhat')\n",
    "# rho, t = var('rho, t')\n",
    "# eps = var('eps')\n",
    "# basis = [1 - xhat - yhat, xhat, yhat]\n",
    "# v1 = vector(var('x1, y1, z1'))\n",
    "# v2 = vector(var('x2, y2, z2'))\n",
    "# assume(eps > 0)\n",
    "# assume(rho >= 0)\n",
    "# assume(t <= pi / 2)\n",
    "# assume(t >= 0)\n",
    "# assume(cos(t) + sin(t) > 0)\n",
    "\n",
    "# def cross(x, y):\n",
    "#     return [\n",
    "#         x[1] * y[2] - x[2] * y[1],\n",
    "#         x[2] * y[0] - x[0] * y[2],\n",
    "#         x[0] * y[1] - x[1] * y[0]\n",
    "#     ]\n",
    "# # n = cross(v1, v2)\n",
    "# # n = [n[j] / sum([n[i] * n[i] for i in range(3)]) for j in range(3)]\n",
    "# n = vector(var('n1, n2, n3'))\n",
    "# sep = v1 * xhat + v2 * yhat + eps * n\n",
    "\n",
    "# integrate(integrate(\n",
    "#     basis[2].subs(xhat = rho * cos(t), yhat = rho * sin(t)) * rho,\n",
    "#     rho, 0, 1 / (cos(t) + sin(t))),\n",
    "#     t, 0, pi/2\n",
    "# )\n",
    "\n",
    "# def to_polar(ex):\n",
    "#     return ex.subs(xhat = rho * cos(t), yhat = rho * sin(t))\n",
    "\n",
    "# basis_polar = [to_polar(basis[i]) for i in range(3)]\n",
    "# sep_polar = to_polar(sep)\n",
    "\n",
    "# a = vector([\n",
    "#     x1 * cos(t) + x2 * sin(t),\n",
    "#     y1 * cos(t) + y2 * sin(t),\n",
    "#     z1 * cos(t) + z2 * sin(t)\n",
    "# ])\n",
    "\n",
    "# sep_polar = eps * n + a * rho\n",
    "\n",
    "# r2 = eps ** 2 + a * a * rho ** 2\n",
    "\n",
    "# basis_polar\n",
    "\n",
    "# rhomax = 1/(cos(t) + sin(t))\n",
    "\n",
    "# sep_polar\n",
    "\n",
    "# rhomaxvar = var('rhomaxvar')\n",
    "# avar = var('avar')\n",
    "# avecvar = vector(var('avar1, avar2, avar3'))\n",
    "# assume(rhomaxvar > 0)\n",
    "# r2 = eps ** 2 + avar ** 2 * rho ** 2\n",
    "# r = sqrt(r2)\n",
    "# r3 = r2 ** (3 / 2)\n",
    "# r4 = r2 ** 2\n",
    "# r5 = r2 ** (5 / 2)\n",
    "# sep_polar = eps * n + avecvar * rho\n",
    "\n",
    "# I1 = integrate(1 / r3, rho, 0, rhomaxvar).factor(eps) #completely singular\n",
    "# I1\n",
    "\n",
    "# I2 = integrate(1 / r2, rho, 0, rhomaxvar).factor(eps) #completely singular\n",
    "# I2\n",
    "\n",
    "# I3 = [[\n",
    "#         limit(\n",
    "#             integrate(rho ** 2 * sep_polar[i] * sep_polar[j] / r5, rho, 0, rhomaxvar)\n",
    "#                 .factor(eps)\n",
    "#                 .expand()\n",
    "#                 .substitute(arcsinh(sqrt(avar^2)*rhomaxvar/eps) == 0),\n",
    "#             eps = 0\n",
    "#         ) for j in range(3)\n",
    "#     ] for i in range(3)\n",
    "# ]\n",
    "# I3\n",
    "\n",
    "# I3[0][1].full_simplify()\n",
    "\n",
    "# 1/3*(2*avar^2*avecvar[j]*n[i] + 2*avar^2*avecvar[i]*n[j] + (avar^2*n[i]*n[j] - 4*avecvar[i]*avecvar[j])*sqrt(avar^2))/avar^6\n",
    "\n",
    "# for i in range(3):\n",
    "#     for j in range(3):\n",
    "#         print((1/3*(2*avar^2*avecvar[j]*n[i] + 2*avar^2*avecvar[i]*n[j] + (avar^2*n[i]*n[j] - 4*avecvar[i]*avecvar[j])*sqrt(avar^2))/avar^6 - I3[i][j]).full_simplify())\n",
    "\n",
    "# I4 = [[\n",
    "#         limit(\n",
    "#             integrate(rho * sep_polar[i] * sep_polar[j] / r5, rho, 0, rhomaxvar)\n",
    "#                 .factor(eps)\n",
    "#                 .expand()\n",
    "#                 .substitute(1/eps == 0),\n",
    "#             eps = 0\n",
    "#         ) for j in range(3)\n",
    "#     ] for i in range(3)\n",
    "# ]\n",
    "# I4\n",
    "\n",
    "# I4l = limit(I4.expand().substitute(1/(eps**2) == 0), eps = 0)\n",
    "# I4l\n",
    "\n",
    "# Itheta = I3l.subs(avar = a * a, rhomaxvar = rhomax, avar1 = a[0], avar2 = a[1], avar3 = a[2])\n",
    "\n",
    "# Itheta\n",
    "\n",
    "# integrate(Itheta, t, 0, pi/2)"
   ]
  }
 ],
 "metadata": {
  "kernelspec": {
   "display_name": "SageMath 8.1",
   "language": "",
   "name": "sagemath"
  },
  "language_info": {
   "codemirror_mode": {
    "name": "ipython",
    "version": 2
   },
   "file_extension": ".py",
   "mimetype": "text/x-python",
   "name": "python",
   "nbconvert_exporter": "python",
   "pygments_lexer": "ipython2",
   "version": "2.7.15rc1"
  }
 },
 "nbformat": 4,
 "nbformat_minor": 2
}

{
 "cells": [
  {
   "cell_type": "code",
   "execution_count": 95,
   "metadata": {},
   "outputs": [],
   "source": [
    "from sage.all import *\n",
    "\n",
    "nx, ny, nz, nx2, ny2, nz2 = var('nx, ny, nz, nx2, ny2, nz2')\n",
    "nxp, nyp = var('nxp, nyp')\n",
    "tvar = var('t')"
   ]
  },
  {
   "cell_type": "code",
   "execution_count": 120,
   "metadata": {},
   "outputs": [],
   "source": [
    "assume(nx**2 + ny**2 + nz**2 == 1)\n",
    "assume(nx2**2 + ny2**2 + nz2**2 == 1)\n",
    "assume(nxp**2 + nyp**2 == 1)"
   ]
  },
  {
   "cell_type": "code",
   "execution_count": 121,
   "metadata": {},
   "outputs": [],
   "source": [
    "M = matrix([\n",
    "    [1, 0, 0, 0, 0],\n",
    "    [0, 0, 1, 0, 0],\n",
    "    [0, 0, 0, 1, 0],\n",
    "    [nxp, 0, nyp, 0, 0],\n",
    "    [0, nyp, nxp, 0, 0],\n",
    "    [0, 0, 0, nxp, nyp]\n",
    "])\n",
    "Minv = matrix([\n",
    "[(nxp**2*nyp**4 - nxp**2*nyp**2*(nxp**2 + 1) + nyp**2*(-nxp**2*nyp**2 + (nxp**2 + 1)*(nxp**2 + nyp**2 + 1)))/((nxp**2 + 1)*(-nxp**2*nyp**2*(nxp**2 + 1) + nyp**2*(-nxp**2*nyp**2 + (nxp**2 + 1)*(nxp**2 + nyp**2 + 1)))),           -nxp*nyp**3/(-nxp**2*nyp**2*(nxp**2 + 1) + nyp**2*(-nxp**2*nyp**2 + (nxp**2 + 1)*(nxp**2 + nyp**2 + 1))),                                               0, -nxp*nyp**4/(-nxp**2*nyp**2*(nxp**2 + 1) + nyp**2*(-nxp**2*nyp**2 + (nxp**2 + 1)*(nxp**2 + nyp**2 + 1))) + nxp*(nxp**2*nyp**4 - nxp**2*nyp**2*(nxp**2 + 1) + nyp**2*(-nxp**2*nyp**2 + (nxp**2 + 1)*(nxp**2 + nyp**2 + 1)))/((nxp**2 + 1)*(-nxp**2*nyp**2*(nxp**2 + 1) + nyp**2*(-nxp**2*nyp**2 + (nxp**2 + 1)*(nxp**2 + nyp**2 + 1)))),                                                                                                                                                                                                                                                                              0,                                                                                                            0],\n",
    "[                                                                                                             nxp**2*nyp**2/(-nxp**2*nyp**2*(nxp**2 + 1) + nyp**2*(-nxp**2*nyp**2 + (nxp**2 + 1)*(nxp**2 + nyp**2 + 1))), -nxp*nyp*(nxp**2 + 1)/(-nxp**2*nyp**2*(nxp**2 + 1) + nyp**2*(-nxp**2*nyp**2 + (nxp**2 + 1)*(nxp**2 + nyp**2 + 1))),                                               0,                                                                                                      nxp**3*nyp**2/(-nxp**2*nyp**2*(nxp**2 + 1) + nyp**2*(-nxp**2*nyp**2 + (nxp**2 + 1)*(nxp**2 + nyp**2 + 1))) - nxp*nyp**2*(nxp**2 + 1)/(-nxp**2*nyp**2*(nxp**2 + 1) + nyp**2*(-nxp**2*nyp**2 + (nxp**2 + 1)*(nxp**2 + nyp**2 + 1))), -nxp**2*nyp*(nxp**2 + 1)/(-nxp**2*nyp**2*(nxp**2 + 1) + nyp**2*(-nxp**2*nyp**2 + (nxp**2 + 1)*(nxp**2 + nyp**2 + 1))) + nyp*(-nxp**2*nyp**2 + (nxp**2 + 1)*(nxp**2 + nyp**2 + 1))/(-nxp**2*nyp**2*(nxp**2 + 1) + nyp**2*(-nxp**2*nyp**2 + (nxp**2 + 1)*(nxp**2 + nyp**2 + 1))),                                                                                                            0],\n",
    "[                                                                                                               -nxp*nyp**3/(-nxp**2*nyp**2*(nxp**2 + 1) + nyp**2*(-nxp**2*nyp**2 + (nxp**2 + 1)*(nxp**2 + nyp**2 + 1))),   nyp**2*(nxp**2 + 1)/(-nxp**2*nyp**2*(nxp**2 + 1) + nyp**2*(-nxp**2*nyp**2 + (nxp**2 + 1)*(nxp**2 + nyp**2 + 1))),                                               0,                                                                                                         -nxp**2*nyp**3/(-nxp**2*nyp**2*(nxp**2 + 1) + nyp**2*(-nxp**2*nyp**2 + (nxp**2 + 1)*(nxp**2 + nyp**2 + 1))) + nyp**3*(nxp**2 + 1)/(-nxp**2*nyp**2*(nxp**2 + 1) + nyp**2*(-nxp**2*nyp**2 + (nxp**2 + 1)*(nxp**2 + nyp**2 + 1))),                                                                                                                                                                                                                                                                              0,                                                                                                            0],\n",
    "[                                                                                                                                                                                                                      0,                                                                                                                  0,   nyp**2/(-nxp**2*nyp**2 + nyp**2*(nxp**2 + 1)),                                                                                                                                                                                                                                                                                                                                      0,                                                                                                                                                                                                                                                                              0,                                                                                                            0],\n",
    "[                                                                                                                                                                                                                      0,                                                                                                                  0, -nxp*nyp/(-nxp**2*nyp**2 + nyp**2*(nxp**2 + 1)),                                                                                                                                                                                                                                                                                                                                      0,                                                                                                                                                                                                                                                                              0, -nxp**2*nyp/(-nxp**2*nyp**2 + nyp**2*(nxp**2 + 1)) + nyp*(nxp**2 + 1)/(-nxp**2*nyp**2 + nyp**2*(nxp**2 + 1))]])"
   ]
  },
  {
   "cell_type": "code",
   "execution_count": 122,
   "metadata": {},
   "outputs": [],
   "source": [
    "symbolic_t2t = M * Minv\n",
    "for d1 in range(6):\n",
    "    for d2 in range(6):\n",
    "        symbolic_t2t[d1,d2] = symbolic_t2t[d1,d2].full_simplify()\n",
    "symbolic_t2t = symbolic_t2t"
   ]
  },
  {
   "cell_type": "code",
   "execution_count": 211,
   "metadata": {},
   "outputs": [],
   "source": [
    "def outer(a, b):\n",
    "    return matrix([[a[i] * b[j] for j in range(3)] for i in range(3)])\n",
    "\n",
    "def rotation_matrix(axis, theta):\n",
    "    cross_mat = matrix([[0, -axis[2], axis[1]], [axis[2], 0, -axis[0]], [-axis[1], axis[0], 0]])\n",
    "    outer_mat = outer(axis, axis)\n",
    "    idmat = matrix.identity(3)\n",
    "    rot_mat = cos(theta) * idmat + sin(theta) * cross_mat + (1 - cos(theta)) * outer_mat\n",
    "    return rot_mat\n",
    "\n",
    "def L(v):\n",
    "    return sqrt(sum([v[d] ** 2 for d in range(len(v))]))\n",
    "    \n",
    "def rotate_to_xaxis(v):\n",
    "    to_target = vector([1, 0, 0])\n",
    "    axis = (v + to_target) / 2\n",
    "    axis_mag = L(axis)\n",
    "    axis /= axis_mag\n",
    "    theta = pi\n",
    "    rot_mat = rotation_matrix(axis, theta)\n",
    "    return rot_mat\n",
    "\n",
    "def rotate2_to_xyplane(v):\n",
    "    xaxis = vector([1, 0, 0])\n",
    "    yaxis = vector([0, 1, 0])\n",
    "    ydot2 = sum([yaxis[d] * v[d] for d in range(3)])\n",
    "    theta = -acos(ydot2) * sign(v[2])\n",
    "    rot_mat = rotation_matrix(xaxis, theta)\n",
    "    return rot_mat"
   ]
  },
  {
   "cell_type": "code",
   "execution_count": 212,
   "metadata": {},
   "outputs": [],
   "source": [
    "R1 = rotate_to_xaxis(vector([nx, ny, nz]))\n",
    "R2 = rotate2_to_xyplane(R1 * vector([nx2, ny2, nz2]))\n",
    "RR = R2 * R1"
   ]
  },
  {
   "cell_type": "code",
   "execution_count": 213,
   "metadata": {},
   "outputs": [],
   "source": [
    "for i in range(3):\n",
    "    for j in range(3):\n",
    "        RR[i,j] = RR[i,j].full_simplify()"
   ]
  },
  {
   "cell_type": "code",
   "execution_count": 214,
   "metadata": {},
   "outputs": [],
   "source": [
    "rot_n2 = RR * vector([nx2, ny2, nz2])"
   ]
  },
  {
   "cell_type": "code",
   "execution_count": 215,
   "metadata": {},
   "outputs": [],
   "source": [
    "for i in range(3):\n",
    "    rot_n2[i] = rot_n2[i].full_simplify()"
   ]
  },
  {
   "cell_type": "code",
   "execution_count": 216,
   "metadata": {},
   "outputs": [],
   "source": [
    "ll = [[0] * 6] * 6\n",
    "for b in range(2):\n",
    "    for i in range(3):\n",
    "        for j in range(3):\n",
    "            ll[b * 3 + i][b * 3 + j] = RR[i,j]\n",
    "symbolic_R6 = matrix(ll)"
   ]
  },
  {
   "cell_type": "code",
   "execution_count": 217,
   "metadata": {},
   "outputs": [],
   "source": [
    "final_symbolic = symbolic_R6.T * symbolic_t2t.subs(nxp = rot_n2[0], nyp = rot_n2[1]) * symbolic_R6"
   ]
  },
  {
   "cell_type": "code",
   "execution_count": 218,
   "metadata": {},
   "outputs": [],
   "source": [
    "def stress_to_trac(n):\n",
    "    nx, ny, nz = n\n",
    "    mat = np.array([\n",
    "        [nx, 0, 0, ny, nz, 0],\n",
    "        [0, ny, 0, nx, 0, nz],\n",
    "        [0, 0, nz, 0, nx, ny]\n",
    "    ])\n",
    "    return mat\n",
    "\n",
    "def s2t(n1, n2):\n",
    "    return np.vstack((stress_to_trac(n1), stress_to_trac(n2)))\n",
    "\n",
    "def t2s(n1, n2):\n",
    "    return np.linalg.pinv(s2t(n1, n2))\n",
    "\n",
    "def t2t(n1, n2):\n",
    "    s2t = np.vstack((stress_to_trac(n1), stress_to_trac(n2)))\n",
    "    t2s = np.linalg.pinv(s2t)\n",
    "    return s2t.dot(t2s)"
   ]
  },
  {
   "cell_type": "code",
   "execution_count": 219,
   "metadata": {},
   "outputs": [
    {
     "ename": "AssertionError",
     "evalue": "\nArrays are not almost equal to 7 decimals\n\n(mismatch 100.0%)\n x: array([[1.2029649616374871, -2.302858106984452, 0.6822914136510349, 1.2029649616374871, -2.302858106984452, 0.6822914136510349],\n       [-2.302858106984452, 4.408403926981638, -1.306123090329587, -2.302858106984452, 4.408403926981638, -1.306123090329587],\n       [0.6822914136510347, -1.306123090329587, 0.3869784972857857, 0.6822914136510347, -1.306123090329587, 0.3869784972857857],...\n y: array([[ 0.7374038, -0.2422601, -0.0604267,  0.3111974,  0.1780785,  0.0523675],\n       [-0.2422601,  0.7765011, -0.0557471,  0.2870975,  0.1642876,  0.0483121],\n       [-0.0604267, -0.0557471,  0.9860951,  0.0716104,  0.0409781,  0.0120504],...",
     "output_type": "error",
     "traceback": [
      "\u001b[0;31m---------------------------------------------------------------------------\u001b[0m",
      "\u001b[0;31mAssertionError\u001b[0m                            Traceback (most recent call last)",
      "\u001b[0;32m<ipython-input-219-3032a25ca9c9>\u001b[0m in \u001b[0;36m<module>\u001b[0;34m()\u001b[0m\n\u001b[1;32m      7\u001b[0m     \u001b[0mnumeric\u001b[0m \u001b[0;34m=\u001b[0m \u001b[0mt2t\u001b[0m\u001b[0;34m(\u001b[0m\u001b[0mn1\u001b[0m\u001b[0;34m,\u001b[0m \u001b[0mn2\u001b[0m\u001b[0;34m)\u001b[0m\u001b[0;34m\u001b[0m\u001b[0m\n\u001b[1;32m      8\u001b[0m     \u001b[0msymbolic\u001b[0m \u001b[0;34m=\u001b[0m \u001b[0mfinal_symbolic\u001b[0m\u001b[0;34m.\u001b[0m\u001b[0msubs\u001b[0m\u001b[0;34m(\u001b[0m\u001b[0mnx\u001b[0m \u001b[0;34m=\u001b[0m \u001b[0mn1\u001b[0m\u001b[0;34m[\u001b[0m\u001b[0mInteger\u001b[0m\u001b[0;34m(\u001b[0m\u001b[0;36m0\u001b[0m\u001b[0;34m)\u001b[0m\u001b[0;34m]\u001b[0m\u001b[0;34m,\u001b[0m \u001b[0mny\u001b[0m \u001b[0;34m=\u001b[0m \u001b[0mn1\u001b[0m\u001b[0;34m[\u001b[0m\u001b[0mInteger\u001b[0m\u001b[0;34m(\u001b[0m\u001b[0;36m1\u001b[0m\u001b[0;34m)\u001b[0m\u001b[0;34m]\u001b[0m\u001b[0;34m,\u001b[0m \u001b[0mnz\u001b[0m \u001b[0;34m=\u001b[0m \u001b[0mn1\u001b[0m\u001b[0;34m[\u001b[0m\u001b[0mInteger\u001b[0m\u001b[0;34m(\u001b[0m\u001b[0;36m2\u001b[0m\u001b[0;34m)\u001b[0m\u001b[0;34m]\u001b[0m\u001b[0;34m,\u001b[0m \u001b[0mnx2\u001b[0m \u001b[0;34m=\u001b[0m \u001b[0mn2\u001b[0m\u001b[0;34m[\u001b[0m\u001b[0mInteger\u001b[0m\u001b[0;34m(\u001b[0m\u001b[0;36m0\u001b[0m\u001b[0;34m)\u001b[0m\u001b[0;34m]\u001b[0m\u001b[0;34m,\u001b[0m \u001b[0mny2\u001b[0m \u001b[0;34m=\u001b[0m \u001b[0mn2\u001b[0m\u001b[0;34m[\u001b[0m\u001b[0mInteger\u001b[0m\u001b[0;34m(\u001b[0m\u001b[0;36m1\u001b[0m\u001b[0;34m)\u001b[0m\u001b[0;34m]\u001b[0m\u001b[0;34m,\u001b[0m \u001b[0mnz2\u001b[0m \u001b[0;34m=\u001b[0m \u001b[0mn2\u001b[0m\u001b[0;34m[\u001b[0m\u001b[0mInteger\u001b[0m\u001b[0;34m(\u001b[0m\u001b[0;36m2\u001b[0m\u001b[0;34m)\u001b[0m\u001b[0;34m]\u001b[0m\u001b[0;34m)\u001b[0m\u001b[0;34m\u001b[0m\u001b[0m\n\u001b[0;32m----> 9\u001b[0;31m     \u001b[0mnp\u001b[0m\u001b[0;34m.\u001b[0m\u001b[0mtesting\u001b[0m\u001b[0;34m.\u001b[0m\u001b[0massert_almost_equal\u001b[0m\u001b[0;34m(\u001b[0m\u001b[0msymbolic\u001b[0m\u001b[0;34m,\u001b[0m \u001b[0mnumeric\u001b[0m\u001b[0;34m)\u001b[0m\u001b[0;34m\u001b[0m\u001b[0m\n\u001b[0m",
      "\u001b[0;32m/usr/local/lib/python2.7/dist-packages/numpy/testing/utils.pyc\u001b[0m in \u001b[0;36massert_almost_equal\u001b[0;34m(actual, desired, decimal, err_msg, verbose)\u001b[0m\n\u001b[1;32m    571\u001b[0m     \u001b[0;32mif\u001b[0m \u001b[0misinstance\u001b[0m\u001b[0;34m(\u001b[0m\u001b[0mactual\u001b[0m\u001b[0;34m,\u001b[0m \u001b[0;34m(\u001b[0m\u001b[0mndarray\u001b[0m\u001b[0;34m,\u001b[0m \u001b[0mtuple\u001b[0m\u001b[0;34m,\u001b[0m \u001b[0mlist\u001b[0m\u001b[0;34m)\u001b[0m\u001b[0;34m)\u001b[0m\u001b[0;31m \u001b[0m\u001b[0;31m\\\u001b[0m\u001b[0;34m\u001b[0m\u001b[0m\n\u001b[1;32m    572\u001b[0m             \u001b[0;32mor\u001b[0m \u001b[0misinstance\u001b[0m\u001b[0;34m(\u001b[0m\u001b[0mdesired\u001b[0m\u001b[0;34m,\u001b[0m \u001b[0;34m(\u001b[0m\u001b[0mndarray\u001b[0m\u001b[0;34m,\u001b[0m \u001b[0mtuple\u001b[0m\u001b[0;34m,\u001b[0m \u001b[0mlist\u001b[0m\u001b[0;34m)\u001b[0m\u001b[0;34m)\u001b[0m\u001b[0;34m:\u001b[0m\u001b[0;34m\u001b[0m\u001b[0m\n\u001b[0;32m--> 573\u001b[0;31m         \u001b[0;32mreturn\u001b[0m \u001b[0massert_array_almost_equal\u001b[0m\u001b[0;34m(\u001b[0m\u001b[0mactual\u001b[0m\u001b[0;34m,\u001b[0m \u001b[0mdesired\u001b[0m\u001b[0;34m,\u001b[0m \u001b[0mdecimal\u001b[0m\u001b[0;34m,\u001b[0m \u001b[0merr_msg\u001b[0m\u001b[0;34m)\u001b[0m\u001b[0;34m\u001b[0m\u001b[0m\n\u001b[0m\u001b[1;32m    574\u001b[0m     \u001b[0;32mtry\u001b[0m\u001b[0;34m:\u001b[0m\u001b[0;34m\u001b[0m\u001b[0m\n\u001b[1;32m    575\u001b[0m         \u001b[0;31m# If one of desired/actual is not finite, handle it specially here:\u001b[0m\u001b[0;34m\u001b[0m\u001b[0;34m\u001b[0m\u001b[0m\n",
      "\u001b[0;32m/usr/local/lib/python2.7/dist-packages/numpy/testing/utils.pyc\u001b[0m in \u001b[0;36massert_array_almost_equal\u001b[0;34m(x, y, decimal, err_msg, verbose)\u001b[0m\n\u001b[1;32m    977\u001b[0m     assert_array_compare(compare, x, y, err_msg=err_msg, verbose=verbose,\n\u001b[1;32m    978\u001b[0m              \u001b[0mheader\u001b[0m\u001b[0;34m=\u001b[0m\u001b[0;34m(\u001b[0m\u001b[0;34m'Arrays are not almost equal to %d decimals'\u001b[0m \u001b[0;34m%\u001b[0m \u001b[0mdecimal\u001b[0m\u001b[0;34m)\u001b[0m\u001b[0;34m,\u001b[0m\u001b[0;34m\u001b[0m\u001b[0m\n\u001b[0;32m--> 979\u001b[0;31m              precision=decimal)\n\u001b[0m\u001b[1;32m    980\u001b[0m \u001b[0;34m\u001b[0m\u001b[0m\n\u001b[1;32m    981\u001b[0m \u001b[0;34m\u001b[0m\u001b[0m\n",
      "\u001b[0;32m/usr/local/lib/python2.7/dist-packages/numpy/testing/utils.pyc\u001b[0m in \u001b[0;36massert_array_compare\u001b[0;34m(comparison, x, y, err_msg, verbose, header, precision, equal_nan)\u001b[0m\n\u001b[1;32m    794\u001b[0m                                 names=('x', 'y'), precision=precision)\n\u001b[1;32m    795\u001b[0m             \u001b[0;32mif\u001b[0m \u001b[0;32mnot\u001b[0m \u001b[0mcond\u001b[0m\u001b[0;34m:\u001b[0m\u001b[0;34m\u001b[0m\u001b[0m\n\u001b[0;32m--> 796\u001b[0;31m                 \u001b[0;32mraise\u001b[0m \u001b[0mAssertionError\u001b[0m\u001b[0;34m(\u001b[0m\u001b[0mmsg\u001b[0m\u001b[0;34m)\u001b[0m\u001b[0;34m\u001b[0m\u001b[0m\n\u001b[0m\u001b[1;32m    797\u001b[0m     \u001b[0;32mexcept\u001b[0m \u001b[0mValueError\u001b[0m\u001b[0;34m:\u001b[0m\u001b[0;34m\u001b[0m\u001b[0m\n\u001b[1;32m    798\u001b[0m         \u001b[0;32mimport\u001b[0m \u001b[0mtraceback\u001b[0m\u001b[0;34m\u001b[0m\u001b[0m\n",
      "\u001b[0;31mAssertionError\u001b[0m: \nArrays are not almost equal to 7 decimals\n\n(mismatch 100.0%)\n x: array([[1.2029649616374871, -2.302858106984452, 0.6822914136510349, 1.2029649616374871, -2.302858106984452, 0.6822914136510349],\n       [-2.302858106984452, 4.408403926981638, -1.306123090329587, -2.302858106984452, 4.408403926981638, -1.306123090329587],\n       [0.6822914136510347, -1.306123090329587, 0.3869784972857857, 0.6822914136510347, -1.306123090329587, 0.3869784972857857],...\n y: array([[ 0.7374038, -0.2422601, -0.0604267,  0.3111974,  0.1780785,  0.0523675],\n       [-0.2422601,  0.7765011, -0.0557471,  0.2870975,  0.1642876,  0.0483121],\n       [-0.0604267, -0.0557471,  0.9860951,  0.0716104,  0.0409781,  0.0120504],..."
     ]
    }
   ],
   "source": [
    "for i in range(5):\n",
    "    n1 = np.random.rand(3)\n",
    "    n1 /= np.linalg.norm(n1)\n",
    "    n2 = np.random.rand(3)\n",
    "    n2 /= np.linalg.norm(n2)\n",
    "    \n",
    "    numeric = t2t(n1, n2)\n",
    "    symbolic = final_symbolic.subs(nx = n1[0], ny = n1[1], nz = n1[2], nx2 = n2[0], ny2 = n2[1], nz2 = n2[2])\n",
    "    np.testing.assert_almost_equal(symbolic, numeric)"
   ]
  }
 ],
 "metadata": {
  "kernelspec": {
   "display_name": "SageMath 8.1",
   "language": "",
   "name": "sagemath"
  },
  "language_info": {
   "codemirror_mode": {
    "name": "ipython",
    "version": 2
   },
   "file_extension": ".py",
   "mimetype": "text/x-python",
   "name": "python",
   "nbconvert_exporter": "python",
   "pygments_lexer": "ipython2",
   "version": "2.7.15rc1"
  }
 },
 "nbformat": 4,
 "nbformat_minor": 2
}

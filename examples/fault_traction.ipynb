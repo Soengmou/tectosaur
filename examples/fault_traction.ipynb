{
 "cells": [
  {
   "cell_type": "code",
   "execution_count": 3,
   "metadata": {},
   "outputs": [],
   "source": [
    "%load_ext autoreload\n",
    "%autoreload 2"
   ]
  },
  {
   "cell_type": "code",
   "execution_count": 4,
   "metadata": {},
   "outputs": [],
   "source": [
    "import numpy as np\n",
    "from scipy.sparse.linalg import cg\n",
    "import matplotlib.pyplot as plt\n",
    "import matplotlib.tri\n",
    "import okada_wrapper\n",
    "import tectosaur as tct"
   ]
  },
  {
   "cell_type": "code",
   "execution_count": 100,
   "metadata": {},
   "outputs": [],
   "source": [
    "TCTN = 40\n",
    "CURVE = 1.0\n",
    "\n",
    "corners = [[-1, 0, -1], [1, 0, -1], [1, 0, 1], [-1, 0, 1]]\n",
    "src_mesh = tct.make_rect(TCTN, TCTN, corners)\n",
    "src_mesh[0][:,1] = CURVE * np.abs(src_mesh[0][:,0])\n",
    "#src_mesh[0][:,1] = CURVE * src_mesh[0][:,0] ** 2 + src_mesh[0][:,2]\n",
    "def gauss_slip_fnc(x, z):\n",
    "    r2 = x ** 2 + z ** 2\n",
    "    R = 1.0\n",
    "    out = (np.cos(np.sqrt(r2) * np.pi / R) + 1) / 2.0\n",
    "    out[np.sqrt(r2) > R] = 0.0\n",
    "    return out\n",
    "dof_pts = src_mesh[0][src_mesh[1]]\n",
    "x = dof_pts[:,:,0]\n",
    "z = dof_pts[:,:,2]\n",
    "slip = np.zeros((src_mesh[1].shape[0], 3, 3)).astype(np.float32)\n",
    "slip[:,:,0] = gauss_slip_fnc(x, z)"
   ]
  },
  {
   "cell_type": "code",
   "execution_count": 101,
   "metadata": {},
   "outputs": [
    {
     "name": "stdout",
     "output_type": "stream",
     "text": [
      "[1165110:DEBUG:tectosaur.util.gpu]\n",
      "    returning cached gpu module assemble.cl\n",
      "[1165118:DEBUG:tectosaur.util.gpu]\n",
      "    returning cached gpu module assemble.cl\n",
      "[1165122:DEBUG:tectosaur.nearfield.nearfield_op]\n",
      "         setup pairs integrator took 0.011703979223966599\n",
      "[1165225:DEBUG:tectosaur.nearfield.nearfield_op]\n",
      "         Coincident took 0.10168132930994034\n",
      "[1165228:DEBUG:tectosaur.nearfield.nearfield_op]\n",
      "         Coincident correction took 0.002257421612739563\n",
      "[1165302:DEBUG:tectosaur.nearfield.nearfield_op]\n",
      "         Find nearfield/adjacency took 0.07330239564180374\n",
      "[1165357:DEBUG:tectosaur.nearfield.nearfield_op]\n",
      "         Edge adjacent took 0.05439918115735054\n",
      "[1165362:DEBUG:tectosaur.nearfield.nearfield_op]\n",
      "         Edge adjacent correction took 0.004698384553194046\n",
      "[1165457:DEBUG:tectosaur.nearfield.nearfield_op]\n",
      "         Vert adjacent took 0.0934421494603157\n",
      "[1165466:DEBUG:tectosaur.nearfield.nearfield_op]\n",
      "         Vert adjacent correction took 0.008617687970399857\n",
      "[1165609:DEBUG:tectosaur.nearfield.nearfield_op]\n",
      "         Nearfield took 0.14275820925831795\n",
      "[1165708:DEBUG:tectosaur.nearfield.nearfield_op]\n",
      "         Nearfield correction took 0.09788902848958969\n",
      "[1165773:DEBUG:tectosaur.nearfield.nearfield_op]\n",
      "         Assemble matrix took 0.0642666444182396\n",
      "[1165774:DEBUG:tectosaur.nearfield.nearfield_op]\n",
      "         Assemble uncorrected matrix took 1.7255544662475586e-05\n",
      "[1165778:DEBUG:tectosaur.util.gpu]\n",
      "    returning cached gpu module matrix_free.cl\n"
     ]
    }
   ],
   "source": [
    "H = tct.RegularizedSparseIntegralOp(\n",
    "    6, 6, 6, 2, 5, 2.5,\n",
    "    'elasticRH3', 'elasticRH3', [1.0, 0.25], src_mesh[0], src_mesh[1], np.float32,\n",
    "    farfield_op_type = tct.TriToTriDirectFarfieldOp\n",
    ")"
   ]
  },
  {
   "cell_type": "code",
   "execution_count": 102,
   "metadata": {},
   "outputs": [],
   "source": [
    "traction_mass_op = tct.MassOp(4, src_mesh[0], src_mesh[1])"
   ]
  },
  {
   "cell_type": "code",
   "execution_count": 103,
   "metadata": {},
   "outputs": [],
   "source": [
    "dof_pts = src_mesh[0][src_mesh[1]]\n",
    "from tectosaur.util.geometry import unscaled_normals\n",
    "ns = unscaled_normals(dof_pts)\n",
    "ns /= np.linalg.norm(ns, axis = 1)[:, np.newaxis]\n",
    "ns = np.repeat(ns, 3, axis = 0)"
   ]
  },
  {
   "cell_type": "code",
   "execution_count": 104,
   "metadata": {},
   "outputs": [],
   "source": [
    "edge_dofs = tct.free_edge_dofs(src_mesh[1], tct.find_free_edges(src_mesh[1]))"
   ]
  },
  {
   "cell_type": "code",
   "execution_count": 105,
   "metadata": {},
   "outputs": [
    {
     "name": "stdout",
     "output_type": "stream",
     "text": [
      "[1167448:DEBUG:tectosaur.util.gpu]\n",
      "    returning cached gpu module matrix_free.cl\n",
      "[1167453:DEBUG:tectosaur.util.gpu]\n",
      "    returning cached gpu module assemble.cl\n",
      "[1167457:DEBUG:tectosaur.util.gpu]\n",
      "    returning cached gpu module assemble.cl\n",
      "[1167494:DEBUG:tectosaur.util.gpu]\n",
      "    returning cached gpu module assemble.cl\n",
      "[1167495:DEBUG:tectosaur.util.gpu]\n",
      "    returning cached gpu module assemble.cl\n"
     ]
    }
   ],
   "source": [
    "obs_pts = dof_pts.reshape((-1,3))[edge_dofs]\n",
    "obs_ns = ns[edge_dofs]\n",
    "interior_op = tct.InteriorOp(obs_pts.copy(), obs_ns.copy(), src_mesh, 'elasticH3', 10, 6, 6, [1.0, 0.25], np.float32)"
   ]
  },
  {
   "cell_type": "code",
   "execution_count": 106,
   "metadata": {},
   "outputs": [],
   "source": [
    "trac_edges = -interior_op.dot(slip.flatten())"
   ]
  },
  {
   "cell_type": "code",
   "execution_count": 134,
   "metadata": {},
   "outputs": [],
   "source": [
    "vec_edge_dofs = np.tile(3 * np.array(edge_dofs)[:,np.newaxis], (1,3))\n",
    "vec_edge_dofs[:,1] += 1\n",
    "vec_edge_dofs[:,2] += 2\n",
    "vec_edge_dofs = vec_edge_dofs.flatten()"
   ]
  },
  {
   "cell_type": "code",
   "execution_count": null,
   "metadata": {},
   "outputs": [
    {
     "name": "stdout",
     "output_type": "stream",
     "text": [
      "> \u001b[0;32m/home/tthompson/Dropbox/projects/tectosaur/tectosaur/tectosaur/continuity.py\u001b[0m(188)\u001b[0;36mtraction_admissibility_constraints\u001b[0;34m()\u001b[0m\n",
      "\u001b[0;32m    186 \u001b[0;31m                    \u001b[0mTracer\u001b[0m\u001b[0;34m(\u001b[0m\u001b[0;34m)\u001b[0m\u001b[0;34m(\u001b[0m\u001b[0;34m)\u001b[0m\u001b[0;34m\u001b[0m\u001b[0m\n",
      "\u001b[0m\u001b[0;32m    187 \u001b[0;31m\u001b[0;34m\u001b[0m\u001b[0m\n",
      "\u001b[0m\u001b[0;32m--> 188 \u001b[0;31m                \u001b[0;32mdef\u001b[0m \u001b[0mget_dof\u001b[0m\u001b[0;34m(\u001b[0m\u001b[0mrow\u001b[0m\u001b[0;34m)\u001b[0m\u001b[0;34m:\u001b[0m\u001b[0;34m\u001b[0m\u001b[0m\n",
      "\u001b[0m\u001b[0;32m    189 \u001b[0;31m                    \u001b[0;32mif\u001b[0m \u001b[0mrow\u001b[0m \u001b[0;34m<=\u001b[0m \u001b[0;36m2\u001b[0m\u001b[0;34m:\u001b[0m\u001b[0;34m\u001b[0m\u001b[0m\n",
      "\u001b[0m\u001b[0;32m    190 \u001b[0;31m                        \u001b[0;32mreturn\u001b[0m \u001b[0;34m(\u001b[0m\u001b[0mindependent_tri_idx\u001b[0m \u001b[0;34m*\u001b[0m \u001b[0;36m3\u001b[0m \u001b[0;34m+\u001b[0m \u001b[0mindependent_corner_idx\u001b[0m\u001b[0;34m)\u001b[0m \u001b[0;34m*\u001b[0m \u001b[0;36m3\u001b[0m \u001b[0;34m+\u001b[0m \u001b[0mrow\u001b[0m\u001b[0;34m\u001b[0m\u001b[0m\n",
      "\u001b[0m\n"
     ]
    },
    {
     "name": "stdin",
     "output_type": "stream",
     "text": [
      "ipdb>  t2t\n"
     ]
    },
    {
     "name": "stdout",
     "output_type": "stream",
     "text": [
      "array([[ 1.00000000e+00,  3.88578059e-16,  0.00000000e+00,\n",
      "         5.55111512e-16, -3.05311332e-16,  0.00000000e+00],\n",
      "       [ 4.03095505e-16,  5.00000000e-01,  0.00000000e+00,\n",
      "        -3.53553391e-01,  3.53553391e-01,  0.00000000e+00],\n",
      "       [ 1.27886331e-31, -1.18143350e-16,  1.00000000e+00,\n",
      "        -8.35399640e-17,  1.52718784e-16, -2.22044605e-16],\n",
      "       [ 5.93581318e-16, -3.53553391e-01,  0.00000000e+00,\n",
      "         7.50000000e-01,  2.50000000e-01,  0.00000000e+00],\n",
      "       [-3.67195699e-16,  3.53553391e-01,  0.00000000e+00,\n",
      "         2.50000000e-01,  7.50000000e-01,  0.00000000e+00],\n",
      "       [-3.46924086e-32,  3.20493781e-17, -2.00272710e-16,\n",
      "         2.26623326e-17, -1.41658845e-32,  1.00000000e+00]])\n"
     ]
    },
    {
     "name": "stdin",
     "output_type": "stream",
     "text": [
      "ipdb>  independent_n\n"
     ]
    },
    {
     "name": "stdout",
     "output_type": "stream",
     "text": [
      "array([-0.70710678,  0.70710678,  0.        ])\n"
     ]
    },
    {
     "name": "stdin",
     "output_type": "stream",
     "text": [
      "ipdb>  dependent_n\n"
     ]
    },
    {
     "name": "stdout",
     "output_type": "stream",
     "text": [
      "array([-1.08246745e-15,  1.00000000e+00,  0.00000000e+00])\n"
     ]
    }
   ],
   "source": [
    "cs1 = tct.continuity_constraints(src_mesh[0], src_mesh[1], src_mesh[1].shape[0])\n",
    "cs12 = cs1\n",
    "cs1 = tct.traction_admissibility_constraints(src_mesh[0], src_mesh[1])\n",
    "cs = cs1 + tct.simple_constraints(vec_edge_dofs, trac_edges)\n",
    "cm, c_rhs, c_rhs_mat = tct.build_constraint_matrix(cs, src_mesh[1].shape[0] * 9)"
   ]
  },
  {
   "cell_type": "code",
   "execution_count": 127,
   "metadata": {},
   "outputs": [
    {
     "name": "stdout",
     "output_type": "stream",
     "text": [
      "(15, 1.0) (6, -1.0)\n",
      "(15, 1.0) (6, -1.0)\n",
      "(16, 1.0) (7, -1.0)\n",
      "(16, 1.0) (7, -1.0)\n",
      "(17, 1.0) (8, -1.0)\n",
      "(17, 1.0) (8, -1.0)\n",
      "(702, 1.0) (6, -1.0)\n",
      "(702, 1.0) (6, -1.0)\n",
      "(703, 1.0) (7, -1.0)\n",
      "(703, 1.0) (7, -1.0)\n",
      "(704, 1.0) (8, -1.0)\n",
      "(704, 1.0) (8, -1.0)\n",
      "(702, 1.0) (15, -1.0)\n",
      "(702, 1.0) (15, -1.0)\n",
      "(703, 1.0) (16, -1.0)\n",
      "(703, 1.0) (16, -1.0)\n",
      "(704, 1.0) (17, -1.0)\n",
      "(704, 1.0) (17, -1.0)\n",
      "(717, 1.0) (708, -1.0)\n",
      "(717, 1.0) (708, -1.0)\n"
     ]
    }
   ],
   "source": [
    "for i in range(10):\n",
    "    C1 = cs12[i]\n",
    "    C2 = cs1[i]\n",
    "    print((C1.terms[0].dof, C1.terms[0].val), (C1.terms[1].dof, C1n.terms[1].val))\n",
    "    print((C2.terms[0].dof, C2.terms[0].val), (C2.terms[1].dof, C2.terms[1].val))"
   ]
  },
  {
   "cell_type": "code",
   "execution_count": 128,
   "metadata": {},
   "outputs": [
    {
     "data": {
      "image/png": "[encoded data removed]",
      "text/plain": [
       "<Figure size 432x288 with 1 Axes>"
      ]
     },
     "metadata": {
      "needs_background": "light"
     },
     "output_type": "display_data"
    }
   ],
   "source": [
    "plt.plot(obs_pts[:,0], trac_edges.reshape((-1,3))[:,0], '.')\n",
    "plt.show()"
   ]
  },
  {
   "cell_type": "code",
   "execution_count": 129,
   "metadata": {},
   "outputs": [],
   "source": [
    "constrained_traction_mass_op = cm.T.dot(traction_mass_op.mat.dot(cm))"
   ]
  },
  {
   "cell_type": "code",
   "execution_count": 130,
   "metadata": {},
   "outputs": [
    {
     "name": "stdout",
     "output_type": "stream",
     "text": [
      "[1228825:DEBUG:tectosaur.ops.sparse_integral_op]\n",
      "    start farfield_dot\n",
      "[1228840:DEBUG:tectosaur.ops.sparse_integral_op]\n",
      "     farfield_dot took 0.015006240457296371\n",
      "[1228841:DEBUG:tectosaur.ops.sparse_integral_op]\n",
      "    start nearfield_dot\n",
      "[1228895:DEBUG:tectosaur.ops.sparse_integral_op]\n",
      "     nearfield_dot took 0.053365081548690796\n"
     ]
    }
   ],
   "source": [
    "rhs = -cm.T.dot(H.dot(slip.flatten())) - cm.T.dot(traction_mass_op.mat.dot(c_rhs))\n",
    "#rhs = -cm.T.dot(traction_mass_op.mat.dot(c_rhs2))\n",
    "soln = cg(constrained_traction_mass_op, rhs)\n",
    "out = cm.dot(soln[0]) + c_rhs"
   ]
  },
  {
   "cell_type": "code",
   "execution_count": 131,
   "metadata": {},
   "outputs": [
    {
     "data": {
      "image/png": "[encoded data removed]",
      "text/plain": [
       "<Figure size 1800x576 with 6 Axes>"
      ]
     },
     "metadata": {
      "needs_background": "light"
     },
     "output_type": "display_data"
    }
   ],
   "source": [
    "def plot_fnc(triang, f):\n",
    "    levels = np.linspace(np.min(f) - 1e-12, np.max(f) + 1e-12, 9)\n",
    "    #levels = np.linspace(-0.2, 0.2, 31)\n",
    "    cntf = plt.tricontourf(triang, f, levels = levels, cmap = 'RdBu_r')\n",
    "    #plt.tricontour(triang, f, levels = levels, linestyles = 'solid', colors = 'k', linewidths = 0.5)\n",
    "    plt.colorbar(cntf)\n",
    "\n",
    "triang = matplotlib.tri.Triangulation(src_mesh[0][:,0], src_mesh[0][:,2], src_mesh[1])\n",
    "plt.figure(figsize = (25,8))\n",
    "for d in range(3):\n",
    "    f = out.reshape((-1,3,3))[:,:,d]\n",
    "    f_pts = np.zeros(src_mesh[0].shape[0])\n",
    "    f_pts[src_mesh[1]] = f\n",
    "    plt.subplot(1, 3, d + 1)\n",
    "    plot_fnc(triang, f_pts)\n",
    "plt.show()"
   ]
  }
 ],
 "metadata": {
  "kernelspec": {
   "display_name": "Python 3",
   "language": "python",
   "name": "python3"
  },
  "language_info": {
   "codemirror_mode": {
    "name": "ipython",
    "version": 3
   },
   "file_extension": ".py",
   "mimetype": "text/x-python",
   "name": "python",
   "nbconvert_exporter": "python",
   "pygments_lexer": "ipython3",
   "version": "3.6.6"
  }
 },
 "nbformat": 4,
 "nbformat_minor": 2
}

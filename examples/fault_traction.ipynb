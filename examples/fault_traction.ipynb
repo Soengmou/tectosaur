{
 "cells": [
  {
   "cell_type": "code",
   "execution_count": 1,
   "metadata": {},
   "outputs": [],
   "source": [
    "%load_ext autoreload\n",
    "%autoreload 2"
   ]
  },
  {
   "cell_type": "code",
   "execution_count": 2,
   "metadata": {},
   "outputs": [],
   "source": [
    "import numpy as np\n",
    "from scipy.sparse.linalg import cg\n",
    "import matplotlib.pyplot as plt\n",
    "import matplotlib.tri\n",
    "import okada_wrapper\n",
    "import tectosaur as tct"
   ]
  },
  {
   "cell_type": "code",
   "execution_count": 28,
   "metadata": {},
   "outputs": [],
   "source": [
    "TCTN = 21\n",
    "CURVE = 1.0\n",
    "\n",
    "corners = [[-1, 0, -1], [1, 0, -1], [1, 0, 1], [-1, 0, 1]]\n",
    "src_mesh = tct.make_rect(TCTN, TCTN, corners)\n",
    "src_mesh[0][:,1] = CURVE * np.abs(src_mesh[0][:,0])\n",
    "#src_mesh[0][:,1] = CURVE * (src_mesh[0][:,0] ** 2 + src_mesh[0][:,2] ** 2)\n",
    "def gauss_slip_fnc(x, z):\n",
    "    r2 = x ** 2 + z ** 2\n",
    "    R = 1.0\n",
    "    out = (np.cos(np.sqrt(r2) * np.pi / R) + 1) / 2.0\n",
    "    out[np.sqrt(r2) > R] = 0.0\n",
    "    return out\n",
    "dof_pts = src_mesh[0][src_mesh[1]]\n",
    "x = dof_pts[:,:,0]\n",
    "z = dof_pts[:,:,2]\n",
    "slip = np.zeros((src_mesh[1].shape[0], 3, 3)).astype(np.float32)\n",
    "slip[:,:,0] = gauss_slip_fnc(x, z)"
   ]
  },
  {
   "cell_type": "code",
   "execution_count": 29,
   "metadata": {},
   "outputs": [
    {
     "data": {
      "image/png": "[encoded data removed]",
      "text/plain": [
       "<matplotlib.figure.Figure at 0x7f01f411ad30>"
      ]
     },
     "metadata": {},
     "output_type": "display_data"
    }
   ],
   "source": [
    "plt.tripcolor(src_mesh[0][:,0], src_mesh[0][:,2], src_mesh[1], src_mesh[0][:,1])\n",
    "plt.show()"
   ]
  },
  {
   "cell_type": "code",
   "execution_count": 30,
   "metadata": {},
   "outputs": [
    {
     "name": "stdout",
     "output_type": "stream",
     "text": [
      "[448713:DEBUG:tectosaur.util.gpu]\n",
      "    returning cached gpu module assemble.cl\n",
      "[448738:DEBUG:tectosaur.util.gpu]\n",
      "    returning cached gpu module assemble.cl\n",
      "[448756:DEBUG:tectosaur.nearfield.nearfield_op]\n",
      "         setup pairs integrator took 0.04390891100047156\n",
      "[449186:DEBUG:tectosaur.nearfield.nearfield_op]\n",
      "         Coincident took 0.4233699969990994\n",
      "[449204:DEBUG:tectosaur.nearfield.nearfield_op]\n",
      "         Coincident correction took 0.01828545099851908\n",
      "[449232:DEBUG:tectosaur.nearfield.nearfield_op]\n",
      "         Find nearfield/adjacency took 0.026272376002452802\n",
      "[450317:DEBUG:tectosaur.nearfield.nearfield_op]\n",
      "         Edge adjacent took 1.0824664319952717\n",
      "[450337:DEBUG:tectosaur.nearfield.nearfield_op]\n",
      "         Edge adjacent correction took 0.01914088300691219\n",
      "[451459:DEBUG:tectosaur.nearfield.nearfield_op]\n",
      "         Vert adjacent took 1.12217209499795\n",
      "[451478:DEBUG:tectosaur.nearfield.nearfield_op]\n",
      "         Vert adjacent correction took 0.018189431000791956\n",
      "[451794:DEBUG:tectosaur.nearfield.nearfield_op]\n",
      "         Nearfield took 0.3146679459969164\n",
      "[451846:DEBUG:tectosaur.nearfield.nearfield_op]\n",
      "         Nearfield correction took 0.05150640300416853\n",
      "[451856:DEBUG:tectosaur.nearfield.nearfield_op]\n",
      "         Assemble matrix took 0.008968151996668894\n",
      "[451857:DEBUG:tectosaur.nearfield.nearfield_op]\n",
      "         Assemble uncorrected matrix took 3.8170997868292034e-05\n",
      "[451859:DEBUG:tectosaur.util.gpu]\n",
      "    returning cached gpu module matrix_free.cl\n"
     ]
    }
   ],
   "source": [
    "H = tct.RegularizedSparseIntegralOp(\n",
    "    6, 6, 6, 2, 5, 2.5,\n",
    "    'elasticRH3', 'elasticRH3', [1.0, 0.25], src_mesh[0], src_mesh[1], np.float32,\n",
    "    farfield_op_type = tct.TriToTriDirectFarfieldOp\n",
    ")"
   ]
  },
  {
   "cell_type": "code",
   "execution_count": 31,
   "metadata": {},
   "outputs": [],
   "source": [
    "traction_mass_op = tct.MassOp(4, src_mesh[0], src_mesh[1])"
   ]
  },
  {
   "cell_type": "code",
   "execution_count": 32,
   "metadata": {},
   "outputs": [],
   "source": [
    "dof_pts = src_mesh[0][src_mesh[1]]\n",
    "from tectosaur.util.geometry import unscaled_normals\n",
    "ns = unscaled_normals(dof_pts)\n",
    "ns /= np.linalg.norm(ns, axis = 1)[:, np.newaxis]\n",
    "ns = np.repeat(ns, 3, axis = 0)"
   ]
  },
  {
   "cell_type": "code",
   "execution_count": 33,
   "metadata": {},
   "outputs": [],
   "source": [
    "edge_dofs = tct.free_edge_dofs(src_mesh[1], tct.find_free_edges(src_mesh[1]))"
   ]
  },
  {
   "cell_type": "code",
   "execution_count": 34,
   "metadata": {},
   "outputs": [
    {
     "name": "stdout",
     "output_type": "stream",
     "text": [
      "[451995:DEBUG:tectosaur.util.gpu]\n",
      "    returning cached gpu module matrix_free.cl\n",
      "[452025:DEBUG:tectosaur.util.gpu]\n",
      "    returning cached gpu module assemble.cl\n",
      "[452045:DEBUG:tectosaur.util.gpu]\n",
      "    returning cached gpu module assemble.cl\n",
      "[452073:DEBUG:tectosaur.util.gpu]\n",
      "    returning cached gpu module assemble.cl\n",
      "[452081:DEBUG:tectosaur.util.gpu]\n",
      "    returning cached gpu module assemble.cl\n"
     ]
    }
   ],
   "source": [
    "obs_pts = dof_pts.reshape((-1,3))[edge_dofs]\n",
    "obs_ns = ns[edge_dofs]\n",
    "interior_op = tct.InteriorOp(obs_pts.copy(), obs_ns.copy(), src_mesh, 'elasticH3', 10, 6, 6, [1.0, 0.25], np.float32)"
   ]
  },
  {
   "cell_type": "code",
   "execution_count": 35,
   "metadata": {},
   "outputs": [],
   "source": [
    "trac_edges = -interior_op.dot(slip.flatten())"
   ]
  },
  {
   "cell_type": "code",
   "execution_count": 36,
   "metadata": {},
   "outputs": [],
   "source": [
    "vec_edge_dofs = np.tile(3 * np.array(edge_dofs)[:,np.newaxis], (1,3))\n",
    "vec_edge_dofs[:,1] += 1\n",
    "vec_edge_dofs[:,2] += 2\n",
    "vec_edge_dofs = vec_edge_dofs.flatten()"
   ]
  },
  {
   "cell_type": "code",
   "execution_count": 52,
   "metadata": {},
   "outputs": [],
   "source": [
    "cs1 = tct.continuity_constraints(src_mesh[0], src_mesh[1], src_mesh[1].shape[0])\n",
    "# cs12 = cs1\n",
    "cs1 = tct.traction_admissibility_constraints(src_mesh[0], src_mesh[1])\n",
    "cs = cs1 + tct.simple_constraints(vec_edge_dofs, trac_edges)"
   ]
  },
  {
   "cell_type": "code",
   "execution_count": 45,
   "metadata": {},
   "outputs": [],
   "source": [
    "cm, c_rhs, c_rhs_mat = tct.build_constraint_matrix(cs, src_mesh[1].shape[0] * 9)"
   ]
  },
  {
   "cell_type": "code",
   "execution_count": 46,
   "metadata": {},
   "outputs": [
    {
     "ename": "IndexError",
     "evalue": "list index out of range",
     "output_type": "error",
     "traceback": [
      "\u001b[0;31m---------------------------------------------------------------------------\u001b[0m",
      "\u001b[0;31mIndexError\u001b[0m                                Traceback (most recent call last)",
      "\u001b[0;32m<ipython-input-46-651040c4bd2b>\u001b[0m in \u001b[0;36m<module>\u001b[0;34m()\u001b[0m\n\u001b[0;32m----> 1\u001b[0;31m \u001b[0;34m[\u001b[0m\u001b[0mcs1\u001b[0m\u001b[0;34m[\u001b[0m\u001b[0;36m200\u001b[0m\u001b[0;34m]\u001b[0m\u001b[0;34m.\u001b[0m\u001b[0mterms\u001b[0m\u001b[0;34m[\u001b[0m\u001b[0mi\u001b[0m\u001b[0;34m]\u001b[0m\u001b[0;34m.\u001b[0m\u001b[0mval\u001b[0m \u001b[0;32mfor\u001b[0m \u001b[0mi\u001b[0m \u001b[0;32min\u001b[0m \u001b[0mrange\u001b[0m\u001b[0;34m(\u001b[0m\u001b[0;36m6\u001b[0m\u001b[0;34m)\u001b[0m\u001b[0;34m]\u001b[0m\u001b[0;34m\u001b[0m\u001b[0m\n\u001b[0m",
      "\u001b[0;32m<ipython-input-46-651040c4bd2b>\u001b[0m in \u001b[0;36m<listcomp>\u001b[0;34m(.0)\u001b[0m\n\u001b[0;32m----> 1\u001b[0;31m \u001b[0;34m[\u001b[0m\u001b[0mcs1\u001b[0m\u001b[0;34m[\u001b[0m\u001b[0;36m200\u001b[0m\u001b[0;34m]\u001b[0m\u001b[0;34m.\u001b[0m\u001b[0mterms\u001b[0m\u001b[0;34m[\u001b[0m\u001b[0mi\u001b[0m\u001b[0;34m]\u001b[0m\u001b[0;34m.\u001b[0m\u001b[0mval\u001b[0m \u001b[0;32mfor\u001b[0m \u001b[0mi\u001b[0m \u001b[0;32min\u001b[0m \u001b[0mrange\u001b[0m\u001b[0;34m(\u001b[0m\u001b[0;36m6\u001b[0m\u001b[0;34m)\u001b[0m\u001b[0;34m]\u001b[0m\u001b[0;34m\u001b[0m\u001b[0m\n\u001b[0m",
      "\u001b[0;31mIndexError\u001b[0m: list index out of range"
     ]
    }
   ],
   "source": [
    "[cs1[200].terms[i].val for i in range(6)]"
   ]
  },
  {
   "cell_type": "code",
   "execution_count": 47,
   "metadata": {},
   "outputs": [],
   "source": [
    "# for i in range(10):\n",
    "#     C1 = cs12[i]\n",
    "#     C2 = cs1[i]\n",
    "#     print((C1.terms[0].dof, C1.terms[0].val), (C1.terms[1].dof, C1n.terms[1].val))\n",
    "#     print((C2.terms[0].dof, C2.terms[0].val), (C2.terms[1].dof, C2.terms[1].val))"
   ]
  },
  {
   "cell_type": "code",
   "execution_count": 48,
   "metadata": {},
   "outputs": [
    {
     "data": {
      "image/png": "[encoded data removed]",
      "text/plain": [
       "<matplotlib.figure.Figure at 0x7f0205533320>"
      ]
     },
     "metadata": {},
     "output_type": "display_data"
    }
   ],
   "source": [
    "plt.plot(obs_pts[:,0], trac_edges.reshape((-1,3))[:,0], '.')\n",
    "plt.show()"
   ]
  },
  {
   "cell_type": "code",
   "execution_count": 49,
   "metadata": {},
   "outputs": [],
   "source": [
    "constrained_traction_mass_op = cm.T.dot(traction_mass_op.mat.dot(cm))"
   ]
  },
  {
   "cell_type": "code",
   "execution_count": 50,
   "metadata": {},
   "outputs": [
    {
     "name": "stdout",
     "output_type": "stream",
     "text": [
      "[463864:DEBUG:tectosaur.ops.sparse_integral_op]\n",
      "    start farfield_dot\n",
      "[464009:DEBUG:tectosaur.ops.sparse_integral_op]\n",
      "     farfield_dot took 0.14472196000133408\n",
      "[464011:DEBUG:tectosaur.ops.sparse_integral_op]\n",
      "    start nearfield_dot\n",
      "[464073:DEBUG:tectosaur.ops.sparse_integral_op]\n",
      "     nearfield_dot took 0.061807953999959864\n"
     ]
    }
   ],
   "source": [
    "rhs = -cm.T.dot(H.dot(slip.flatten())) - cm.T.dot(traction_mass_op.mat.dot(c_rhs))\n",
    "#rhs = -cm.T.dot(traction_mass_op.mat.dot(c_rhs2))\n",
    "soln = cg(constrained_traction_mass_op, rhs)\n",
    "out = cm.dot(soln[0]) + c_rhs"
   ]
  },
  {
   "cell_type": "code",
   "execution_count": 51,
   "metadata": {},
   "outputs": [
    {
     "data": {
      "image/png": "[encoded data removed]",
      "text/plain": [
       "<matplotlib.figure.Figure at 0x7f01d7cffe10>"
      ]
     },
     "metadata": {},
     "output_type": "display_data"
    }
   ],
   "source": [
    "def plot_fnc(triang, f):\n",
    "    levels = np.linspace(np.min(f) - 1e-12, np.max(f) + 1e-12, 9)\n",
    "    #levels = np.linspace(-0.2, 0.2, 31)\n",
    "    cntf = plt.tricontourf(triang, f, levels = levels, cmap = 'RdBu_r')\n",
    "    #plt.tricontour(triang, f, levels = levels, linestyles = 'solid', colors = 'k', linewidths = 0.5)\n",
    "    plt.colorbar(cntf)\n",
    "\n",
    "triang = matplotlib.tri.Triangulation(src_mesh[0][:,0], src_mesh[0][:,2], src_mesh[1])\n",
    "plt.figure(figsize = (25,8))\n",
    "for d in range(3):\n",
    "    f = out.reshape((-1,3,3))[:,:,d]\n",
    "    f_pts = np.zeros(src_mesh[0].shape[0])\n",
    "    f_pts[src_mesh[1]] = f\n",
    "    plt.subplot(1, 3, d + 1)\n",
    "    plot_fnc(triang, f_pts)\n",
    "plt.show()"
   ]
  },
  {
   "cell_type": "code",
   "execution_count": null,
   "metadata": {},
   "outputs": [],
   "source": []
  }
 ],
 "metadata": {
  "kernelspec": {
   "display_name": "Python 3",
   "language": "python",
   "name": "python3"
  },
  "language_info": {
   "codemirror_mode": {
    "name": "ipython",
    "version": 3
   },
   "file_extension": ".py",
   "mimetype": "text/x-python",
   "name": "python",
   "nbconvert_exporter": "python",
   "pygments_lexer": "ipython3",
   "version": "3.6.3"
  }
 },
 "nbformat": 4,
 "nbformat_minor": 2
}

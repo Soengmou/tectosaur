{
 "cells": [
  {
   "cell_type": "code",
   "execution_count": 1,
   "metadata": {},
   "outputs": [],
   "source": [
    "%load_ext autoreload\n",
    "%autoreload 2   "
   ]
  },
  {
   "cell_type": "code",
   "execution_count": 2,
   "metadata": {},
   "outputs": [],
   "source": [
    "import numpy as np\n",
    "from scipy.sparse.linalg import cg, lsqr\n",
    "import matplotlib.pyplot as plt\n",
    "import matplotlib.tri\n",
    "import okada_wrapper\n",
    "import tectosaur as tct"
   ]
  },
  {
   "cell_type": "code",
   "execution_count": 62,
   "metadata": {},
   "outputs": [],
   "source": [
    "TCTN = 61\n",
    "CURVE = 1.0\n",
    "\n",
    "corners = [[-1, 0, -1], [1, 0, -1], [1, 0, 1], [-1, 0, 1]]\n",
    "src_mesh = tct.make_rect(TCTN, TCTN, corners)\n",
    "src_mesh[0][:,1] = CURVE * np.abs(src_mesh[0][:,0])\n",
    "#src_mesh[0][:,1] = CURVE * (src_mesh[0][:,0] ** 2 + src_mesh[0][:,2] ** 2)\n",
    "def gauss_slip_fnc(x, z):\n",
    "    r2 = x ** 2 + z ** 2\n",
    "    R = 0.5\n",
    "    out = (np.cos(np.sqrt(r2) * np.pi / R) + 1) / 2.0\n",
    "    out[np.sqrt(r2) > R] = 0.0\n",
    "    return out\n",
    "dof_pts = src_mesh[0][src_mesh[1]]\n",
    "x = dof_pts[:,:,0]\n",
    "z = dof_pts[:,:,2]\n",
    "slip = np.zeros((src_mesh[1].shape[0], 3, 3)).astype(np.float32)\n",
    "slip[:,:,0] = gauss_slip_fnc(x, z)"
   ]
  },
  {
   "cell_type": "code",
   "execution_count": 63,
   "metadata": {},
   "outputs": [
    {
     "data": {
      "image/png": "[encoded data removed]",
      "text/plain": [
       "<Figure size 432x288 with 1 Axes>"
      ]
     },
     "metadata": {
      "needs_background": "light"
     },
     "output_type": "display_data"
    }
   ],
   "source": [
    "plt.tripcolor(src_mesh[0][:,0], src_mesh[0][:,2], src_mesh[1], src_mesh[0][:,1])\n",
    "plt.show()"
   ]
  },
  {
   "cell_type": "code",
   "execution_count": 64,
   "metadata": {},
   "outputs": [
    {
     "name": "stdout",
     "output_type": "stream",
     "text": [
      "[3079887:DEBUG:tectosaur.util.gpu]\n",
      "    returning cached gpu module assemble.cl\n",
      "[3079891:DEBUG:tectosaur.util.gpu]\n",
      "    returning cached gpu module assemble.cl\n",
      "[3079893:DEBUG:tectosaur.nearfield.nearfield_op]\n",
      "         setup pairs integrator took 0.006155394017696381\n",
      "[3080092:DEBUG:tectosaur.nearfield.nearfield_op]\n",
      "         Coincident took 0.197934128344059\n",
      "[3080095:DEBUG:tectosaur.nearfield.nearfield_op]\n",
      "         Coincident correction took 0.002511821687221527\n",
      "[3080252:DEBUG:tectosaur.nearfield.nearfield_op]\n",
      "         Find nearfield/adjacency took 0.15543672069907188\n",
      "[3080375:DEBUG:tectosaur.nearfield.nearfield_op]\n",
      "         Edge adjacent took 0.12181037291884422\n",
      "[3080380:DEBUG:tectosaur.nearfield.nearfield_op]\n",
      "         Edge adjacent correction took 0.004305381327867508\n",
      "[3080541:DEBUG:tectosaur.nearfield.nearfield_op]\n",
      "         Vert adjacent took 0.1602952852845192\n",
      "[3080552:DEBUG:tectosaur.nearfield.nearfield_op]\n",
      "         Vert adjacent correction took 0.009771399199962616\n",
      "[3080802:DEBUG:tectosaur.nearfield.nearfield_op]\n",
      "         Nearfield took 0.24974915385246277\n",
      "[3080979:DEBUG:tectosaur.nearfield.nearfield_op]\n",
      "         Nearfield correction took 0.17565443366765976\n",
      "[3081115:DEBUG:tectosaur.nearfield.nearfield_op]\n",
      "         Assemble matrix took 0.134980957955122\n",
      "[3081116:DEBUG:tectosaur.nearfield.nearfield_op]\n",
      "         Assemble uncorrected matrix took 2.841278910636902e-05\n",
      "[3081121:DEBUG:tectosaur.util.gpu]\n",
      "    returning cached gpu module matrix_free.cl\n"
     ]
    }
   ],
   "source": [
    "H = tct.RegularizedSparseIntegralOp(\n",
    "    6, 6, 6, 2, 5, 2.5,\n",
    "    'elasticRH3', 'elasticRH3', [1.0, 0.25], src_mesh[0], src_mesh[1], np.float32,\n",
    "    farfield_op_type = tct.TriToTriDirectFarfieldOp\n",
    ")\n",
    "traction_mass_op = tct.MassOp(4, src_mesh[0], src_mesh[1])"
   ]
  },
  {
   "cell_type": "code",
   "execution_count": 65,
   "metadata": {},
   "outputs": [
    {
     "name": "stdout",
     "output_type": "stream",
     "text": [
      "[3081189:DEBUG:tectosaur.util.gpu]\n",
      "    returning cached gpu module matrix_free.cl\n",
      "[3081192:DEBUG:tectosaur.util.gpu]\n",
      "    returning cached gpu module assemble.cl\n",
      "[3081220:DEBUG:tectosaur.util.gpu]\n",
      "    returning cached gpu module assemble.cl\n",
      "[3081279:DEBUG:tectosaur.util.gpu]\n",
      "    start compiling interior_corners.cl\n",
      "[3082210:DEBUG:tectosaur.util.gpu]\n",
      "     compile took 0.9308673404157162\n"
     ]
    }
   ],
   "source": [
    "dof_pts = src_mesh[0][src_mesh[1]]\n",
    "from tectosaur.util.geometry import unscaled_normals\n",
    "ns = unscaled_normals(dof_pts)\n",
    "ns /= np.linalg.norm(ns, axis = 1)[:, np.newaxis]\n",
    "ns = np.repeat(ns, 3, axis = 0)\n",
    "\n",
    "edge_dofs = tct.free_edge_dofs(src_mesh[1], tct.find_free_edges(src_mesh[1]))\n",
    "\n",
    "obs_pts = dof_pts.reshape((-1,3))[edge_dofs]\n",
    "obs_ns = ns[edge_dofs]\n",
    "interior_op = tct.InteriorOp(obs_pts.copy(), obs_ns.copy(), src_mesh, 'elasticH3', 4.0, 10, 6, 6, [1.0, 0.25], np.float32)\n",
    "\n",
    "trac_edges = -interior_op.dot(slip.flatten())\n",
    "\n",
    "vec_edge_dofs = np.tile(3 * np.array(edge_dofs)[:,np.newaxis], (1,3))\n",
    "vec_edge_dofs[:,1] += 1\n",
    "vec_edge_dofs[:,2] += 2\n",
    "vec_edge_dofs = vec_edge_dofs.flatten()\n",
    "edge_cs = tct.simple_constraints(vec_edge_dofs, trac_edges)"
   ]
  },
  {
   "cell_type": "code",
   "execution_count": 66,
   "metadata": {},
   "outputs": [],
   "source": [
    "cs = tct.continuity_constraints(src_mesh[0], src_mesh[1], src_mesh[1].shape[0])\n",
    "cs.extend(edge_cs)\n",
    "cmU, _, _ = tct.build_constraint_matrix(cs, src_mesh[1].shape[0] * 9)"
   ]
  },
  {
   "cell_type": "code",
   "execution_count": null,
   "metadata": {},
   "outputs": [
    {
     "name": "stdout",
     "output_type": "stream",
     "text": [
      "> \u001b[0;32m/home/tthompson/Dropbox/projects/tectosaur/tectosaur/tectosaur/continuity.py\u001b[0m(222)\u001b[0;36mstrain_invariant\u001b[0;34m()\u001b[0m\n",
      "\u001b[0;32m    220 \u001b[0;31m    \u001b[0mTracer\u001b[0m\u001b[0;34m(\u001b[0m\u001b[0;34m)\u001b[0m\u001b[0;34m(\u001b[0m\u001b[0;34m)\u001b[0m\u001b[0;34m\u001b[0m\u001b[0m\n",
      "\u001b[0m\u001b[0;32m    221 \u001b[0;31m\u001b[0;34m\u001b[0m\u001b[0m\n",
      "\u001b[0m\u001b[0;32m--> 222 \u001b[0;31m    \u001b[0;32mreturn\u001b[0m \u001b[0mI1\u001b[0m\u001b[0;34m,\u001b[0m \u001b[0mL\u001b[0m\u001b[0;34m,\u001b[0m \u001b[0ms12\u001b[0m\u001b[0;34m\u001b[0m\u001b[0m\n",
      "\u001b[0m\u001b[0;32m    223 \u001b[0;31m\u001b[0;34m\u001b[0m\u001b[0m\n",
      "\u001b[0m\u001b[0;32m    224 \u001b[0;31m\u001b[0;32mdef\u001b[0m \u001b[0mtraction_admissibility_constraints\u001b[0m\u001b[0;34m(\u001b[0m\u001b[0mpts\u001b[0m\u001b[0;34m,\u001b[0m \u001b[0mtris\u001b[0m\u001b[0;34m,\u001b[0m \u001b[0mdisp\u001b[0m\u001b[0;34m,\u001b[0m \u001b[0msm\u001b[0m\u001b[0;34m,\u001b[0m \u001b[0mpr\u001b[0m\u001b[0;34m)\u001b[0m\u001b[0;34m:\u001b[0m\u001b[0;34m\u001b[0m\u001b[0m\n",
      "\u001b[0m\n"
     ]
    },
    {
     "name": "stdin",
     "output_type": "stream",
     "text": [
      "ipdb>  s11\n"
     ]
    },
    {
     "name": "stdout",
     "output_type": "stream",
     "text": [
      "array([ 0.        , -0.23570226,  0.23570226,  0.        ])\n"
     ]
    },
    {
     "name": "stdin",
     "output_type": "stream",
     "text": [
      "ipdb>  s22\n"
     ]
    },
    {
     "name": "stdout",
     "output_type": "stream",
     "text": [
      "array([ 0.        , -0.23570226,  0.23570226,  0.        ])\n"
     ]
    },
    {
     "name": "stdin",
     "output_type": "stream",
     "text": [
      "ipdb>  s33\n"
     ]
    },
    {
     "name": "stdout",
     "output_type": "stream",
     "text": [
      "array([ 0.        , -0.70710678,  0.70710678,  0.        ])\n"
     ]
    },
    {
     "name": "stdin",
     "output_type": "stream",
     "text": [
      "ipdb>  e11\n"
     ]
    },
    {
     "name": "stdout",
     "output_type": "stream",
     "text": [
      "array([0., 0., 0., 0.])\n"
     ]
    },
    {
     "name": "stdin",
     "output_type": "stream",
     "text": [
      "ipdb>  e22\n"
     ]
    },
    {
     "name": "stdout",
     "output_type": "stream",
     "text": [
      "array([0., 0., 0., 0.])\n"
     ]
    },
    {
     "name": "stdin",
     "output_type": "stream",
     "text": [
      "ipdb>  e33\n"
     ]
    },
    {
     "name": "stdout",
     "output_type": "stream",
     "text": [
      "array([-0.        , -0.23570226,  0.23570226,  0.        ])\n"
     ]
    },
    {
     "name": "stdin",
     "output_type": "stream",
     "text": [
      "ipdb>  s12\n"
     ]
    },
    {
     "name": "stdout",
     "output_type": "stream",
     "text": [
      "array([0., 0., 0., 0.])\n"
     ]
    },
    {
     "name": "stdin",
     "output_type": "stream",
     "text": [
      "ipdb>  s23\n"
     ]
    },
    {
     "name": "stdout",
     "output_type": "stream",
     "text": [
      "array([0., 0., 0., 1.])\n"
     ]
    },
    {
     "name": "stdin",
     "output_type": "stream",
     "text": [
      "ipdb>  s13\n"
     ]
    },
    {
     "name": "stdout",
     "output_type": "stream",
     "text": [
      "array([ 0.        , -0.70710678, -0.70710678,  0.        ])\n"
     ]
    },
    {
     "name": "stdin",
     "output_type": "stream",
     "text": [
      "ipdb>  s33\n"
     ]
    },
    {
     "name": "stdout",
     "output_type": "stream",
     "text": [
      "array([ 0.        , -0.70710678,  0.70710678,  0.        ])\n"
     ]
    },
    {
     "name": "stdin",
     "output_type": "stream",
     "text": [
      "ipdb>  s33 + s13 + s23\n"
     ]
    },
    {
     "name": "stdout",
     "output_type": "stream",
     "text": [
      "array([ 0.00000000e+00, -1.41421356e+00, -1.11022302e-16,  1.00000000e+00])\n"
     ]
    }
   ],
   "source": [
    "csT1, csT2 = tct.traction_admissibility_constraints(src_mesh[0], src_mesh[1], slip, 1.0, 0.25)\n",
    "csT1.extend(edge_cs)\n",
    "cmT, c_rhs, _ = tct.build_constraint_matrix(csT1, src_mesh[1].shape[0] * 9)\n",
    "\n",
    "import scipy.sparse\n",
    "rows = []\n",
    "cols = []\n",
    "data = []\n",
    "for i in range(len(csT2)):\n",
    "    c = csT2[i]\n",
    "    for j in range(len(c.terms)):\n",
    "        rows.append(i)\n",
    "        cols.append(c.terms[j].dof)\n",
    "        data.append(c.terms[j].val)\n",
    "cmT2 = scipy.sparse.csr_matrix((data, (rows, cols)), shape = (len(csT2), cmT.shape[0]))\n",
    "\n",
    "constrained_traction_mass_op = cmU.T.dot(traction_mass_op.mat.dot(cmT))\n",
    "full_lhs = scipy.sparse.vstack((constrained_traction_mass_op, cmT2.dot(cmT)))\n",
    "rhs = -cmU.T.dot(H.dot(slip.flatten())) - cmU.T.dot(traction_mass_op.mat.dot(c_rhs))\n",
    "full_rhs = np.concatenate((rhs, np.zeros(cmT2.shape[0])))\n",
    "\n",
    "# full_lhs.shape, full_rhs.shape, cmT.shape, cmU.shape, cmT2.shape, constrained_traction_mass_op.shape\n",
    "\n",
    "#soln = cg(constrained_traction_mass_op, rhs)\n",
    "soln = lsqr(full_lhs, full_rhs)\n",
    "out = cmT.dot(soln[0]) + c_rhs\n",
    "\n",
    "pts = src_mesh[0][src_mesh[1]].reshape((-1,3))\n",
    "idxs = np.where(np.abs(pts[:,2] - 0.1) < 0.01)[0]\n",
    "#idxs = np.where(np.abs(pts[:,0]) < 0.01)[0]\n",
    "plt.figure(figsize = (18, 6))\n",
    "for d in range(3):\n",
    "    plt.subplot(1,3,d+1)\n",
    "    plt.plot(pts[idxs][:,0], out.reshape((-1,3))[idxs][:,d], '-*')\n",
    "plt.show()\n",
    "    \n",
    "pts = src_mesh[0][src_mesh[1]].reshape((-1,3))\n",
    "idxs = np.where(np.abs(pts[:,0]) < 0.02)[0]\n",
    "#idxs = np.where(np.abs(pts[:,0]) < 0.01)[0]\n",
    "plt.figure(figsize = (18, 6))\n",
    "for d in range(3):\n",
    "    plt.subplot(1,3,d+1)\n",
    "    plt.plot(pts[idxs][:,2], out.reshape((-1,3))[idxs][:,d], '.')\n",
    "plt.show()\n",
    "\n",
    "def plotter(fields):\n",
    "    levels = []\n",
    "    for f in fields:\n",
    "        minf = np.min(f)\n",
    "        maxf = np.max(f)\n",
    "        levels.append(np.linspace(minf - 1e-12, maxf + 1e-12, 21))\n",
    "    #levels[2] = np.linspace(-0.15, 0.15, 11)\n",
    "    # levels = [\n",
    "    #     np.linspace(-0.1, 0.6, 21),\n",
    "    #     np.linspace(-1.9, 1.9, 21),\n",
    "    #     np.linspace(-0.2, 0.2, 21)\n",
    "    # ]\n",
    "    tri_centers = np.mean(src_mesh[0][src_mesh[1]], axis = 1)\n",
    "    side = np.zeros(src_mesh[1].shape[0]).astype(np.int)\n",
    "    side[tri_centers[:,0] > 0] = 1\n",
    "    n_sides = 2\n",
    "\n",
    "    cmap = 'RdBu_r'\n",
    "    plt.figure(figsize = (16, 6))\n",
    "    for d in range(len(fields)):\n",
    "        plt.subplot(1,len(fields),d+1)\n",
    "        field = fields[d]\n",
    "        for i in range(n_sides):\n",
    "            which_tris = np.where(side == i)[0]\n",
    "            reduced_m = tct.mesh.modify.remove_unused_pts((src_mesh[0], src_mesh[1][which_tris]))\n",
    "            soln_vals = np.empty(reduced_m[0].shape[0])\n",
    "            soln_vals[reduced_m[1]] = field[which_tris]\n",
    "            cntf = plt.tricontourf(\n",
    "                reduced_m[0][:,0], reduced_m[0][:,2], reduced_m[1], soln_vals, \n",
    "                cmap = cmap, linewidth = 0.5, levels = levels[d], extend = 'both'\n",
    "            )\n",
    "            plt.tricontour(\n",
    "                reduced_m[0][:,0], reduced_m[0][:,2], reduced_m[1], soln_vals, \n",
    "                linestyles = 'solid', colors='k', linewidths = 0.7, levels = levels[d]\n",
    "            ) \n",
    "        plt.colorbar(cntf)\n",
    "        plt.tight_layout()\n",
    "    plt.show()\n",
    "    \n",
    "zvec = np.cross(ns, [0,1,0])\n",
    "xvec = np.cross(zvec, ns)\n",
    "\n",
    "normal_trac = np.sum(out.reshape((-1,3)) * ns, axis = 1).reshape((-1,3))\n",
    "horizontal_shear = np.sum(out.reshape((-1,3)) * xvec, axis = 1).reshape((-1,3))\n",
    "vertical_shear = np.sum(out.reshape((-1,3)) * zvec, axis = 1).reshape((-1,3))\n",
    "    \n",
    "plotter([\n",
    "    horizontal_shear, \n",
    "    normal_trac,\n",
    "    vertical_shear\n",
    "])\n",
    "plotter([\n",
    "    out.reshape((-1,3,3))[:,:,d]\n",
    "    for d in range(3)\n",
    "])"
   ]
  },
  {
   "cell_type": "code",
   "execution_count": null,
   "metadata": {},
   "outputs": [],
   "source": []
  }
 ],
 "metadata": {
  "kernelspec": {
   "display_name": "Python 3",
   "language": "python",
   "name": "python3"
  },
  "language_info": {
   "codemirror_mode": {
    "name": "ipython",
    "version": 3
   },
   "file_extension": ".py",
   "mimetype": "text/x-python",
   "name": "python",
   "nbconvert_exporter": "python",
   "pygments_lexer": "ipython3",
   "version": "3.6.6"
  }
 },
 "nbformat": 4,
 "nbformat_minor": 2
}

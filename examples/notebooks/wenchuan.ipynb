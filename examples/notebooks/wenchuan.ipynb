{
 "cells": [
  {
   "cell_type": "markdown",
   "metadata": {},
   "source": [
    "# The Beichuan and Pengguan faults\n",
    "\n",
    "In this example, we will solve for the surface displacement due to slip on a complex three-dimensional geometry beneath a topographic free surface. \n",
    "\n",
    "First, we'll import the necessary tools."
   ]
  },
  {
   "cell_type": "code",
   "execution_count": null,
   "metadata": {},
   "outputs": [],
   "source": [
    "import pickle\n",
    "import numpy as np\n",
    "import matplotlib.pyplot as plt\n",
    "import scipy.sparse.linalg as spsla\n",
    "\n",
    "import tectosaur as tct"
   ]
  },
  {
   "cell_type": "markdown",
   "metadata": {},
   "source": [
    "And the premade mesh that we're going to use:"
   ]
  },
  {
   "cell_type": "code",
   "execution_count": null,
   "metadata": {},
   "outputs": [],
   "source": [
    "with open('wenchuan_mesh.pkl', 'rb') as f:\n",
    "    m = pickle.load(f)"
   ]
  },
  {
   "cell_type": "markdown",
   "metadata": {},
   "source": [
    "`m` is now a CombinedMesh object which is a handy class for tracking different subsets of a mesh. Let's explore. How many elements are there in this mesh? How about in each of the subsets?"
   ]
  },
  {
   "cell_type": "code",
   "execution_count": null,
   "metadata": {},
   "outputs": [],
   "source": [
    "m.n_tris(), m.n_tris('surf'), m.n_tris('fault')"
   ]
  },
  {
   "cell_type": "markdown",
   "metadata": {},
   "source": [
    "Let's plot up the mesh to get a sense for what we're dealing with! Everything is projected into UTM 48R."
   ]
  },
  {
   "cell_type": "code",
   "execution_count": null,
   "metadata": {},
   "outputs": [],
   "source": [
    "plt.figure(figsize = (10,10))\n",
    "plt.triplot(m.pts[:,0], m.pts[:,1], m.tris, linewidth = 0.5)\n",
    "plt.gca().set_aspect('equal', adjustable = 'box')\n",
    "plt.xlabel('x (m)')\n",
    "plt.ylabel('y (m)')\n",
    "plt.show()"
   ]
  },
  {
   "cell_type": "markdown",
   "metadata": {},
   "source": [
    "We can see the fault mesh in the center, with the surface elements getting larger further from the fault. Let's zoom in and just look at the fault surface."
   ]
  },
  {
   "cell_type": "code",
   "execution_count": null,
   "metadata": {},
   "outputs": [],
   "source": [
    "plt.figure(figsize = (10,10))\n",
    "plt.triplot(m.pts[:,0], m.pts[:,1], m.get_tris('fault'), linewidth = 0.5)\n",
    "plt.gca().set_aspect('equal', adjustable = 'box')\n",
    "plt.xlabel('x (m)')\n",
    "plt.ylabel('y (m)')\n",
    "plt.show()"
   ]
  },
  {
   "cell_type": "markdown",
   "metadata": {},
   "source": [
    "There are two separate fault surfaces. The western surface (on the left) is the Beichuan fault, while the eastern surface that extends far to the northeast is the Pengguan fault. This fault geometry is based on structural work by Hubbard, Shaw and Klinger (2009)."
   ]
  },
  {
   "cell_type": "markdown",
   "metadata": {},
   "source": [
    "We were promised topography! Let's check on that. "
   ]
  },
  {
   "cell_type": "code",
   "execution_count": null,
   "metadata": {},
   "outputs": [],
   "source": [
    "levels = np.linspace(0, 5500, 12)\n",
    "plt.figure(figsize = (10,8))\n",
    "cntf = plt.tricontourf(\n",
    "    m.pts[:,0], m.pts[:,1], m.get_tris('surf'), m.pts[:,2], levels = levels\n",
    ")\n",
    "plt.tricontour(\n",
    "    m.pts[:,0], m.pts[:,1], m.get_tris('surf'), m.pts[:,2], \n",
    "    linestyles = 'solid', colors='k', linewidths = 0.25, levels = levels\n",
    ")\n",
    "plt.colorbar(cntf)\n",
    "plt.gca().set_aspect('equal', adjustable = 'box')\n",
    "plt.xlabel('x (m)')\n",
    "plt.ylabel('y (m)')\n",
    "plt.show()"
   ]
  },
  {
   "cell_type": "markdown",
   "metadata": {},
   "source": [
    "Fantastic. Next, we'll set up a sample slip field on the fault surface. For simplicity, the slip field will be exclusively thrust motion. To do that, we'll project the vertical vector $(0,0,1)$ into the plane of each triangle."
   ]
  },
  {
   "cell_type": "code",
   "execution_count": null,
   "metadata": {},
   "outputs": [],
   "source": [
    "# First, we get an array of (n_fault_tris, 3, 3) that contains the three\n",
    "# points for the vertices of each triangle\n",
    "fault_tri_pts = m.pts[m.get_tris('fault')]\n",
    "\n",
    "# Then, we compute the normal vector:\n",
    "fault_normals = np.cross(\n",
    "    fault_tri_pts[:,2,:] - fault_tri_pts[:,0,:],\n",
    "    fault_tri_pts[:,2,:] - fault_tri_pts[:,1,:]\n",
    ")\n",
    "fault_normals /= np.linalg.norm(fault_normals, axis = 1)[:, np.newaxis]\n",
    "\n",
    "# Next, we project our slip vector (0, 0, 1) into the plane defined \n",
    "# by the triangle normal vectors\n",
    "v = [0,0,1]\n",
    "tri_slip = v - fault_normals * (fault_normals.dot(v)[:, np.newaxis])\n",
    "\n",
    "# Finally, we need a slip value for each degree of freedom. Each triangle\n",
    "# has a degree of freedom located at each of its vertices. We will simply \n",
    "# replicate the slip field so that the slip is the same at all three of a\n",
    "# triangles vertices.\n",
    "slip = -np.tile(tri_slip[:,np.newaxis,:], (1,3,1))"
   ]
  },
  {
   "cell_type": "markdown",
   "metadata": {},
   "source": [
    "Let's plot the x, y and z components of that slip field just to get a sense of it."
   ]
  },
  {
   "cell_type": "code",
   "execution_count": null,
   "metadata": {},
   "outputs": [],
   "source": [
    "# We need to determine the slip field at each point rather than each degree of freedom!\n",
    "pt_slip = np.zeros((m.pts.shape[0], 3))\n",
    "pt_slip[m.get_tris('fault')] = slip.reshape((-1,3,3))\n",
    "\n",
    "levels = np.linspace(-1, 1, 21)\n",
    "plt.figure(figsize = (15,4))\n",
    "\n",
    "for d in range(3):\n",
    "    plt.subplot(1,3,d + 1)\n",
    "    plt.title(['x', 'y', 'z'][d])\n",
    "    plt.tricontourf(m.pts[:,0], m.pts[:,1], m.get_tris('fault'), pt_slip[:, d], linewidth = 0.5, levels = levels)\n",
    "    plt.xlim([np.min(m.pts[m.get_tris('fault'),0]), np.max(m.pts[m.get_tris('fault'),0])])\n",
    "    plt.ylim([np.min(m.pts[m.get_tris('fault'),1]), np.max(m.pts[m.get_tris('fault'),1])])\n",
    "    plt.gca().set_aspect('equal', adjustable = 'box')\n",
    "    plt.xlabel('x (m)')\n",
    "    plt.ylabel('y (m)')\n",
    "    if d == 2:\n",
    "        plt.colorbar()\n",
    "plt.tight_layout()\n",
    "plt.show()"
   ]
  },
  {
   "cell_type": "markdown",
   "metadata": {},
   "source": [
    "Next, we'll build the boundary element matrix, `T`, the mass matrix, the constraint matrices and then solve the linear system. This code is almost identical to the code in the Okada example, so I won't explain it in detail. That similarity is one of the powerful aspects of Tectosaur. With almost exactly the same code we can solve a boundary element problem with a small planar fault or a large complex fault geometry including topography. "
   ]
  },
  {
   "cell_type": "code",
   "execution_count": null,
   "metadata": {},
   "outputs": [],
   "source": [
    "sm = 3e10 # Shear modulus\n",
    "pr = 0.25 # Poisson ratio\n",
    "T = tct.RegularizedSparseIntegralOp(\n",
    "    8, # The coincident quadrature order\n",
    "    8, # The edge adjacent quadrature order\n",
    "    8, # The vertex adjacent quadrature order\n",
    "    2, # The farfield quadrature order\n",
    "    5, # The nearfield quadrature order\n",
    "    2.5, # The element length factor to separate near from farfield.\n",
    "    'elasticRT3', # The Green's function to integrate\n",
    "    'elasticRT3', #...\n",
    "    [sm, pr], # The material parameters (shear modulus, poisson ratio)\n",
    "    m.pts, # The mesh points\n",
    "    m.tris, # The mesh triangles\n",
    "    np.float32,   # The float type to use. float32 is much faster on most GPUs\n",
    "    \n",
    "    # Finally, do we use a direct (dense) farfield operator or do we use the Fast Multipole Method?\n",
    "    farfield_op_type = tct.TriToTriDirectFarfieldOp \n",
    "    #farfield_op_type = FMMFarfieldOp(mac = 4.5, pts_per_cell = 100)\n",
    ")"
   ]
  },
  {
   "cell_type": "code",
   "execution_count": null,
   "metadata": {},
   "outputs": [],
   "source": [
    "mass = tct.MassOp(3, m.pts, m.tris)\n",
    "lhs = tct.SumOp([T, tct.MultOp(mass, 0.5)])\n",
    "\n",
    "bc_cs = tct.all_bc_constraints(\n",
    "    m.n_tris('surf'), # The first triangle index to apply BCs to. The first fault triangle is at index `n_surf_tris`.\n",
    "    m.n_tris(), # The last triangle index to apply BCs to.\n",
    "    slip.flatten() # The BC vector should be n_tris * 9 elements long. \n",
    ")\n",
    "continuity_cs = tct.continuity_constraints(\n",
    "    m.pts, # The mesh points. \n",
    "    m.tris, # The mesh triangles\n",
    "    m.n_tris('surf') # How many surface triangles are there? The triangles are expected to be arranged so that the surface triangles come first. The remaining triangles are assumed to be fault triangles.\n",
    ")\n",
    "cs = bc_cs + continuity_cs\n",
    "cm, c_rhs, _ = tct.build_constraint_matrix(cs, lhs.shape[1])\n",
    "rhs_constrained = cm.T.dot(-lhs.dot(c_rhs))"
   ]
  },
  {
   "cell_type": "code",
   "execution_count": null,
   "metadata": {},
   "outputs": [],
   "source": [
    "def mv(v, it = [0]):\n",
    "    it[0] += 1\n",
    "    print('iteration # ' + str(it[0]))\n",
    "    return cm.T.dot(lhs.dot(cm.dot(v)))\n",
    "n = rhs_constrained.shape[0]\n",
    "A = spsla.LinearOperator((n, n), matvec = mv)\n",
    "gmres_out = spsla.gmres(\n",
    "    A, rhs_constrained, tol = 1e-6, restart = 200, \n",
    "    callback = lambda R: print('residual: ', str(R))\n",
    ")\n",
    "soln = cm.dot(gmres_out[0]) + c_rhs"
   ]
  },
  {
   "cell_type": "markdown",
   "metadata": {},
   "source": [
    "With the solution in hand, let's make a rough plot of each component of the surface displacement field. "
   ]
  },
  {
   "cell_type": "code",
   "execution_count": null,
   "metadata": {},
   "outputs": [],
   "source": [
    "pt_disp = np.zeros((m.pts.shape[0], 3))\n",
    "pt_disp[m.get_tris('surf')] = m.get_dofs(soln, 'surf').reshape((-1,3,3))\n",
    "    \n",
    "view_center = np.mean(m.pts[m.get_tris('fault'),:].reshape((-1,3)), axis = 0)\n",
    "view_R = 200000\n",
    "levels = np.linspace(-1, 1, 21)\n",
    "\n",
    "for d in range(3):\n",
    "    plt.figure(figsize = (6,4))\n",
    "    plt.title('$u_' + ['x', 'y', 'z'][d] + '$')\n",
    "    cntf = plt.tricontourf(\n",
    "        m.pts[:,0], m.pts[:,1], m.get_tris('surf'), pt_disp[:, d], \n",
    "        linewidth = 0.5, levels = levels, extend = 'both'\n",
    "    )\n",
    "    plt.tricontour(\n",
    "        m.pts[:,0], m.pts[:,1], m.get_tris('surf'), pt_disp[:, d], \n",
    "        linestyles = 'solid', colors='k', linewidths = 0.5, levels = levels\n",
    "    )\n",
    "    plt.xlim([view_center[0] - view_R, view_center[0] + view_R])\n",
    "    plt.ylim([view_center[1] - view_R, view_center[1] + view_R])\n",
    "    plt.gca().set_aspect('equal', adjustable = 'box')\n",
    "    plt.xlabel('x (m)')\n",
    "    plt.ylabel('y (m)')\n",
    "    plt.colorbar(cntf)\n",
    "    plt.tight_layout()\n",
    "    plt.show()"
   ]
  },
  {
   "cell_type": "markdown",
   "metadata": {},
   "source": [
    "It's exciting! There's some interesting behavior going on, especially near the fault trace. But, these figures really aren't very interpretable near the fault trace. That's primarily because the `tricontourf` function doesn't handle discontinuity. As a result, it tries the smooth the jump in displacement across the fault. That's why there are several contour lines bunched close together near the fault trace. Let's try to make a better figure. \n",
    "\n",
    "There's a trick with the `tricontourf` function. If you exclude the triangles on one side of the fault, you'll get a sharp edge. So, we're going to actually make two `tricontourf` plots. One with the triangles on one side of the fault, and the other with the triangles on the other side of the fault."
   ]
  },
  {
   "cell_type": "markdown",
   "metadata": {},
   "source": [
    "First, we need to figure out which surface triangles are on which side of the fault."
   ]
  },
  {
   "cell_type": "code",
   "execution_count": null,
   "metadata": {},
   "outputs": [],
   "source": [
    "fault_start_idx = m.get_start('fault')\n",
    "side = tct.continuity.get_side_of_fault(m.pts, m.tris, fault_start_idx)\n",
    "\n",
    "plt.tripcolor(m.pts[:,0], m.pts[:,1], m.get_tris('surf'), side[:m.n_tris('surf')])\n",
    "plt.gca().set_aspect('equal', adjustable = 'box')\n",
    "plt.xlabel('x (m)')\n",
    "plt.ylabel('y (m)')\n",
    "plt.xlim([view_center[0] - view_R / 1.5, view_center[0] + view_R / 1.5])\n",
    "plt.ylim([view_center[1] - view_R / 1.5, view_center[1] + view_R / 1.5])\n",
    "plt.show()"
   ]
  },
  {
   "cell_type": "markdown",
   "metadata": {},
   "source": [
    "Perfect! Most of the mesh is not touching the fault, so it's marked 0. The triangles on the northwestern side are marked 1 and triangles are southeastern side are marked 2. It's also nice to identify the edges in the mesh that form the fault trace: `surf_fault_edges`"
   ]
  },
  {
   "cell_type": "code",
   "execution_count": null,
   "metadata": {},
   "outputs": [],
   "source": [
    "surf_verts = np.unique(m.get_tris('surf'))\n",
    "surf_fault_edges = []\n",
    "for i, t in enumerate(m.get_tris('fault')):\n",
    "    in_surf = []\n",
    "    for d in range(3):\n",
    "        if t[d] in surf_verts:\n",
    "            in_surf.append((i, d))\n",
    "    if len(in_surf) == 2:\n",
    "        surf_fault_edges.append(in_surf)"
   ]
  },
  {
   "cell_type": "markdown",
   "metadata": {},
   "source": [
    "Now, let's make that figure!"
   ]
  },
  {
   "cell_type": "code",
   "execution_count": null,
   "metadata": {},
   "outputs": [],
   "source": [
    "view_center = np.mean(m.pts[m.get_tris('fault'),:].reshape((-1,3)), axis = 0)\n",
    "view_R = 250000    \n",
    "cmap = 'RdBu_r'\n",
    "\n",
    "levels = [\n",
    "    np.linspace(-0.5, 0.1, 11),\n",
    "    np.linspace(-0.3, 0.3, 11),\n",
    "    np.linspace(0, 0.7, 11)\n",
    "]\n",
    "\n",
    "for d in range(3):\n",
    "    \n",
    "    field = m.get_dofs(soln, 'surf').reshape((-1,3,3))[:,:, d]\n",
    "    plt.figure(figsize = (8,6))\n",
    "    plt.title('$u_' + ['x', 'y', 'z'][d] + '$')\n",
    "    \n",
    "    # This is the critical section of code. We take all the triangles except one of the fault touching \n",
    "    # sides and make a contour plot with them. The combination of the two contour plots results in a \n",
    "    # nice clean edge.\n",
    "    for i in range(2):\n",
    "        which_tris = np.where(np.logical_or(side[:fault_start_idx] == 0, side[:fault_start_idx] == i + 1))[0]\n",
    "        reduced_m = tct.mesh.modify.remove_unused_pts((m.pts, m.tris[which_tris]))\n",
    "        soln_vals = np.empty(reduced_m[0].shape[0])\n",
    "        soln_vals[reduced_m[1]] = field[which_tris]\n",
    "        \n",
    "        cntf = plt.tricontourf(\n",
    "            reduced_m[0][:,0], reduced_m[0][:,1], reduced_m[1], soln_vals, \n",
    "            cmap = cmap, linewidth = 0.5, levels = levels[d], extend = 'both'\n",
    "        )\n",
    "        plt.tricontour(\n",
    "            reduced_m[0][:,0], reduced_m[0][:,1], reduced_m[1], soln_vals, \n",
    "            linestyles = 'solid', colors='k', linewidths = 0.5, levels = levels[d]\n",
    "        )\n",
    "    \n",
    "    # Here, we plot the fault trace edges.\n",
    "    fault_tris = m.get_tris('fault')\n",
    "    for e in surf_fault_edges:\n",
    "        i1, d1 = e[0]\n",
    "        i2, d2 = e[1]\n",
    "        pts = m.pts[[fault_tris[i1,d1], fault_tris[i2,d2]]]\n",
    "        plt.plot(pts[:,0], pts[:,1], 'k-', linewidth = 2)\n",
    "    plt.gca().set_aspect('equal', adjustable = 'box')\n",
    "    plt.xlabel('x (m)')\n",
    "    plt.ylabel('y (m)')\n",
    "        \n",
    "    plt.xlim([view_center[0] - view_R, view_center[0] + view_R])\n",
    "    plt.ylim([view_center[1] - view_R, view_center[1] + view_R])\n",
    "    plt.colorbar(cntf)\n",
    "    plt.tight_layout()\n",
    "    plt.show()"
   ]
  },
  {
   "cell_type": "markdown",
   "metadata": {},
   "source": [
    "That's much much better! "
   ]
  }
 ],
 "metadata": {
  "kernelspec": {
   "display_name": "Python 3",
   "language": "python",
   "name": "python3"
  },
  "language_info": {
   "codemirror_mode": {
    "name": "ipython",
    "version": 3
   },
   "file_extension": ".py",
   "mimetype": "text/x-python",
   "name": "python",
   "nbconvert_exporter": "python",
   "pygments_lexer": "ipython3",
   "version": "3.6.6"
  }
 },
 "nbformat": 4,
 "nbformat_minor": 2
}

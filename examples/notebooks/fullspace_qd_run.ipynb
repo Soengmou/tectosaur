{
 "cells": [
  {
   "cell_type": "markdown",
   "metadata": {},
   "source": [
    "# Quasidynamic earthquake simulation\n",
    "\n",
    "In this example, we will simulate the evolution of a square fault in an elastic full space. The fault will be loaded plate motion and the relationship between slip rate and traction on the fault will be governed by rate and state friction.\n",
    "\n",
    "First, let's import our tools!"
   ]
  },
  {
   "cell_type": "code",
   "execution_count": null,
   "metadata": {},
   "outputs": [],
   "source": [
    "import numpy as np\n",
    "import matplotlib.pyplot as plt\n",
    "import tectosaur.mesh.mesh_gen\n",
    "import tectosaur as tct\n",
    "import tectosaur.qd as qd\n",
    "\n",
    "qd.configure(\n",
    "    # Which GPU to use if there are multiple. \n",
    "    # Best to leave as 0. \n",
    "    gpu_idx = 0, \n",
    "    # Let's make fast, inexpensive figures. \n",
    "    # Set to false for higher resolution plots \n",
    "    # with latex fonts. \n",
    "    fast_plot = True, \n",
    ")\n",
    "plt.style.use('default')"
   ]
  },
  {
   "cell_type": "markdown",
   "metadata": {},
   "source": [
    "Next, we'll create a square triangulated fault mesh:"
   ]
  },
  {
   "cell_type": "code",
   "execution_count": null,
   "metadata": {},
   "outputs": [],
   "source": [
    "n_fault = 25\n",
    "L = 1.0\n",
    "W = 1.0\n",
    "m = tectosaur.mesh.mesh_gen.make_rect(n_fault, n_fault, [\n",
    "    [-L, 0, W], [-L, 0, -W],\n",
    "    [L, 0, -W], [L, 0, W]\n",
    "])\n",
    "n_tris = m[1].shape[0]"
   ]
  },
  {
   "cell_type": "markdown",
   "metadata": {},
   "source": [
    "Now, let's define all the relevant material and numerical parameters needed: "
   ]
  },
  {
   "cell_type": "code",
   "execution_count": null,
   "metadata": {},
   "outputs": [],
   "source": [
    "qd_cfg = dict(\n",
    "    # Material properties\n",
    "    \n",
    "    # Shear modulus (Pa)\n",
    "    sm = 3e10,\n",
    "    # Poisson ratio \n",
    "    pr = 0.25, \n",
    "    # rock density (kg/m^3)\n",
    "    density = 2670,     \n",
    "\n",
    "    # Frictional properties\n",
    "    Dc = 0.000002, # state evolution length scale (m)\n",
    "    f0 = 0.6, # baseline coefficient of friction\n",
    "    V0 = 1e-6, # when V = V0, f = f0, V is (m/s)\n",
    "    a = np.ones(n_tris * 3) * 0.010, # rate-state a parameter\n",
    "    b = np.ones(n_tris * 3) * 0.015, # rate-state b parameter\n",
    "    \n",
    "    # Boundary conditions\n",
    "    plate_rate = 1e-9,  # (m/s), equivalent to ~31.5 mm/yr\n",
    "    \n",
    "    # This is only necessary because this is a full \n",
    "    # space model and there's no concept of depth or gravity\n",
    "    additional_normal_stress = 50e6, \n",
    "    \n",
    "    # numerical preferences\n",
    "    \n",
    "    # error tolerance for the RK45 time stepper\n",
    "    timestep_tol = 1e-4, \n",
    "    tectosaur_cfg = dict(\n",
    "        # Order of coincident quadrature\n",
    "        quad_coincident_order = 6, \n",
    "        # Order of edge adjacent element quadrature\n",
    "        quad_edgeadj_order = 6, \n",
    "        # Order of vertex adjacent element quadrature\n",
    "        quad_vertadj_order = 6, \n",
    "        # Order of nearfield, but not touching, element quadrature\n",
    "        quad_near_order = 5, \n",
    "        # The distance threshold for defining near vs farfield\n",
    "        quad_near_threshold = 2.5, \n",
    "        # Order of farfield quadrature\n",
    "        quad_far_order = 2, \n",
    "        # Order of gaussian quadrature used for the mass operator\n",
    "        quad_mass_order = 4, \n",
    "        \n",
    "        float_type = np.float32, # 32 bit or 64 bit floating point?\n",
    "        \n",
    "        # Should we use the FMM for the farfield?\n",
    "        use_fmm = False, \n",
    "        # The FMM P2P vs M2P distance criteria\n",
    "        fmm_mac = 2.5,\n",
    "        # The maximum number of points per cell in the FMM tree?\n",
    "        pts_per_cell = 100, \n",
    "        # The order of the FMM solid harmonic approximation\n",
    "        fmm_order = 2, \n",
    "        \n",
    "        # The logging level to display.\n",
    "        # Use DEBUG for lots of info\n",
    "        # INFO for less, and WARNING for almost none. \n",
    "        log_level = 'INFO'\n",
    "    )\n",
    ")"
   ]
  },
  {
   "cell_type": "markdown",
   "metadata": {},
   "source": [
    "The model object is the main implementation of the QD equations. We create a `FullspaceModel`. There is also a `TopoModel` for use when we want to have a free surface, possibly with non-planar topography. "
   ]
  },
  {
   "cell_type": "code",
   "execution_count": null,
   "metadata": {},
   "outputs": [],
   "source": [
    "model = qd.FullspaceModel(m, qd_cfg)"
   ]
  },
  {
   "cell_type": "markdown",
   "metadata": {},
   "source": [
    "There are two relevant length scales for QD simulations: \n",
    "\n",
    "1. $h^*$ -- the minimum rupture patch length scale. It's good to know how this length scale compares to the size of the whole mesh. If the length scale is longest than the largest distance in the mesh, we do not expect to see ruptures in the model and after some initial slow slip events, the model should relax to a constant rate of creep despite the velocity weakening friction parameters. On the other hand, if the length scale is smaller than the largest distance in the mesh, we should expect to see ruptures. \n",
    "2. $L_b$ -- the cohesive zone length scale. It's nice to check before running a model to make sure that we are resolving the cohesive zone. For best accuracy, the mesh length scale should be less than half the cohesive zone. However, the results with a mesh length scale approximately equal to the cohesive zone length scale will be adequate. These constraints are looser than the requirements from previous methods (Lapusta and Liu 2009) because we are using a more accurate SGBEM implementation with sub-element linear variation in slip/traction. "
   ]
  },
  {
   "cell_type": "code",
   "execution_count": null,
   "metadata": {},
   "outputs": [],
   "source": [
    "qd.print_length_scales(model)"
   ]
  },
  {
   "cell_type": "markdown",
   "metadata": {},
   "source": [
    "We will use an initial state variable value of 0.7 everywhere on the fault and an initial slip of 0. As a result, the initial stress state is zero everywhere. "
   ]
  },
  {
   "cell_type": "code",
   "execution_count": null,
   "metadata": {},
   "outputs": [],
   "source": [
    "init_state = np.full(model.m.n_tris('fault') * 3, 0.7)\n",
    "init_slip = np.zeros(model.m.n_tris('fault') * 9)\n",
    "init_conditions = np.concatenate((init_slip, init_state))"
   ]
  },
  {
   "cell_type": "markdown",
   "metadata": {},
   "source": [
    "Next, we create the `Integrator` object. This object encapsulates the logic that runs the Runge-Kutta time stepper and stores the results to a folder. By default, every 100 time steps, a file with the latest results will be output to a folder prefixed with `data`. If `data0` already exists, `data1` will be used and so on. To create an `Integrator`, we provide a model object that describes the frictional and elastic behavior of the model we're dealing with. We also provide the initial conditions, a big vector consisting of the all the slip degrees of freedom and then all the frictional state degrees of freedom. Because there are three basis functions per triangle and three components of slip and one component of state per basis function, we have `3 * 4 * n_tris` total degrees of freedom."
   ]
  },
  {
   "cell_type": "code",
   "execution_count": null,
   "metadata": {},
   "outputs": [],
   "source": [
    "print(init_conditions.shape, 3 * 4 * n_tris)"
   ]
  },
  {
   "cell_type": "markdown",
   "metadata": {},
   "source": [
    "The most important part of the Integrator object are the two lists `h_t` and `h_y`. Each element in `h_y` is an array with the same shape as `init_conditions` containing the value of each degree of freedom at that time step."
   ]
  },
  {
   "cell_type": "code",
   "execution_count": null,
   "metadata": {},
   "outputs": [],
   "source": [
    "integrator = qd.Integrator(model, (0, init_conditions))"
   ]
  },
  {
   "cell_type": "markdown",
   "metadata": {},
   "source": [
    "Finally, we will start the simulation. We'll run for 1000 time steps and plot every 10th time step. \n",
    "\n",
    "At each time step, many plots will be produced. The columns are the x, y and z components of each field. The rows are:\n",
    "1. The slip field. \n",
    "2. The velocity field.\n",
    "3. The traction field.\n",
    "4. The frictional state variable."
   ]
  },
  {
   "cell_type": "code",
   "execution_count": null,
   "metadata": {},
   "outputs": [],
   "source": [
    "from IPython.display import clear_output\n",
    "\n",
    "def display_fnc(integrator):\n",
    "    print(len(integrator.h_t))\n",
    "    print(integrator.h_t[-1])\n",
    "    if len(integrator.h_t) % 10 == 0:\n",
    "        clear_output(wait = True)\n",
    "        t = integrator.h_t[-1]\n",
    "        y = integrator.h_y[-1]\n",
    "        integrator.model.display(t, y)\n",
    "    \n",
    "integrator.integrate(\n",
    "    n_steps = 1000, \n",
    "    display_interval = 1,\n",
    "    display_fnc = display_fnc\n",
    ")"
   ]
  },
  {
   "cell_type": "markdown",
   "metadata": {},
   "source": [
    "Finally, a quick description of how the data is stored. Everything from a given simulation is stored in the same `data#` folder (for example, `data0`). First there is a file, `initial_data.npy` that stores a tuple consisting of `(mesh, qd_cfg, init_conditions)`. This is essentially all the information needed to restart the simulation from the beginning."
   ]
  },
  {
   "cell_type": "code",
   "execution_count": null,
   "metadata": {},
   "outputs": [],
   "source": [
    "import numpy as np\n",
    "mesh, qd_cfg, init_conditions = np.load('data0/initial_data.npy')\n",
    "print(mesh)\n",
    "print(qd_cfg)\n",
    "print(init_conditions)"
   ]
  },
  {
   "cell_type": "markdown",
   "metadata": {},
   "source": [
    "Then, the time history and slip/state history is stored each 100 time steps in a file named after the last time step (e.g. `data0/300.npy`)."
   ]
  },
  {
   "cell_type": "code",
   "execution_count": null,
   "metadata": {},
   "outputs": [],
   "source": [
    "ts, ys = np.load('data0/300.npy')\n",
    "print(len(ts))\n",
    "print(len(ys), ys[0].shape)\n",
    "print(ts[:5])\n",
    "print(ys[:5])"
   ]
  },
  {
   "cell_type": "markdown",
   "metadata": {},
   "source": [
    "That should be sufficient to get started analyze the results, but check out the `fullspace_qd_plotter.ipynb` notebook for some built-in tools to make nice figures and videos of the results."
   ]
  }
 ],
 "metadata": {
  "kernelspec": {
   "display_name": "Python 3",
   "language": "python",
   "name": "python3"
  },
  "language_info": {
   "codemirror_mode": {
    "name": "ipython",
    "version": 3
   },
   "file_extension": ".py",
   "mimetype": "text/x-python",
   "name": "python",
   "nbconvert_exporter": "python",
   "pygments_lexer": "ipython3",
   "version": "3.6.6"
  }
 },
 "nbformat": 4,
 "nbformat_minor": 2
}

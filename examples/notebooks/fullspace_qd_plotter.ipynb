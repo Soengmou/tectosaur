{
 "cells": [
  {
   "cell_type": "markdown",
   "metadata": {},
   "source": [
    "# Quasidynamic earthquake simulation plotting\n",
    "\n",
    "Here, we'll make some useful plots to see what happened in the QD simulation from `fullspace_qd_run.ipynb`.\n",
    "\n",
    "First, let's import our tools!"
   ]
  },
  {
   "cell_type": "code",
   "execution_count": null,
   "metadata": {},
   "outputs": [],
   "source": [
    "import numpy as np\n",
    "import matplotlib.pyplot as plt\n",
    "\n",
    "import qd\n",
    "import qd.plotting\n",
    "qd.configure(\n",
    "    gpu_idx = 0, # Which GPU to use if there are multiple. Best to leave as 0. \n",
    "    fast_plot = True, # Let's make fast, inexpensive figures. Set to false for higher resolution plots with latex fonts. \n",
    ")"
   ]
  },
  {
   "cell_type": "markdown",
   "metadata": {},
   "source": [
    "Now, we load the data from the previous run. Check what folder was created! If you ran the simulation code multiple times, each time a new folder will be created in sequential order (data0, data1, data2, ...). "
   ]
  },
  {
   "cell_type": "code",
   "execution_count": null,
   "metadata": {},
   "outputs": [],
   "source": [
    "folder_name = 'data0'\n",
    "data = qd.load(folder_name, qd.FullspaceModel)"
   ]
  },
  {
   "cell_type": "markdown",
   "metadata": {},
   "source": [
    "It can be nice to make some figures while the simulation is still running. For long running, large simulations, it's expensive to reload all the data, so `load_new_files()` allows updating the data object with any new time steps that have been completed and saved. By default, results are saved in 100 time step chunks. Look in the `data0` folder to see."
   ]
  },
  {
   "cell_type": "code",
   "execution_count": null,
   "metadata": {},
   "outputs": [],
   "source": [
    "data.load_new_files()"
   ]
  },
  {
   "cell_type": "markdown",
   "metadata": {},
   "source": [
    "Create the plotting object. This process the data a bit to make field like slip and velocity easier to plot."
   ]
  },
  {
   "cell_type": "code",
   "execution_count": null,
   "metadata": {},
   "outputs": [],
   "source": [
    "qdp = qd.plotting.QDPlotData(data)"
   ]
  },
  {
   "cell_type": "markdown",
   "metadata": {},
   "source": [
    "The `summary()` function makes four useful plots that show the overall evolution of the fault:\n",
    "\n",
    "1. The minimum state variable value on the fault as a function of time.\n",
    "2. The $log_{10}$ of the maximum slip rate on the fault as a function of time.\n",
    "3. The time as a function of time step index.\n",
    "4. The time step size as a function of time step index.\n",
    "\n",
    "From this summary, we can see that as the fault evolved, there were some slow slip events of growing magnitude until at approximate time 0.042, the fault ruptured for the first time. It ruptured again at time 0.047."
   ]
  },
  {
   "cell_type": "code",
   "execution_count": null,
   "metadata": {},
   "outputs": [],
   "source": [
    "qdp.summary()"
   ]
  },
  {
   "cell_type": "markdown",
   "metadata": {},
   "source": [
    "The `qdp.V_info` function provides the necessary values, levels, contour levels, and colormap to the `qdp.nicefig` function to make a handy figure of the state of the x component of slip rate at the 1050th time step. "
   ]
  },
  {
   "cell_type": "code",
   "execution_count": null,
   "metadata": {},
   "outputs": [],
   "source": [
    "qdp.nicefig(*qdp.V_info(1050), dim = [0,2])"
   ]
  },
  {
   "cell_type": "markdown",
   "metadata": {},
   "source": [
    "Let's make a whole bunch of this same figure and turn them into a video. We'll make a figure every 4th step and name the final video `qd_video`. This should create a `qd_video0.mp4` file. Enjoy!"
   ]
  },
  {
   "cell_type": "code",
   "execution_count": null,
   "metadata": {},
   "outputs": [],
   "source": [
    "video_name = qdp.qd_video(range(1, qdp.n_steps, 4), qdp.V_info, video_prefix = 'qd_video', dim = [0,2])\n",
    "qd.plotting.make_mp4(video_name)"
   ]
  }
 ],
 "metadata": {
  "kernelspec": {
   "display_name": "Python 3",
   "language": "python",
   "name": "python3"
  },
  "language_info": {
   "codemirror_mode": {
    "name": "ipython",
    "version": 3
   },
   "file_extension": ".py",
   "mimetype": "text/x-python",
   "name": "python",
   "nbconvert_exporter": "python",
   "pygments_lexer": "ipython3",
   "version": "3.6.6"
  }
 },
 "nbformat": 4,
 "nbformat_minor": 2
}
